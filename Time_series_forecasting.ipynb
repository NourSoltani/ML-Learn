{
  "nbformat": 4,
  "nbformat_minor": 0,
  "metadata": {
    "colab": {
      "provenance": [],
      "collapsed_sections": [
        "i9tdtC7UAdrU",
        "2REmpDS3pdWn",
        "015tfoj9tAAC",
        "bNeX9KBiGIUp"
      ]
    },
    "kernelspec": {
      "name": "python3",
      "display_name": "Python 3"
    },
    "language_info": {
      "name": "python"
    }
  },
  "cells": [
    {
      "cell_type": "markdown",
      "source": [
        "# **A quick introduction to timeseries forecasting using: ARIMA/ Deep Neural Networks, and Recrring Neural Networks (LSTM)**"
      ],
      "metadata": {
        "id": "i9tdtC7UAdrU"
      }
    },
    {
      "cell_type": "code",
      "source": [
        "#Time series= where our signal or information is a function of time\n",
        "#Time series is defined as a series of data points indexed in time order.\n",
        "#In the past we look at a whole bunch of attributes, and try to predict; Is this acat, is this a dog?. or we looked at a while bunch of data and said, okay.. can we sell this or we can't.\n",
        "#But, when it comes to time series, here it's just a function of time.\n",
        "#Basically, if we model teme series, then x(time) doensn't mean anything; it's  just the time is increasing; THe data is not correlated typically with anything but itself; Meaning; if you look back one month\n",
        "#ago, and a month ago, and a month ago, you'll see a pattern, but if you kind f correlate that with something else, you won't see a pattern; That's why time series is different from other type of data.\n",
        "#Many traditional models require the time series to be stationary; If you have used traditional models like autoregression, arima... even Fourier transform based techniques, it requires the data to be stationary\n",
        "#otherwise, how can you forecast if the mean and varaince are chaning. So stationary=Statistical properties such as mean, variance, and serial correlation are constant over time, otherwise, you cannot predict it\n",
        "#**Stationary makes analysis more straightforward, but modern approaches makes it possible to work with data withhout pre-processing for stationarity.\n",
        "\n",
        "#The newer approaches, wether it's LSTMs or approaches like SARIMA for example, are designed to work with some of those datasets that are non-stationary"
      ],
      "metadata": {
        "id": "LwSJ-lN4Ac_0"
      },
      "execution_count": null,
      "outputs": []
    },
    {
      "cell_type": "code",
      "source": [
        "#Thanks to python libraries such as statsmodels and pmdarima: Stationarity,trends, and seasonality can be easily extracted from a timeseries.\n",
        "#Trend= means how does the data trend as a long period of time.\n",
        "#There are many traditional and modern approaches exist to analyze and forecast timeseries; We will be focusing on 3 approaches for python implementation: \n",
        "  #1)Auto-Regressive Integrated Moving Average (ARIMA): The biggest advantage of this model is that it can be applied in cases where the data shows evidence of non-stationarity.\n",
        "  #2)Fully connected NN: Regural deep learning approaches can be used for time series with some data manipulation\n",
        "  #3)Recurrent Neural Networks RNN(LSTM): Long-short-tearm memory(LSTM) is a type of RNN that works well on sequences/timeseries.\n"
      ],
      "metadata": {
        "id": "zflVztleVaTl"
      },
      "execution_count": null,
      "outputs": []
    },
    {
      "cell_type": "code",
      "source": [
        "#A quick summary of ARIMA\n",
        "#ARIMA model for time series forecasting\n",
        "##ARIMA is specified by three order parameters: (p,d,q)\n",
        "#AR(p) Autoregression-- An auto regressive (AR(p)) component refers to the use of past values in the regression equation for the time series\n",
        "#=> The p component is the one that kind of controls the auto regression, or defines the auto regression part\n",
        "\n",
        "#I(d) Integration -- Uses differencing of observations (Subtracting an observation from observation at the previous time step) in order to make the time series stationary.\n",
        "#=> Which is basically it uses the differencing of observations.\n",
        "\n",
        "#MA(q): Moving Average-- A moving average component depicts the error of the model as a combination of previos error terms. The order q represents the number of terms tobe included in the model.\n",
        "\n",
        "##Various flavors of ARIMA Model:\n",
        "  #ARIMA: Non-seasonal Auto-Regressive Integrated Moving Averages: Which means if you have any stationarity, seasonality.. you know you kind of take care of it during your pre-processing of data.\n",
        "  #SARIMA: Seasonal ARIMA\n",
        "  #SARIMAX: Seasonal ARIMA with exogenous variables\n",
        "  \n",
        "  #Pyramid Auto-ARIMA\n",
        "  #The 'auto_arima' function from the 'pmdarima' library helps us to identify the most optimal parameters for an ARIMA model and returns a fitted ARIMA Model."
      ],
      "metadata": {
        "id": "Eoe4cBvIYWWM"
      },
      "execution_count": null,
      "outputs": []
    },
    {
      "cell_type": "code",
      "source": [
        "#LSTM is designed to work with sequence type of data; which is time series of course, but also NLP: Anytime you deal with sequences, lstms are amazing.\n"
      ],
      "metadata": {
        "id": "_TIWOXUBbn66"
      },
      "execution_count": null,
      "outputs": []
    },
    {
      "cell_type": "markdown",
      "source": [
        "# **Exploring data using python**"
      ],
      "metadata": {
        "id": "2REmpDS3pdWn"
      }
    },
    {
      "cell_type": "code",
      "source": [
        "\"\"\"\n",
        "A quick overview of timeseries. \n",
        "Dataset from: https://www.kaggle.com/rakannimer/air-passengers\n",
        "International Airline Passengers prediction problem.\n",
        "This is a problem where, given a year and a month, the task is to predict \n",
        "the number of international airline passengers in units of 1,000. \n",
        "The data ranges from January 1949 to December 1960, or 12 years, with 144 observations.\n",
        "\"\"\"\n",
        "\n",
        "\n",
        "import numpy as np\n",
        "import matplotlib.pyplot as plt\n",
        "import pandas as pd\n",
        "import seaborn as sns\n",
        "plt.style.use('dark_background')\n",
        "#In addition to that, we are going to use a couple of modules; The one we should mention is called statsmodels\n",
        "from statsmodels.tsa.stattools import adfuller"
      ],
      "metadata": {
        "id": "b80GUhgWq0CR"
      },
      "execution_count": null,
      "outputs": []
    },
    {
      "cell_type": "code",
      "source": [
        "# load the dataset\n",
        "df = pd.read_csv('/content/sample_data/Data/AirPassengers.csv')\n",
        "print(df.dtypes)\n",
        "#The type of Month is object; Which is a text"
      ],
      "metadata": {
        "colab": {
          "base_uri": "https://localhost:8080/"
        },
        "id": "97IbhdLBq80v",
        "outputId": "7a93e625-0b02-4065-fa53-951f3a107375"
      },
      "execution_count": null,
      "outputs": [
        {
          "output_type": "stream",
          "name": "stdout",
          "text": [
            "Month          object\n",
            "#Passengers     int64\n",
            "dtype: object\n"
          ]
        }
      ]
    },
    {
      "cell_type": "code",
      "source": [
        "df"
      ],
      "metadata": {
        "colab": {
          "base_uri": "https://localhost:8080/"
        },
        "id": "qtLimHNrq-_9",
        "outputId": "cc6e58eb-e6fb-44b4-81f6-4b6bc7d0e6c5"
      },
      "execution_count": null,
      "outputs": [
        {
          "output_type": "execute_result",
          "data": {
            "text/plain": [
              "       Month  #Passengers\n",
              "0    1949-01          112\n",
              "1    1949-02          118\n",
              "2    1949-03          132\n",
              "3    1949-04          129\n",
              "4    1949-05          121\n",
              "..       ...          ...\n",
              "139  1960-08          606\n",
              "140  1960-09          508\n",
              "141  1960-10          461\n",
              "142  1960-11          390\n",
              "143  1960-12          432\n",
              "\n",
              "[144 rows x 2 columns]"
            ],
            "text/html": [
              "\n",
              "  <div id=\"df-c4101c73-e639-4b8f-9c40-7970b9b24931\">\n",
              "    <div class=\"colab-df-container\">\n",
              "      <div>\n",
              "<style scoped>\n",
              "    .dataframe tbody tr th:only-of-type {\n",
              "        vertical-align: middle;\n",
              "    }\n",
              "\n",
              "    .dataframe tbody tr th {\n",
              "        vertical-align: top;\n",
              "    }\n",
              "\n",
              "    .dataframe thead th {\n",
              "        text-align: right;\n",
              "    }\n",
              "</style>\n",
              "<table border=\"1\" class=\"dataframe\">\n",
              "  <thead>\n",
              "    <tr style=\"text-align: right;\">\n",
              "      <th></th>\n",
              "      <th>Month</th>\n",
              "      <th>#Passengers</th>\n",
              "    </tr>\n",
              "  </thead>\n",
              "  <tbody>\n",
              "    <tr>\n",
              "      <th>0</th>\n",
              "      <td>1949-01</td>\n",
              "      <td>112</td>\n",
              "    </tr>\n",
              "    <tr>\n",
              "      <th>1</th>\n",
              "      <td>1949-02</td>\n",
              "      <td>118</td>\n",
              "    </tr>\n",
              "    <tr>\n",
              "      <th>2</th>\n",
              "      <td>1949-03</td>\n",
              "      <td>132</td>\n",
              "    </tr>\n",
              "    <tr>\n",
              "      <th>3</th>\n",
              "      <td>1949-04</td>\n",
              "      <td>129</td>\n",
              "    </tr>\n",
              "    <tr>\n",
              "      <th>4</th>\n",
              "      <td>1949-05</td>\n",
              "      <td>121</td>\n",
              "    </tr>\n",
              "    <tr>\n",
              "      <th>...</th>\n",
              "      <td>...</td>\n",
              "      <td>...</td>\n",
              "    </tr>\n",
              "    <tr>\n",
              "      <th>139</th>\n",
              "      <td>1960-08</td>\n",
              "      <td>606</td>\n",
              "    </tr>\n",
              "    <tr>\n",
              "      <th>140</th>\n",
              "      <td>1960-09</td>\n",
              "      <td>508</td>\n",
              "    </tr>\n",
              "    <tr>\n",
              "      <th>141</th>\n",
              "      <td>1960-10</td>\n",
              "      <td>461</td>\n",
              "    </tr>\n",
              "    <tr>\n",
              "      <th>142</th>\n",
              "      <td>1960-11</td>\n",
              "      <td>390</td>\n",
              "    </tr>\n",
              "    <tr>\n",
              "      <th>143</th>\n",
              "      <td>1960-12</td>\n",
              "      <td>432</td>\n",
              "    </tr>\n",
              "  </tbody>\n",
              "</table>\n",
              "<p>144 rows × 2 columns</p>\n",
              "</div>\n",
              "      <button class=\"colab-df-convert\" onclick=\"convertToInteractive('df-c4101c73-e639-4b8f-9c40-7970b9b24931')\"\n",
              "              title=\"Convert this dataframe to an interactive table.\"\n",
              "              style=\"display:none;\">\n",
              "        \n",
              "  <svg xmlns=\"http://www.w3.org/2000/svg\" height=\"24px\"viewBox=\"0 0 24 24\"\n",
              "       width=\"24px\">\n",
              "    <path d=\"M0 0h24v24H0V0z\" fill=\"none\"/>\n",
              "    <path d=\"M18.56 5.44l.94 2.06.94-2.06 2.06-.94-2.06-.94-.94-2.06-.94 2.06-2.06.94zm-11 1L8.5 8.5l.94-2.06 2.06-.94-2.06-.94L8.5 2.5l-.94 2.06-2.06.94zm10 10l.94 2.06.94-2.06 2.06-.94-2.06-.94-.94-2.06-.94 2.06-2.06.94z\"/><path d=\"M17.41 7.96l-1.37-1.37c-.4-.4-.92-.59-1.43-.59-.52 0-1.04.2-1.43.59L10.3 9.45l-7.72 7.72c-.78.78-.78 2.05 0 2.83L4 21.41c.39.39.9.59 1.41.59.51 0 1.02-.2 1.41-.59l7.78-7.78 2.81-2.81c.8-.78.8-2.07 0-2.86zM5.41 20L4 18.59l7.72-7.72 1.47 1.35L5.41 20z\"/>\n",
              "  </svg>\n",
              "      </button>\n",
              "      \n",
              "  <style>\n",
              "    .colab-df-container {\n",
              "      display:flex;\n",
              "      flex-wrap:wrap;\n",
              "      gap: 12px;\n",
              "    }\n",
              "\n",
              "    .colab-df-convert {\n",
              "      background-color: #E8F0FE;\n",
              "      border: none;\n",
              "      border-radius: 50%;\n",
              "      cursor: pointer;\n",
              "      display: none;\n",
              "      fill: #1967D2;\n",
              "      height: 32px;\n",
              "      padding: 0 0 0 0;\n",
              "      width: 32px;\n",
              "    }\n",
              "\n",
              "    .colab-df-convert:hover {\n",
              "      background-color: #E2EBFA;\n",
              "      box-shadow: 0px 1px 2px rgba(60, 64, 67, 0.3), 0px 1px 3px 1px rgba(60, 64, 67, 0.15);\n",
              "      fill: #174EA6;\n",
              "    }\n",
              "\n",
              "    [theme=dark] .colab-df-convert {\n",
              "      background-color: #3B4455;\n",
              "      fill: #D2E3FC;\n",
              "    }\n",
              "\n",
              "    [theme=dark] .colab-df-convert:hover {\n",
              "      background-color: #434B5C;\n",
              "      box-shadow: 0px 1px 3px 1px rgba(0, 0, 0, 0.15);\n",
              "      filter: drop-shadow(0px 1px 2px rgba(0, 0, 0, 0.3));\n",
              "      fill: #FFFFFF;\n",
              "    }\n",
              "  </style>\n",
              "\n",
              "      <script>\n",
              "        const buttonEl =\n",
              "          document.querySelector('#df-c4101c73-e639-4b8f-9c40-7970b9b24931 button.colab-df-convert');\n",
              "        buttonEl.style.display =\n",
              "          google.colab.kernel.accessAllowed ? 'block' : 'none';\n",
              "\n",
              "        async function convertToInteractive(key) {\n",
              "          const element = document.querySelector('#df-c4101c73-e639-4b8f-9c40-7970b9b24931');\n",
              "          const dataTable =\n",
              "            await google.colab.kernel.invokeFunction('convertToInteractive',\n",
              "                                                     [key], {});\n",
              "          if (!dataTable) return;\n",
              "\n",
              "          const docLinkHtml = 'Like what you see? Visit the ' +\n",
              "            '<a target=\"_blank\" href=https://colab.research.google.com/notebooks/data_table.ipynb>data table notebook</a>'\n",
              "            + ' to learn more about interactive tables.';\n",
              "          element.innerHTML = '';\n",
              "          dataTable['output_type'] = 'display_data';\n",
              "          await google.colab.output.renderOutput(dataTable, element);\n",
              "          const docLink = document.createElement('div');\n",
              "          docLink.innerHTML = docLinkHtml;\n",
              "          element.appendChild(docLink);\n",
              "        }\n",
              "      </script>\n",
              "    </div>\n",
              "  </div>\n",
              "  "
            ]
          },
          "metadata": {},
          "execution_count": 4
        }
      ]
    },
    {
      "cell_type": "code",
      "source": [
        "df['Month'] = pd.to_datetime(df['Month']) #We are going to change its type from object to datetime format\n",
        "print(df.dtypes)"
      ],
      "metadata": {
        "colab": {
          "base_uri": "https://localhost:8080/"
        },
        "id": "RY36KwJwKKYC",
        "outputId": "15e02f72-ef9f-40c6-dd1a-a2980f179816"
      },
      "execution_count": null,
      "outputs": [
        {
          "output_type": "stream",
          "name": "stdout",
          "text": [
            "Month          datetime64[ns]\n",
            "#Passengers             int64\n",
            "dtype: object\n"
          ]
        }
      ]
    },
    {
      "cell_type": "code",
      "source": [
        "df"
      ],
      "metadata": {
        "colab": {
          "base_uri": "https://localhost:8080/"
        },
        "id": "4muvAufZKpIe",
        "outputId": "56b1f4db-2d43-42cb-f92e-19952e842945"
      },
      "execution_count": null,
      "outputs": [
        {
          "output_type": "execute_result",
          "data": {
            "text/plain": [
              "         Month  #Passengers\n",
              "0   1949-01-01          112\n",
              "1   1949-02-01          118\n",
              "2   1949-03-01          132\n",
              "3   1949-04-01          129\n",
              "4   1949-05-01          121\n",
              "..         ...          ...\n",
              "139 1960-08-01          606\n",
              "140 1960-09-01          508\n",
              "141 1960-10-01          461\n",
              "142 1960-11-01          390\n",
              "143 1960-12-01          432\n",
              "\n",
              "[144 rows x 2 columns]"
            ],
            "text/html": [
              "\n",
              "  <div id=\"df-f24d8974-850f-4081-87e9-2d10c3f10d12\">\n",
              "    <div class=\"colab-df-container\">\n",
              "      <div>\n",
              "<style scoped>\n",
              "    .dataframe tbody tr th:only-of-type {\n",
              "        vertical-align: middle;\n",
              "    }\n",
              "\n",
              "    .dataframe tbody tr th {\n",
              "        vertical-align: top;\n",
              "    }\n",
              "\n",
              "    .dataframe thead th {\n",
              "        text-align: right;\n",
              "    }\n",
              "</style>\n",
              "<table border=\"1\" class=\"dataframe\">\n",
              "  <thead>\n",
              "    <tr style=\"text-align: right;\">\n",
              "      <th></th>\n",
              "      <th>Month</th>\n",
              "      <th>#Passengers</th>\n",
              "    </tr>\n",
              "  </thead>\n",
              "  <tbody>\n",
              "    <tr>\n",
              "      <th>0</th>\n",
              "      <td>1949-01-01</td>\n",
              "      <td>112</td>\n",
              "    </tr>\n",
              "    <tr>\n",
              "      <th>1</th>\n",
              "      <td>1949-02-01</td>\n",
              "      <td>118</td>\n",
              "    </tr>\n",
              "    <tr>\n",
              "      <th>2</th>\n",
              "      <td>1949-03-01</td>\n",
              "      <td>132</td>\n",
              "    </tr>\n",
              "    <tr>\n",
              "      <th>3</th>\n",
              "      <td>1949-04-01</td>\n",
              "      <td>129</td>\n",
              "    </tr>\n",
              "    <tr>\n",
              "      <th>4</th>\n",
              "      <td>1949-05-01</td>\n",
              "      <td>121</td>\n",
              "    </tr>\n",
              "    <tr>\n",
              "      <th>...</th>\n",
              "      <td>...</td>\n",
              "      <td>...</td>\n",
              "    </tr>\n",
              "    <tr>\n",
              "      <th>139</th>\n",
              "      <td>1960-08-01</td>\n",
              "      <td>606</td>\n",
              "    </tr>\n",
              "    <tr>\n",
              "      <th>140</th>\n",
              "      <td>1960-09-01</td>\n",
              "      <td>508</td>\n",
              "    </tr>\n",
              "    <tr>\n",
              "      <th>141</th>\n",
              "      <td>1960-10-01</td>\n",
              "      <td>461</td>\n",
              "    </tr>\n",
              "    <tr>\n",
              "      <th>142</th>\n",
              "      <td>1960-11-01</td>\n",
              "      <td>390</td>\n",
              "    </tr>\n",
              "    <tr>\n",
              "      <th>143</th>\n",
              "      <td>1960-12-01</td>\n",
              "      <td>432</td>\n",
              "    </tr>\n",
              "  </tbody>\n",
              "</table>\n",
              "<p>144 rows × 2 columns</p>\n",
              "</div>\n",
              "      <button class=\"colab-df-convert\" onclick=\"convertToInteractive('df-f24d8974-850f-4081-87e9-2d10c3f10d12')\"\n",
              "              title=\"Convert this dataframe to an interactive table.\"\n",
              "              style=\"display:none;\">\n",
              "        \n",
              "  <svg xmlns=\"http://www.w3.org/2000/svg\" height=\"24px\"viewBox=\"0 0 24 24\"\n",
              "       width=\"24px\">\n",
              "    <path d=\"M0 0h24v24H0V0z\" fill=\"none\"/>\n",
              "    <path d=\"M18.56 5.44l.94 2.06.94-2.06 2.06-.94-2.06-.94-.94-2.06-.94 2.06-2.06.94zm-11 1L8.5 8.5l.94-2.06 2.06-.94-2.06-.94L8.5 2.5l-.94 2.06-2.06.94zm10 10l.94 2.06.94-2.06 2.06-.94-2.06-.94-.94-2.06-.94 2.06-2.06.94z\"/><path d=\"M17.41 7.96l-1.37-1.37c-.4-.4-.92-.59-1.43-.59-.52 0-1.04.2-1.43.59L10.3 9.45l-7.72 7.72c-.78.78-.78 2.05 0 2.83L4 21.41c.39.39.9.59 1.41.59.51 0 1.02-.2 1.41-.59l7.78-7.78 2.81-2.81c.8-.78.8-2.07 0-2.86zM5.41 20L4 18.59l7.72-7.72 1.47 1.35L5.41 20z\"/>\n",
              "  </svg>\n",
              "      </button>\n",
              "      \n",
              "  <style>\n",
              "    .colab-df-container {\n",
              "      display:flex;\n",
              "      flex-wrap:wrap;\n",
              "      gap: 12px;\n",
              "    }\n",
              "\n",
              "    .colab-df-convert {\n",
              "      background-color: #E8F0FE;\n",
              "      border: none;\n",
              "      border-radius: 50%;\n",
              "      cursor: pointer;\n",
              "      display: none;\n",
              "      fill: #1967D2;\n",
              "      height: 32px;\n",
              "      padding: 0 0 0 0;\n",
              "      width: 32px;\n",
              "    }\n",
              "\n",
              "    .colab-df-convert:hover {\n",
              "      background-color: #E2EBFA;\n",
              "      box-shadow: 0px 1px 2px rgba(60, 64, 67, 0.3), 0px 1px 3px 1px rgba(60, 64, 67, 0.15);\n",
              "      fill: #174EA6;\n",
              "    }\n",
              "\n",
              "    [theme=dark] .colab-df-convert {\n",
              "      background-color: #3B4455;\n",
              "      fill: #D2E3FC;\n",
              "    }\n",
              "\n",
              "    [theme=dark] .colab-df-convert:hover {\n",
              "      background-color: #434B5C;\n",
              "      box-shadow: 0px 1px 3px 1px rgba(0, 0, 0, 0.15);\n",
              "      filter: drop-shadow(0px 1px 2px rgba(0, 0, 0, 0.3));\n",
              "      fill: #FFFFFF;\n",
              "    }\n",
              "  </style>\n",
              "\n",
              "      <script>\n",
              "        const buttonEl =\n",
              "          document.querySelector('#df-f24d8974-850f-4081-87e9-2d10c3f10d12 button.colab-df-convert');\n",
              "        buttonEl.style.display =\n",
              "          google.colab.kernel.accessAllowed ? 'block' : 'none';\n",
              "\n",
              "        async function convertToInteractive(key) {\n",
              "          const element = document.querySelector('#df-f24d8974-850f-4081-87e9-2d10c3f10d12');\n",
              "          const dataTable =\n",
              "            await google.colab.kernel.invokeFunction('convertToInteractive',\n",
              "                                                     [key], {});\n",
              "          if (!dataTable) return;\n",
              "\n",
              "          const docLinkHtml = 'Like what you see? Visit the ' +\n",
              "            '<a target=\"_blank\" href=https://colab.research.google.com/notebooks/data_table.ipynb>data table notebook</a>'\n",
              "            + ' to learn more about interactive tables.';\n",
              "          element.innerHTML = '';\n",
              "          dataTable['output_type'] = 'display_data';\n",
              "          await google.colab.output.renderOutput(dataTable, element);\n",
              "          const docLink = document.createElement('div');\n",
              "          docLink.innerHTML = docLinkHtml;\n",
              "          element.appendChild(docLink);\n",
              "        }\n",
              "      </script>\n",
              "    </div>\n",
              "  </div>\n",
              "  "
            ]
          },
          "metadata": {},
          "execution_count": 8
        }
      ]
    },
    {
      "cell_type": "code",
      "source": [
        "#typically it helps when we choose index as same as month:\n",
        "df.set_index('Month', inplace=True) "
      ],
      "metadata": {
        "id": "SA5dG-kqKwYn"
      },
      "execution_count": null,
      "outputs": []
    },
    {
      "cell_type": "code",
      "source": [
        "df\n",
        "#As we can see, our first column with index 0 1 2 3, which was absolutely useless, that's replaced by our month"
      ],
      "metadata": {
        "colab": {
          "base_uri": "https://localhost:8080/"
        },
        "id": "TxhuavgtKx_h",
        "outputId": "b072adc4-c803-4c1e-d875-2abca2d67d08"
      },
      "execution_count": null,
      "outputs": [
        {
          "output_type": "execute_result",
          "data": {
            "text/plain": [
              "            #Passengers\n",
              "Month                  \n",
              "1949-01-01          112\n",
              "1949-02-01          118\n",
              "1949-03-01          132\n",
              "1949-04-01          129\n",
              "1949-05-01          121\n",
              "...                 ...\n",
              "1960-08-01          606\n",
              "1960-09-01          508\n",
              "1960-10-01          461\n",
              "1960-11-01          390\n",
              "1960-12-01          432\n",
              "\n",
              "[144 rows x 1 columns]"
            ],
            "text/html": [
              "\n",
              "  <div id=\"df-ac1277d5-5129-4884-9aac-39349c725017\">\n",
              "    <div class=\"colab-df-container\">\n",
              "      <div>\n",
              "<style scoped>\n",
              "    .dataframe tbody tr th:only-of-type {\n",
              "        vertical-align: middle;\n",
              "    }\n",
              "\n",
              "    .dataframe tbody tr th {\n",
              "        vertical-align: top;\n",
              "    }\n",
              "\n",
              "    .dataframe thead th {\n",
              "        text-align: right;\n",
              "    }\n",
              "</style>\n",
              "<table border=\"1\" class=\"dataframe\">\n",
              "  <thead>\n",
              "    <tr style=\"text-align: right;\">\n",
              "      <th></th>\n",
              "      <th>#Passengers</th>\n",
              "    </tr>\n",
              "    <tr>\n",
              "      <th>Month</th>\n",
              "      <th></th>\n",
              "    </tr>\n",
              "  </thead>\n",
              "  <tbody>\n",
              "    <tr>\n",
              "      <th>1949-01-01</th>\n",
              "      <td>112</td>\n",
              "    </tr>\n",
              "    <tr>\n",
              "      <th>1949-02-01</th>\n",
              "      <td>118</td>\n",
              "    </tr>\n",
              "    <tr>\n",
              "      <th>1949-03-01</th>\n",
              "      <td>132</td>\n",
              "    </tr>\n",
              "    <tr>\n",
              "      <th>1949-04-01</th>\n",
              "      <td>129</td>\n",
              "    </tr>\n",
              "    <tr>\n",
              "      <th>1949-05-01</th>\n",
              "      <td>121</td>\n",
              "    </tr>\n",
              "    <tr>\n",
              "      <th>...</th>\n",
              "      <td>...</td>\n",
              "    </tr>\n",
              "    <tr>\n",
              "      <th>1960-08-01</th>\n",
              "      <td>606</td>\n",
              "    </tr>\n",
              "    <tr>\n",
              "      <th>1960-09-01</th>\n",
              "      <td>508</td>\n",
              "    </tr>\n",
              "    <tr>\n",
              "      <th>1960-10-01</th>\n",
              "      <td>461</td>\n",
              "    </tr>\n",
              "    <tr>\n",
              "      <th>1960-11-01</th>\n",
              "      <td>390</td>\n",
              "    </tr>\n",
              "    <tr>\n",
              "      <th>1960-12-01</th>\n",
              "      <td>432</td>\n",
              "    </tr>\n",
              "  </tbody>\n",
              "</table>\n",
              "<p>144 rows × 1 columns</p>\n",
              "</div>\n",
              "      <button class=\"colab-df-convert\" onclick=\"convertToInteractive('df-ac1277d5-5129-4884-9aac-39349c725017')\"\n",
              "              title=\"Convert this dataframe to an interactive table.\"\n",
              "              style=\"display:none;\">\n",
              "        \n",
              "  <svg xmlns=\"http://www.w3.org/2000/svg\" height=\"24px\"viewBox=\"0 0 24 24\"\n",
              "       width=\"24px\">\n",
              "    <path d=\"M0 0h24v24H0V0z\" fill=\"none\"/>\n",
              "    <path d=\"M18.56 5.44l.94 2.06.94-2.06 2.06-.94-2.06-.94-.94-2.06-.94 2.06-2.06.94zm-11 1L8.5 8.5l.94-2.06 2.06-.94-2.06-.94L8.5 2.5l-.94 2.06-2.06.94zm10 10l.94 2.06.94-2.06 2.06-.94-2.06-.94-.94-2.06-.94 2.06-2.06.94z\"/><path d=\"M17.41 7.96l-1.37-1.37c-.4-.4-.92-.59-1.43-.59-.52 0-1.04.2-1.43.59L10.3 9.45l-7.72 7.72c-.78.78-.78 2.05 0 2.83L4 21.41c.39.39.9.59 1.41.59.51 0 1.02-.2 1.41-.59l7.78-7.78 2.81-2.81c.8-.78.8-2.07 0-2.86zM5.41 20L4 18.59l7.72-7.72 1.47 1.35L5.41 20z\"/>\n",
              "  </svg>\n",
              "      </button>\n",
              "      \n",
              "  <style>\n",
              "    .colab-df-container {\n",
              "      display:flex;\n",
              "      flex-wrap:wrap;\n",
              "      gap: 12px;\n",
              "    }\n",
              "\n",
              "    .colab-df-convert {\n",
              "      background-color: #E8F0FE;\n",
              "      border: none;\n",
              "      border-radius: 50%;\n",
              "      cursor: pointer;\n",
              "      display: none;\n",
              "      fill: #1967D2;\n",
              "      height: 32px;\n",
              "      padding: 0 0 0 0;\n",
              "      width: 32px;\n",
              "    }\n",
              "\n",
              "    .colab-df-convert:hover {\n",
              "      background-color: #E2EBFA;\n",
              "      box-shadow: 0px 1px 2px rgba(60, 64, 67, 0.3), 0px 1px 3px 1px rgba(60, 64, 67, 0.15);\n",
              "      fill: #174EA6;\n",
              "    }\n",
              "\n",
              "    [theme=dark] .colab-df-convert {\n",
              "      background-color: #3B4455;\n",
              "      fill: #D2E3FC;\n",
              "    }\n",
              "\n",
              "    [theme=dark] .colab-df-convert:hover {\n",
              "      background-color: #434B5C;\n",
              "      box-shadow: 0px 1px 3px 1px rgba(0, 0, 0, 0.15);\n",
              "      filter: drop-shadow(0px 1px 2px rgba(0, 0, 0, 0.3));\n",
              "      fill: #FFFFFF;\n",
              "    }\n",
              "  </style>\n",
              "\n",
              "      <script>\n",
              "        const buttonEl =\n",
              "          document.querySelector('#df-ac1277d5-5129-4884-9aac-39349c725017 button.colab-df-convert');\n",
              "        buttonEl.style.display =\n",
              "          google.colab.kernel.accessAllowed ? 'block' : 'none';\n",
              "\n",
              "        async function convertToInteractive(key) {\n",
              "          const element = document.querySelector('#df-ac1277d5-5129-4884-9aac-39349c725017');\n",
              "          const dataTable =\n",
              "            await google.colab.kernel.invokeFunction('convertToInteractive',\n",
              "                                                     [key], {});\n",
              "          if (!dataTable) return;\n",
              "\n",
              "          const docLinkHtml = 'Like what you see? Visit the ' +\n",
              "            '<a target=\"_blank\" href=https://colab.research.google.com/notebooks/data_table.ipynb>data table notebook</a>'\n",
              "            + ' to learn more about interactive tables.';\n",
              "          element.innerHTML = '';\n",
              "          dataTable['output_type'] = 'display_data';\n",
              "          await google.colab.output.renderOutput(dataTable, element);\n",
              "          const docLink = document.createElement('div');\n",
              "          docLink.innerHTML = docLinkHtml;\n",
              "          element.appendChild(docLink);\n",
              "        }\n",
              "      </script>\n",
              "    </div>\n",
              "  </div>\n",
              "  "
            ]
          },
          "metadata": {},
          "execution_count": 10
        }
      ]
    },
    {
      "cell_type": "code",
      "source": [
        "plt.plot(df['#Passengers'])\n",
        "#We observe that the trend is going up.. Also, there is something like a seasonality(it's going up and coming down...)\n"
      ],
      "metadata": {
        "colab": {
          "base_uri": "https://localhost:8080/"
        },
        "id": "CsamA06XLJjm",
        "outputId": "ae52b623-171e-4432-c185-8f96ec5339e0"
      },
      "execution_count": null,
      "outputs": [
        {
          "output_type": "execute_result",
          "data": {
            "text/plain": [
              "[<matplotlib.lines.Line2D at 0x7f8305013a10>]"
            ]
          },
          "metadata": {},
          "execution_count": 11
        },
        {
          "output_type": "display_data",
          "data": {
            "text/plain": [
              "<Figure size 432x288 with 1 Axes>"
            ],
            "image/png": "[encoded data removed]"
          },
          "metadata": {}
        }
      ]
    },
    {
      "cell_type": "code",
      "source": [
        "#Is the data stationary? what does that mean? it means does the mean and the variance are not changing as a function of time in the timeseries.. So we can easily predict.\n",
        "#As we can see.. the data is not stationary.. It's actually going up, and there's seasonality there.\n",
        "#In statistics, there is something famous called \"Dickey-Fuller test\": You start with null hypothethis, and then if the p value, or the probability, is above 5%(0.005) then you say ok, the data is porbably not likely stationary\n",
        "#Dickey-Fuller test\n",
        "from statsmodels.tsa.stattools import adfuller\n",
        "adf, pvalue, usedlag_, nobs_, critical_values_, icbest_ = adfuller(df)\n",
        "print(\"pvalue = \", pvalue, \" if above 0.05, data is not stationary\")\n",
        "#Since data is not stationary, we may need SARIMA and not just ARIMA\n"
      ],
      "metadata": {
        "colab": {
          "base_uri": "https://localhost:8080/"
        },
        "id": "yy80QK-JVB26",
        "outputId": "e9f37012-d541-4ef1-b16b-99db5817536e"
      },
      "execution_count": null,
      "outputs": [
        {
          "output_type": "stream",
          "name": "stdout",
          "text": [
            "pvalue =  0.991880243437641  if above 0.05, data is not stationary\n"
          ]
        }
      ]
    },
    {
      "cell_type": "code",
      "source": [
        "df['year'] = [d.year for d in df.index]\n",
        "df['month'] = [d.strftime('%b') for d in df.index] #strftime: we are going to strip the month part from the index\n",
        "years = df['year'].unique()\n",
        "#So this helps us have a quick look at are there any trends with respect to month, with respect to year: So we are exploring the data, we are not forecasting yet"
      ],
      "metadata": {
        "id": "y5ZZqYpHfjjS"
      },
      "execution_count": null,
      "outputs": []
    },
    {
      "cell_type": "code",
      "source": [
        "df"
      ],
      "metadata": {
        "colab": {
          "base_uri": "https://localhost:8080/"
        },
        "id": "QF9ARa5tflba",
        "outputId": "cd281626-a941-417e-c51e-1d9a4bed4ff6"
      },
      "execution_count": null,
      "outputs": [
        {
          "output_type": "execute_result",
          "data": {
            "text/plain": [
              "            #Passengers  year month\n",
              "Month                              \n",
              "1949-01-01          112  1949   Jan\n",
              "1949-02-01          118  1949   Feb\n",
              "1949-03-01          132  1949   Mar\n",
              "1949-04-01          129  1949   Apr\n",
              "1949-05-01          121  1949   May\n",
              "...                 ...   ...   ...\n",
              "1960-08-01          606  1960   Aug\n",
              "1960-09-01          508  1960   Sep\n",
              "1960-10-01          461  1960   Oct\n",
              "1960-11-01          390  1960   Nov\n",
              "1960-12-01          432  1960   Dec\n",
              "\n",
              "[144 rows x 3 columns]"
            ],
            "text/html": [
              "\n",
              "  <div id=\"df-b691f075-2b88-4fdf-bbf6-44f6a921b02b\">\n",
              "    <div class=\"colab-df-container\">\n",
              "      <div>\n",
              "<style scoped>\n",
              "    .dataframe tbody tr th:only-of-type {\n",
              "        vertical-align: middle;\n",
              "    }\n",
              "\n",
              "    .dataframe tbody tr th {\n",
              "        vertical-align: top;\n",
              "    }\n",
              "\n",
              "    .dataframe thead th {\n",
              "        text-align: right;\n",
              "    }\n",
              "</style>\n",
              "<table border=\"1\" class=\"dataframe\">\n",
              "  <thead>\n",
              "    <tr style=\"text-align: right;\">\n",
              "      <th></th>\n",
              "      <th>#Passengers</th>\n",
              "      <th>year</th>\n",
              "      <th>month</th>\n",
              "    </tr>\n",
              "    <tr>\n",
              "      <th>Month</th>\n",
              "      <th></th>\n",
              "      <th></th>\n",
              "      <th></th>\n",
              "    </tr>\n",
              "  </thead>\n",
              "  <tbody>\n",
              "    <tr>\n",
              "      <th>1949-01-01</th>\n",
              "      <td>112</td>\n",
              "      <td>1949</td>\n",
              "      <td>Jan</td>\n",
              "    </tr>\n",
              "    <tr>\n",
              "      <th>1949-02-01</th>\n",
              "      <td>118</td>\n",
              "      <td>1949</td>\n",
              "      <td>Feb</td>\n",
              "    </tr>\n",
              "    <tr>\n",
              "      <th>1949-03-01</th>\n",
              "      <td>132</td>\n",
              "      <td>1949</td>\n",
              "      <td>Mar</td>\n",
              "    </tr>\n",
              "    <tr>\n",
              "      <th>1949-04-01</th>\n",
              "      <td>129</td>\n",
              "      <td>1949</td>\n",
              "      <td>Apr</td>\n",
              "    </tr>\n",
              "    <tr>\n",
              "      <th>1949-05-01</th>\n",
              "      <td>121</td>\n",
              "      <td>1949</td>\n",
              "      <td>May</td>\n",
              "    </tr>\n",
              "    <tr>\n",
              "      <th>...</th>\n",
              "      <td>...</td>\n",
              "      <td>...</td>\n",
              "      <td>...</td>\n",
              "    </tr>\n",
              "    <tr>\n",
              "      <th>1960-08-01</th>\n",
              "      <td>606</td>\n",
              "      <td>1960</td>\n",
              "      <td>Aug</td>\n",
              "    </tr>\n",
              "    <tr>\n",
              "      <th>1960-09-01</th>\n",
              "      <td>508</td>\n",
              "      <td>1960</td>\n",
              "      <td>Sep</td>\n",
              "    </tr>\n",
              "    <tr>\n",
              "      <th>1960-10-01</th>\n",
              "      <td>461</td>\n",
              "      <td>1960</td>\n",
              "      <td>Oct</td>\n",
              "    </tr>\n",
              "    <tr>\n",
              "      <th>1960-11-01</th>\n",
              "      <td>390</td>\n",
              "      <td>1960</td>\n",
              "      <td>Nov</td>\n",
              "    </tr>\n",
              "    <tr>\n",
              "      <th>1960-12-01</th>\n",
              "      <td>432</td>\n",
              "      <td>1960</td>\n",
              "      <td>Dec</td>\n",
              "    </tr>\n",
              "  </tbody>\n",
              "</table>\n",
              "<p>144 rows × 3 columns</p>\n",
              "</div>\n",
              "      <button class=\"colab-df-convert\" onclick=\"convertToInteractive('df-b691f075-2b88-4fdf-bbf6-44f6a921b02b')\"\n",
              "              title=\"Convert this dataframe to an interactive table.\"\n",
              "              style=\"display:none;\">\n",
              "        \n",
              "  <svg xmlns=\"http://www.w3.org/2000/svg\" height=\"24px\"viewBox=\"0 0 24 24\"\n",
              "       width=\"24px\">\n",
              "    <path d=\"M0 0h24v24H0V0z\" fill=\"none\"/>\n",
              "    <path d=\"M18.56 5.44l.94 2.06.94-2.06 2.06-.94-2.06-.94-.94-2.06-.94 2.06-2.06.94zm-11 1L8.5 8.5l.94-2.06 2.06-.94-2.06-.94L8.5 2.5l-.94 2.06-2.06.94zm10 10l.94 2.06.94-2.06 2.06-.94-2.06-.94-.94-2.06-.94 2.06-2.06.94z\"/><path d=\"M17.41 7.96l-1.37-1.37c-.4-.4-.92-.59-1.43-.59-.52 0-1.04.2-1.43.59L10.3 9.45l-7.72 7.72c-.78.78-.78 2.05 0 2.83L4 21.41c.39.39.9.59 1.41.59.51 0 1.02-.2 1.41-.59l7.78-7.78 2.81-2.81c.8-.78.8-2.07 0-2.86zM5.41 20L4 18.59l7.72-7.72 1.47 1.35L5.41 20z\"/>\n",
              "  </svg>\n",
              "      </button>\n",
              "      \n",
              "  <style>\n",
              "    .colab-df-container {\n",
              "      display:flex;\n",
              "      flex-wrap:wrap;\n",
              "      gap: 12px;\n",
              "    }\n",
              "\n",
              "    .colab-df-convert {\n",
              "      background-color: #E8F0FE;\n",
              "      border: none;\n",
              "      border-radius: 50%;\n",
              "      cursor: pointer;\n",
              "      display: none;\n",
              "      fill: #1967D2;\n",
              "      height: 32px;\n",
              "      padding: 0 0 0 0;\n",
              "      width: 32px;\n",
              "    }\n",
              "\n",
              "    .colab-df-convert:hover {\n",
              "      background-color: #E2EBFA;\n",
              "      box-shadow: 0px 1px 2px rgba(60, 64, 67, 0.3), 0px 1px 3px 1px rgba(60, 64, 67, 0.15);\n",
              "      fill: #174EA6;\n",
              "    }\n",
              "\n",
              "    [theme=dark] .colab-df-convert {\n",
              "      background-color: #3B4455;\n",
              "      fill: #D2E3FC;\n",
              "    }\n",
              "\n",
              "    [theme=dark] .colab-df-convert:hover {\n",
              "      background-color: #434B5C;\n",
              "      box-shadow: 0px 1px 3px 1px rgba(0, 0, 0, 0.15);\n",
              "      filter: drop-shadow(0px 1px 2px rgba(0, 0, 0, 0.3));\n",
              "      fill: #FFFFFF;\n",
              "    }\n",
              "  </style>\n",
              "\n",
              "      <script>\n",
              "        const buttonEl =\n",
              "          document.querySelector('#df-b691f075-2b88-4fdf-bbf6-44f6a921b02b button.colab-df-convert');\n",
              "        buttonEl.style.display =\n",
              "          google.colab.kernel.accessAllowed ? 'block' : 'none';\n",
              "\n",
              "        async function convertToInteractive(key) {\n",
              "          const element = document.querySelector('#df-b691f075-2b88-4fdf-bbf6-44f6a921b02b');\n",
              "          const dataTable =\n",
              "            await google.colab.kernel.invokeFunction('convertToInteractive',\n",
              "                                                     [key], {});\n",
              "          if (!dataTable) return;\n",
              "\n",
              "          const docLinkHtml = 'Like what you see? Visit the ' +\n",
              "            '<a target=\"_blank\" href=https://colab.research.google.com/notebooks/data_table.ipynb>data table notebook</a>'\n",
              "            + ' to learn more about interactive tables.';\n",
              "          element.innerHTML = '';\n",
              "          dataTable['output_type'] = 'display_data';\n",
              "          await google.colab.output.renderOutput(dataTable, element);\n",
              "          const docLink = document.createElement('div');\n",
              "          docLink.innerHTML = docLinkHtml;\n",
              "          element.appendChild(docLink);\n",
              "        }\n",
              "      </script>\n",
              "    </div>\n",
              "  </div>\n",
              "  "
            ]
          },
          "metadata": {},
          "execution_count": 14
        }
      ]
    },
    {
      "cell_type": "code",
      "source": [
        "#Plot yearly and monthly values as boxplot\n",
        "sns.boxplot(x='year', y='#Passengers', data=df)\n",
        "sns.boxplot(x='month', y='#Passengers', data=df)\n",
        "\n",
        "##It plots the confidece intervals; So, it makes it a bit easy for us to quickly get a glance at the mean and the confidence interval; So that's one of the advantages of seaborn compared to regular pyplot\n"
      ],
      "metadata": {
        "colab": {
          "base_uri": "https://localhost:8080/"
        },
        "id": "6WL24XyDgCnG",
        "outputId": "335e7ea3-797c-4bc4-e48b-93fe8cb0654e"
      },
      "execution_count": null,
      "outputs": [
        {
          "output_type": "execute_result",
          "data": {
            "text/plain": [
              "<matplotlib.axes._subplots.AxesSubplot at 0x7f8304f84ad0>"
            ]
          },
          "metadata": {},
          "execution_count": 15
        },
        {
          "output_type": "display_data",
          "data": {
            "text/plain": [
              "<Figure size 432x288 with 1 Axes>"
            ],
            "image/png": "[encoded data removed]"
          },
          "metadata": {}
        }
      ]
    },
    {
      "cell_type": "code",
      "source": [
        "#Well.. we have talked about trend and seasonality; There's an easy way to seperate these, we can do our own coding of we know how to do the mean or running average and that stuff.\n",
        "#but we don't need to do any of that.. We can use statsmodels"
      ],
      "metadata": {
        "id": "8T5a0Lu7hnKQ"
      },
      "execution_count": null,
      "outputs": []
    },
    {
      "cell_type": "code",
      "source": [
        "#Extract and plot trend, seasonal and residuals. \n",
        "from statsmodels.tsa.seasonal import seasonal_decompose \n",
        "decomposed = seasonal_decompose(df['#Passengers'],  \n",
        "                            model ='additive')  #The model can be additive of multiplicative\n",
        "\n",
        "#Additive time series:\n",
        "#Value = Base Level + Trend + Seasonality + Error\n",
        "#Multiplicative Time Series:\n",
        "#Value = Base Level x Trend x Seasonality x Error\n",
        "\n",
        "\n",
        "#The way to extract individual dataframes out of this is just do:\n",
        "trend = decomposed.trend\n",
        "seasonal = decomposed.seasonal #Cyclic behavior may not be seasonal!\n",
        "residual = decomposed.resid"
      ],
      "metadata": {
        "id": "khvhuvgIid4m"
      },
      "execution_count": null,
      "outputs": []
    },
    {
      "cell_type": "code",
      "source": [
        "#WHAT ARE THESE?  Well, just by looking at the numbers doesn't make any sesne to us; So let's go ahead and plot it\n",
        "\n",
        "plt.figure(figsize=(12,8))\n",
        "plt.subplot(411)\n",
        "plt.plot(df['#Passengers'], label='Original', color='yellow')\n",
        "plt.legend(loc='upper left')\n",
        "plt.subplot(412)\n",
        "plt.plot(trend, label='Trend', color='yellow')\n",
        "plt.legend(loc='upper left')\n",
        "plt.subplot(413)\n",
        "plt.plot(seasonal, label='Seasonal', color='yellow')\n",
        "plt.legend(loc='upper left')\n",
        "plt.subplot(414)\n",
        "plt.plot(residual, label='Residual', color='yellow') #Residual: whatever is remaining\n",
        "plt.legend(loc='upper left')\n",
        "plt.show()\n",
        "######SO now, if you really all you care about is just getting your seasonal infomation, you just need to run this decomposed, and then you already have your seasonal inforamtion, and you can take this seasonal\n",
        "#and pick the right approach; ARIMA or whatever it's."
      ],
      "metadata": {
        "colab": {
          "base_uri": "https://localhost:8080/"
        },
        "id": "xs2bET1migij",
        "outputId": "17feae9a-5cdd-47e7-d117-e98cec9970b2"
      },
      "execution_count": null,
      "outputs": [
        {
          "output_type": "display_data",
          "data": {
            "text/plain": [
              "<Figure size 864x576 with 4 Axes>"
            ],
            "image/png": "[encoded data removed]"
          },
          "metadata": {}
        }
      ]
    },
    {
      "cell_type": "code",
      "source": [
        "#AUTOCORRELATION\n",
        "#Autocorrelation is simply the correlation of a series with its own lags.\n",
        "# Plot lag on x axis and correlation on y axis\n",
        "#Any correlation above confidence lnes are statistically significant.\n",
        "\n",
        "\n",
        "\n",
        "##Time series is all about autocorrelation: So as we have mentionned early, our values are not correlated with our x-axis (well, x-axis is there to plot it as function of time), but the values itsef are\n",
        "#correlated with itself; Meaning, today's value is correlated with yesterday, and then the day before and so on: so the values because they're time series, it's supposed to be correlated with itself that's\n",
        "#called autocorrelation.. So how am i oreelated with 5days ago, and then five days ago, and then 5 days ago, and if there's a weekly acitvity, how is that correlated with last week and week before, and so on.\n",
        "#So there's 2 methods to do that:\n",
        "#First of all, you can actually extract the acf from statsmodels, and there you can provide a lag; for example, we are providing a number of lags as 144. So it shows everything for 144 lags\n",
        "\n",
        "from statsmodels.tsa.stattools import acf\n",
        "\n",
        "acf_144 = acf(df[\"#Passengers\"], nlags=144)\n",
        "plt.plot(acf_144)\n",
        "#On x-axis you have lags, and on y-axis you have auto-correlation\n",
        "#Well, autocorrelation above zero means positive correlation, otherwise it's called negative correlation, and how much of that is correlated is the magnitude\n"
      ],
      "metadata": {
        "colab": {
          "base_uri": "https://localhost:8080/"
        },
        "id": "Cpphj0JBo3Yj",
        "outputId": "0d747d11-5521-4b59-f563-179203af15b8"
      },
      "execution_count": null,
      "outputs": [
        {
          "output_type": "stream",
          "name": "stderr",
          "text": [
            "/usr/local/lib/python3.7/dist-packages/statsmodels/tsa/stattools.py:671: FutureWarning: fft=True will become the default after the release of the 0.12 release of statsmodels. To suppress this warning, explicitly set fft=False.\n",
            "  FutureWarning,\n"
          ]
        },
        {
          "output_type": "execute_result",
          "data": {
            "text/plain": [
              "[<matplotlib.lines.Line2D at 0x7f83029c5b10>]"
            ]
          },
          "metadata": {},
          "execution_count": 18
        },
        {
          "output_type": "display_data",
          "data": {
            "text/plain": [
              "<Figure size 432x288 with 1 Axes>"
            ],
            "image/png": "[encoded data removed]"
          },
          "metadata": {}
        }
      ]
    },
    {
      "cell_type": "code",
      "source": [
        "#Second method: using the built-in autocorrelation plot from pandas library\n",
        "#Obtain the same but with single line and more info... using \n",
        "from pandas.plotting import autocorrelation_plot\n",
        "autocorrelation_plot(df[\"#Passengers\"]) \n",
        "#Horizontal bands indicate 95% and 99% (dashed) confidence bands\n",
        "\n",
        "#A strong positive correlation for lags below 40 (months)\n",
        "#So any lag before 40 months in this dataset is all positevly correlated and it's above 99% confidence level."
      ],
      "metadata": {
        "id": "NMYUjbfhphKC",
        "colab": {
          "base_uri": "https://localhost:8080/"
        },
        "outputId": "f6ca3e30-f43c-476e-8a4c-693c4cf6e966"
      },
      "execution_count": null,
      "outputs": [
        {
          "output_type": "execute_result",
          "data": {
            "text/plain": [
              "<matplotlib.axes._subplots.AxesSubplot at 0x7f83029549d0>"
            ]
          },
          "metadata": {},
          "execution_count": 19
        },
        {
          "output_type": "display_data",
          "data": {
            "text/plain": [
              "<Figure size 432x288 with 1 Axes>"
            ],
            "image/png": "[encoded data removed]"
          },
          "metadata": {}
        }
      ]
    },
    {
      "cell_type": "code",
      "source": [
        "#A “lag” is a fixed amount of passing time; One set of observations in a time series is plotted (lagged) against a second, later set of data.\n",
        "#The kth lag is the time period that happened “k” time points before time i. For example: Lag1(Y2) = Y1 and Lag4(Y9) = Y5.\n"
      ],
      "metadata": {
        "id": "YJU9Ww0vqgOw"
      },
      "execution_count": null,
      "outputs": []
    },
    {
      "cell_type": "code",
      "source": [
        "!pip install pmdarima"
      ],
      "metadata": {
        "id": "uR1p3tXXsQyn",
        "colab": {
          "base_uri": "https://localhost:8080/"
        },
        "outputId": "13c37e7a-99d5-4002-a30f-89fdb42e50f7"
      },
      "execution_count": null,
      "outputs": [
        {
          "output_type": "stream",
          "name": "stdout",
          "text": [
            "Looking in indexes: https://pypi.org/simple, https://us-python.pkg.dev/colab-wheels/public/simple/\n",
            "Collecting pmdarima\n",
            "  Downloading pmdarima-2.0.2-cp37-cp37m-manylinux_2_17_x86_64.manylinux2014_x86_64.manylinux_2_28_x86_64.whl (1.8 MB)\n",
            "\u001b[K     |████████████████████████████████| 1.8 MB 5.2 MB/s \n",
            "\u001b[?25hRequirement already satisfied: setuptools!=50.0.0,>=38.6.0 in /usr/local/lib/python3.7/dist-packages (from pmdarima) (57.4.0)\n",
            "Requirement already satisfied: numpy>=1.21.2 in /usr/local/lib/python3.7/dist-packages (from pmdarima) (1.21.6)\n",
            "Requirement already satisfied: scikit-learn>=0.22 in /usr/local/lib/python3.7/dist-packages (from pmdarima) (1.0.2)\n",
            "Requirement already satisfied: pandas>=0.19 in /usr/local/lib/python3.7/dist-packages (from pmdarima) (1.3.5)\n",
            "Requirement already satisfied: urllib3 in /usr/local/lib/python3.7/dist-packages (from pmdarima) (1.24.3)\n",
            "Collecting statsmodels>=0.13.2\n",
            "  Downloading statsmodels-0.13.5-cp37-cp37m-manylinux_2_17_x86_64.manylinux2014_x86_64.whl (9.9 MB)\n",
            "\u001b[K     |████████████████████████████████| 9.9 MB 40.9 MB/s \n",
            "\u001b[?25hRequirement already satisfied: Cython!=0.29.18,!=0.29.31,>=0.29 in /usr/local/lib/python3.7/dist-packages (from pmdarima) (0.29.32)\n",
            "Requirement already satisfied: scipy>=1.3.2 in /usr/local/lib/python3.7/dist-packages (from pmdarima) (1.7.3)\n",
            "Requirement already satisfied: joblib>=0.11 in /usr/local/lib/python3.7/dist-packages (from pmdarima) (1.2.0)\n",
            "Requirement already satisfied: pytz>=2017.3 in /usr/local/lib/python3.7/dist-packages (from pandas>=0.19->pmdarima) (2022.6)\n",
            "Requirement already satisfied: python-dateutil>=2.7.3 in /usr/local/lib/python3.7/dist-packages (from pandas>=0.19->pmdarima) (2.8.2)\n",
            "Requirement already satisfied: six>=1.5 in /usr/local/lib/python3.7/dist-packages (from python-dateutil>=2.7.3->pandas>=0.19->pmdarima) (1.15.0)\n",
            "Requirement already satisfied: threadpoolctl>=2.0.0 in /usr/local/lib/python3.7/dist-packages (from scikit-learn>=0.22->pmdarima) (3.1.0)\n",
            "Requirement already satisfied: patsy>=0.5.2 in /usr/local/lib/python3.7/dist-packages (from statsmodels>=0.13.2->pmdarima) (0.5.3)\n",
            "Requirement already satisfied: packaging>=21.3 in /usr/local/lib/python3.7/dist-packages (from statsmodels>=0.13.2->pmdarima) (21.3)\n",
            "Requirement already satisfied: pyparsing!=3.0.5,>=2.0.2 in /usr/local/lib/python3.7/dist-packages (from packaging>=21.3->statsmodels>=0.13.2->pmdarima) (3.0.9)\n",
            "Installing collected packages: statsmodels, pmdarima\n",
            "  Attempting uninstall: statsmodels\n",
            "    Found existing installation: statsmodels 0.12.2\n",
            "    Uninstalling statsmodels-0.12.2:\n",
            "      Successfully uninstalled statsmodels-0.12.2\n",
            "Successfully installed pmdarima-2.0.2 statsmodels-0.13.5\n"
          ]
        },
        {
          "output_type": "display_data",
          "data": {
            "application/vnd.colab-display-data+json": {
              "pip_warning": {
                "packages": [
                  "statsmodels"
                ]
              }
            }
          },
          "metadata": {}
        }
      ]
    },
    {
      "cell_type": "markdown",
      "source": [
        "# **Using ARIMA in python**"
      ],
      "metadata": {
        "id": "015tfoj9tAAC"
      }
    },
    {
      "cell_type": "code",
      "source": [
        "#https://youtu.be/TSfdvQ0ARwI\n",
        "\"\"\"\n",
        "Dataset from: https://www.kaggle.com/rakannimer/air-passengers\n",
        "International Airline Passengers prediction problem.\n",
        "This is a problem where, given a year and a month, the task is to predict \n",
        "the number of international airline passengers in units of 1,000. \n",
        "The data ranges from January 1949 to December 1960, or 12 years, with 144 observations.\n",
        "Stat library: https://www.statsmodels.org/stable/index.html\n",
        "Need version 0.11 or later..\n",
        "pip install statsmodels --upgrade\n",
        "For pmdarima:\n",
        "pip install pmdarima\n",
        "\"\"\"\n",
        "!pip install pmdarima\n",
        "from pmdarima.arima import auto_arima\n",
        "\n",
        "import numpy as np\n",
        "import matplotlib.pyplot as plt\n",
        "import pandas as pd\n",
        "\n",
        "plt.style.use('dark_background')\n",
        "# load the dataset\n",
        "df = pd.read_csv('/content/sample_data/Data/AirPassengers.csv')\n",
        "print(df.dtypes)\n",
        "\n",
        "df['Month'] = pd.to_datetime(df['Month'])\n",
        "print(df.dtypes)\n",
        "\n",
        "df.set_index('Month', inplace=True) \n"
      ],
      "metadata": {
        "colab": {
          "base_uri": "https://localhost:8080/"
        },
        "id": "e_AChH_ytQgA",
        "outputId": "8726bb2c-c8c1-4f91-b33d-7fcfdf8b50e6"
      },
      "execution_count": null,
      "outputs": [
        {
          "output_type": "stream",
          "name": "stdout",
          "text": [
            "Month          object\n",
            "#Passengers     int64\n",
            "dtype: object\n",
            "Month          datetime64[ns]\n",
            "#Passengers             int64\n",
            "dtype: object\n"
          ]
        }
      ]
    },
    {
      "cell_type": "code",
      "source": [
        "df"
      ],
      "metadata": {
        "colab": {
          "base_uri": "https://localhost:8080/",
          "height": 455
        },
        "id": "hklZ-Gs_toFy",
        "outputId": "4e773186-d233-4c3f-ac31-73133de59311"
      },
      "execution_count": null,
      "outputs": [
        {
          "output_type": "execute_result",
          "data": {
            "text/plain": [
              "            #Passengers\n",
              "Month                  \n",
              "1949-01-01          112\n",
              "1949-02-01          118\n",
              "1949-03-01          132\n",
              "1949-04-01          129\n",
              "1949-05-01          121\n",
              "...                 ...\n",
              "1960-08-01          606\n",
              "1960-09-01          508\n",
              "1960-10-01          461\n",
              "1960-11-01          390\n",
              "1960-12-01          432\n",
              "\n",
              "[144 rows x 1 columns]"
            ],
            "text/html": [
              "\n",
              "  <div id=\"df-3f466bad-ac9f-4585-9f59-d17a1f6e79dc\">\n",
              "    <div class=\"colab-df-container\">\n",
              "      <div>\n",
              "<style scoped>\n",
              "    .dataframe tbody tr th:only-of-type {\n",
              "        vertical-align: middle;\n",
              "    }\n",
              "\n",
              "    .dataframe tbody tr th {\n",
              "        vertical-align: top;\n",
              "    }\n",
              "\n",
              "    .dataframe thead th {\n",
              "        text-align: right;\n",
              "    }\n",
              "</style>\n",
              "<table border=\"1\" class=\"dataframe\">\n",
              "  <thead>\n",
              "    <tr style=\"text-align: right;\">\n",
              "      <th></th>\n",
              "      <th>#Passengers</th>\n",
              "    </tr>\n",
              "    <tr>\n",
              "      <th>Month</th>\n",
              "      <th></th>\n",
              "    </tr>\n",
              "  </thead>\n",
              "  <tbody>\n",
              "    <tr>\n",
              "      <th>1949-01-01</th>\n",
              "      <td>112</td>\n",
              "    </tr>\n",
              "    <tr>\n",
              "      <th>1949-02-01</th>\n",
              "      <td>118</td>\n",
              "    </tr>\n",
              "    <tr>\n",
              "      <th>1949-03-01</th>\n",
              "      <td>132</td>\n",
              "    </tr>\n",
              "    <tr>\n",
              "      <th>1949-04-01</th>\n",
              "      <td>129</td>\n",
              "    </tr>\n",
              "    <tr>\n",
              "      <th>1949-05-01</th>\n",
              "      <td>121</td>\n",
              "    </tr>\n",
              "    <tr>\n",
              "      <th>...</th>\n",
              "      <td>...</td>\n",
              "    </tr>\n",
              "    <tr>\n",
              "      <th>1960-08-01</th>\n",
              "      <td>606</td>\n",
              "    </tr>\n",
              "    <tr>\n",
              "      <th>1960-09-01</th>\n",
              "      <td>508</td>\n",
              "    </tr>\n",
              "    <tr>\n",
              "      <th>1960-10-01</th>\n",
              "      <td>461</td>\n",
              "    </tr>\n",
              "    <tr>\n",
              "      <th>1960-11-01</th>\n",
              "      <td>390</td>\n",
              "    </tr>\n",
              "    <tr>\n",
              "      <th>1960-12-01</th>\n",
              "      <td>432</td>\n",
              "    </tr>\n",
              "  </tbody>\n",
              "</table>\n",
              "<p>144 rows × 1 columns</p>\n",
              "</div>\n",
              "      <button class=\"colab-df-convert\" onclick=\"convertToInteractive('df-3f466bad-ac9f-4585-9f59-d17a1f6e79dc')\"\n",
              "              title=\"Convert this dataframe to an interactive table.\"\n",
              "              style=\"display:none;\">\n",
              "        \n",
              "  <svg xmlns=\"http://www.w3.org/2000/svg\" height=\"24px\"viewBox=\"0 0 24 24\"\n",
              "       width=\"24px\">\n",
              "    <path d=\"M0 0h24v24H0V0z\" fill=\"none\"/>\n",
              "    <path d=\"M18.56 5.44l.94 2.06.94-2.06 2.06-.94-2.06-.94-.94-2.06-.94 2.06-2.06.94zm-11 1L8.5 8.5l.94-2.06 2.06-.94-2.06-.94L8.5 2.5l-.94 2.06-2.06.94zm10 10l.94 2.06.94-2.06 2.06-.94-2.06-.94-.94-2.06-.94 2.06-2.06.94z\"/><path d=\"M17.41 7.96l-1.37-1.37c-.4-.4-.92-.59-1.43-.59-.52 0-1.04.2-1.43.59L10.3 9.45l-7.72 7.72c-.78.78-.78 2.05 0 2.83L4 21.41c.39.39.9.59 1.41.59.51 0 1.02-.2 1.41-.59l7.78-7.78 2.81-2.81c.8-.78.8-2.07 0-2.86zM5.41 20L4 18.59l7.72-7.72 1.47 1.35L5.41 20z\"/>\n",
              "  </svg>\n",
              "      </button>\n",
              "      \n",
              "  <style>\n",
              "    .colab-df-container {\n",
              "      display:flex;\n",
              "      flex-wrap:wrap;\n",
              "      gap: 12px;\n",
              "    }\n",
              "\n",
              "    .colab-df-convert {\n",
              "      background-color: #E8F0FE;\n",
              "      border: none;\n",
              "      border-radius: 50%;\n",
              "      cursor: pointer;\n",
              "      display: none;\n",
              "      fill: #1967D2;\n",
              "      height: 32px;\n",
              "      padding: 0 0 0 0;\n",
              "      width: 32px;\n",
              "    }\n",
              "\n",
              "    .colab-df-convert:hover {\n",
              "      background-color: #E2EBFA;\n",
              "      box-shadow: 0px 1px 2px rgba(60, 64, 67, 0.3), 0px 1px 3px 1px rgba(60, 64, 67, 0.15);\n",
              "      fill: #174EA6;\n",
              "    }\n",
              "\n",
              "    [theme=dark] .colab-df-convert {\n",
              "      background-color: #3B4455;\n",
              "      fill: #D2E3FC;\n",
              "    }\n",
              "\n",
              "    [theme=dark] .colab-df-convert:hover {\n",
              "      background-color: #434B5C;\n",
              "      box-shadow: 0px 1px 3px 1px rgba(0, 0, 0, 0.15);\n",
              "      filter: drop-shadow(0px 1px 2px rgba(0, 0, 0, 0.3));\n",
              "      fill: #FFFFFF;\n",
              "    }\n",
              "  </style>\n",
              "\n",
              "      <script>\n",
              "        const buttonEl =\n",
              "          document.querySelector('#df-3f466bad-ac9f-4585-9f59-d17a1f6e79dc button.colab-df-convert');\n",
              "        buttonEl.style.display =\n",
              "          google.colab.kernel.accessAllowed ? 'block' : 'none';\n",
              "\n",
              "        async function convertToInteractive(key) {\n",
              "          const element = document.querySelector('#df-3f466bad-ac9f-4585-9f59-d17a1f6e79dc');\n",
              "          const dataTable =\n",
              "            await google.colab.kernel.invokeFunction('convertToInteractive',\n",
              "                                                     [key], {});\n",
              "          if (!dataTable) return;\n",
              "\n",
              "          const docLinkHtml = 'Like what you see? Visit the ' +\n",
              "            '<a target=\"_blank\" href=https://colab.research.google.com/notebooks/data_table.ipynb>data table notebook</a>'\n",
              "            + ' to learn more about interactive tables.';\n",
              "          element.innerHTML = '';\n",
              "          dataTable['output_type'] = 'display_data';\n",
              "          await google.colab.output.renderOutput(dataTable, element);\n",
              "          const docLink = document.createElement('div');\n",
              "          docLink.innerHTML = docLinkHtml;\n",
              "          element.appendChild(docLink);\n",
              "        }\n",
              "      </script>\n",
              "    </div>\n",
              "  </div>\n",
              "  "
            ]
          },
          "metadata": {},
          "execution_count": 39
        }
      ]
    },
    {
      "cell_type": "code",
      "source": [
        "plt.plot(df['#Passengers']) #Passengers/Month(index)"
      ],
      "metadata": {
        "colab": {
          "base_uri": "https://localhost:8080/",
          "height": 282
        },
        "id": "WDCP7CDLtkQW",
        "outputId": "873a2cdd-fa84-4e6f-f57e-f4b0f62482c3"
      },
      "execution_count": null,
      "outputs": [
        {
          "output_type": "execute_result",
          "data": {
            "text/plain": [
              "[<matplotlib.lines.Line2D at 0x7f8320b29190>]"
            ]
          },
          "metadata": {},
          "execution_count": 27
        },
        {
          "output_type": "display_data",
          "data": {
            "text/plain": [
              "<Figure size 432x288 with 1 Axes>"
            ],
            "image/png": "[encoded data removed]"
          },
          "metadata": {}
        }
      ]
    },
    {
      "cell_type": "code",
      "source": [
        "#Is the data stationary? Well, it's clear that it's not.. but if we want to see that, there's 2 ways to do so:\n",
        "\n",
        "\n",
        "#Method1\n",
        "from pmdarima.arima import ADFTest\n",
        "adf_test = ADFTest(alpha = 0.05)\n",
        "adf_test.should_diff(df)\n",
        "#Not stationary..."
      ],
      "metadata": {
        "colab": {
          "base_uri": "https://localhost:8080/"
        },
        "id": "ZNASSCVuwZcc",
        "outputId": "ee0f4eda-7f5d-4ad1-b8af-ed65038ddb40"
      },
      "execution_count": null,
      "outputs": [
        {
          "output_type": "execute_result",
          "data": {
            "text/plain": [
              "(0.01, False)"
            ]
          },
          "metadata": {},
          "execution_count": 4
        }
      ]
    },
    {
      "cell_type": "code",
      "source": [
        "#Method2\n",
        "#Dickey-Fuller test\n",
        "from statsmodels.tsa.stattools import adfuller\n",
        "adf, pvalue, usedlag_, nobs_, critical_values_, icbest_ = adfuller(df)\n",
        "print(\"pvalue = \", pvalue, \" if above 0.05, data is not stationary\")\n",
        "#Since data is not stationary, we may need SARIMA and not just ARIMA\n"
      ],
      "metadata": {
        "colab": {
          "base_uri": "https://localhost:8080/"
        },
        "id": "4NsUaPBiwVqm",
        "outputId": "e36c32e9-52fe-4646-e57c-8589d1415a83"
      },
      "execution_count": null,
      "outputs": [
        {
          "output_type": "stream",
          "name": "stdout",
          "text": [
            "pvalue =  0.991880243437641  if above 0.05, data is not stationary\n"
          ]
        }
      ]
    },
    {
      "cell_type": "code",
      "source": [
        "#Extract and plot trend, seasonal and residuals. \n",
        "from statsmodels.tsa.seasonal import seasonal_decompose \n",
        "decomposed = seasonal_decompose(df['#Passengers'],  \n",
        "                            model ='additive')\n",
        "\n",
        "trend = decomposed.trend\n",
        "seasonal = decomposed.seasonal\n",
        "residual = decomposed.resid\n",
        "\n",
        "plt.figure(figsize=(12,8))\n",
        "plt.subplot(411)\n",
        "plt.plot(df, label='Original', color='yellow')\n",
        "plt.legend(loc='upper left')\n",
        "plt.subplot(412)\n",
        "plt.plot(trend, label='Trend', color='yellow')\n",
        "plt.legend(loc='upper left')\n",
        "plt.subplot(413)\n",
        "plt.plot(seasonal, label='Seasonal', color='yellow')\n",
        "plt.legend(loc='upper left')\n",
        "plt.subplot(414)\n",
        "plt.plot(residual, label='Residual', color='yellow')\n",
        "plt.legend(loc='upper left')\n",
        "plt.show()\n",
        "\n",
        "###You can only take the seasonal part, and then just apply some forecsating if you want.. but don't forget to add that to the trend, so you get the real values back.\n",
        "#But, SARIMA takes care of bunch of that'"
      ],
      "metadata": {
        "colab": {
          "base_uri": "https://localhost:8080/",
          "height": 483
        },
        "id": "2eNTZylT1LCg",
        "outputId": "cc16bf65-d4b6-479a-8f90-562dab9fc021"
      },
      "execution_count": null,
      "outputs": [
        {
          "output_type": "display_data",
          "data": {
            "text/plain": [
              "<Figure size 864x576 with 4 Axes>"
            ],
            "image/png": "[encoded data removed]"
          },
          "metadata": {}
        }
      ]
    },
    {
      "cell_type": "code",
      "source": [
        "#We can go through the exercise of making the data stationary and performing ARIMA\n",
        "#Or let auto_arima provide the best model (e.g. SARIMA) and parameters. \n",
        "#Auto arima suggests best model and parameters based on \n",
        "#AIC metric (relative quality of statistical models)"
      ],
      "metadata": {
        "id": "7dWbKafX12ks"
      },
      "execution_count": null,
      "outputs": []
    },
    {
      "cell_type": "code",
      "source": [
        "#from pmdarima.arima import auto_arima\n",
        "#Autoarima gives us bet model suited for the data\n",
        "# p - number of autoregressive terms (AR)\n",
        "# q - Number of moving avergae terms (MA)\n",
        "# d - number of non-seasonal differences\n",
        "#p, d, q represent non-seasonal components\n",
        "#P, D, Q represent seasonal components\n",
        "arima_model = auto_arima(df['#Passengers'], start_p = 1, d=1, start_q = 1, \n",
        "                          max_p = 5, max_q = 5, max_d=5, m = 12, \n",
        "                          start_P = 0, D=1, start_Q=0, max_P=5, max_D=5, max_Q=5,\n",
        "                          seasonal = True, \n",
        "                          trace = True, \n",
        "                          error_action ='ignore',   \n",
        "                          suppress_warnings = True,  \n",
        "                          stepwise = True, n_fits=50)           \n"
      ],
      "metadata": {
        "colab": {
          "base_uri": "https://localhost:8080/"
        },
        "id": "R6mZfXor5O0e",
        "outputId": "e08a85c0-155e-432b-f715-62c30dceeabd"
      },
      "execution_count": null,
      "outputs": [
        {
          "output_type": "stream",
          "name": "stdout",
          "text": [
            "Performing stepwise search to minimize aic\n",
            " ARIMA(1,1,1)(0,1,0)[12]             : AIC=1022.393, Time=0.27 sec\n",
            " ARIMA(0,1,0)(0,1,0)[12]             : AIC=1031.508, Time=0.08 sec\n",
            " ARIMA(1,1,0)(1,1,0)[12]             : AIC=1020.393, Time=0.37 sec\n",
            " ARIMA(0,1,1)(0,1,1)[12]             : AIC=1021.003, Time=0.65 sec\n",
            " ARIMA(1,1,0)(0,1,0)[12]             : AIC=1020.393, Time=0.13 sec\n",
            " ARIMA(1,1,0)(2,1,0)[12]             : AIC=1019.239, Time=0.87 sec\n",
            " ARIMA(1,1,0)(3,1,0)[12]             : AIC=1020.582, Time=1.99 sec\n",
            " ARIMA(1,1,0)(2,1,1)[12]             : AIC=inf, Time=5.31 sec\n",
            " ARIMA(1,1,0)(1,1,1)[12]             : AIC=1020.493, Time=0.54 sec\n",
            " ARIMA(1,1,0)(3,1,1)[12]             : AIC=inf, Time=5.91 sec\n",
            " ARIMA(0,1,0)(2,1,0)[12]             : AIC=1032.120, Time=0.37 sec\n",
            " ARIMA(2,1,0)(2,1,0)[12]             : AIC=1021.120, Time=0.62 sec\n",
            " ARIMA(1,1,1)(2,1,0)[12]             : AIC=1021.032, Time=0.78 sec\n",
            " ARIMA(0,1,1)(2,1,0)[12]             : AIC=1019.178, Time=0.51 sec\n",
            " ARIMA(0,1,1)(1,1,0)[12]             : AIC=1020.425, Time=0.19 sec\n",
            " ARIMA(0,1,1)(3,1,0)[12]             : AIC=1020.372, Time=0.98 sec\n",
            " ARIMA(0,1,1)(2,1,1)[12]             : AIC=inf, Time=2.53 sec\n",
            " ARIMA(0,1,1)(1,1,1)[12]             : AIC=1020.327, Time=0.68 sec\n",
            " ARIMA(0,1,1)(3,1,1)[12]             : AIC=inf, Time=5.24 sec\n",
            " ARIMA(0,1,2)(2,1,0)[12]             : AIC=1021.148, Time=0.51 sec\n",
            " ARIMA(1,1,2)(2,1,0)[12]             : AIC=1022.805, Time=0.94 sec\n",
            " ARIMA(0,1,1)(2,1,0)[12] intercept   : AIC=1021.017, Time=0.88 sec\n",
            "\n",
            "Best model:  ARIMA(0,1,1)(2,1,0)[12]          \n",
            "Total fit time: 30.423 seconds\n"
          ]
        }
      ]
    },
    {
      "cell_type": "code",
      "source": [
        "# To print the summary \n",
        "print(arima_model.summary() ) #Note down the Model and details.\n",
        "# Model: SARIMAX(0, 1, 1)x(2, 1, [], 12)\n"
      ],
      "metadata": {
        "id": "HsrWmQ4l5T6V",
        "colab": {
          "base_uri": "https://localhost:8080/"
        },
        "outputId": "565446d7-5617-4c6e-af1a-c49564570de7"
      },
      "execution_count": null,
      "outputs": [
        {
          "output_type": "stream",
          "name": "stdout",
          "text": [
            "                                      SARIMAX Results                                      \n",
            "===========================================================================================\n",
            "Dep. Variable:                                   y   No. Observations:                  144\n",
            "Model:             SARIMAX(0, 1, 1)x(2, 1, [], 12)   Log Likelihood                -505.589\n",
            "Date:                             Tue, 29 Nov 2022   AIC                           1019.178\n",
            "Time:                                     10:24:45   BIC                           1030.679\n",
            "Sample:                                 01-01-1949   HQIC                          1023.851\n",
            "                                      - 12-01-1960                                         \n",
            "Covariance Type:                               opg                                         \n",
            "==============================================================================\n",
            "                 coef    std err          z      P>|z|      [0.025      0.975]\n",
            "------------------------------------------------------------------------------\n",
            "ma.L1         -0.3634      0.074     -4.945      0.000      -0.508      -0.219\n",
            "ar.S.L12      -0.1239      0.090     -1.372      0.170      -0.301       0.053\n",
            "ar.S.L24       0.1911      0.107      1.783      0.075      -0.019       0.401\n",
            "sigma2       130.4480     15.527      8.402      0.000     100.016     160.880\n",
            "===================================================================================\n",
            "Ljung-Box (L1) (Q):                   0.01   Jarque-Bera (JB):                 4.59\n",
            "Prob(Q):                              0.92   Prob(JB):                         0.10\n",
            "Heteroskedasticity (H):               2.70   Skew:                             0.15\n",
            "Prob(H) (two-sided):                  0.00   Kurtosis:                         3.87\n",
            "===================================================================================\n",
            "\n",
            "Warnings:\n",
            "[1] Covariance matrix calculated using the outer product of gradients (complex-step).\n"
          ]
        }
      ]
    },
    {
      "cell_type": "code",
      "source": [
        "#That's great!! So how we forecast; Well, to forecast, we have to fit a model. What do we fit to? You can fit a model to the entire data, and then do forecasting. \n",
        "#But how would you know if you're doing a good job or bad job in forecasting? So it's customary to take a part of the data and use it for training, and another part used \n",
        "#for testing.. and then do the forecasting.\n",
        "#In general, we took 80/20. But that doesn't work here; This is time series; The value before and after has some meaning to it. So you cannot randomly do that.\n",
        "#==>That's why we are actually taking 66%(2/3) of the data from the begining, and assign that to training; And the remaining is for testing\n",
        "\n",
        "#Split data into train and test\n",
        "size = int(len(df) * 0.66)\n",
        "X_train, X_test = df[0:size], df[size:len(df)] #: X_train: the type is DF, and size=(95,1). x_test: the type is DF, and size=(49,1)"
      ],
      "metadata": {
        "id": "n53V254x7NN4"
      },
      "execution_count": null,
      "outputs": []
    },
    {
      "cell_type": "code",
      "source": [
        "# Fit a SARIMAX(0, 1, 1)x(2, 1, 1, 12) on the training set \n",
        "from statsmodels.tsa.statespace.sarimax import SARIMAX \n",
        "  \n",
        "model = SARIMAX(X_train['#Passengers'],  \n",
        "                order = (0, 1, 1),  \n",
        "                seasonal_order =(2, 1, 1, 12)) \n",
        "  \n",
        "result = model.fit() #We defined the model, so know we have to fit it to the data. So it's ready for prediction\n",
        "###########We are storing the model.fit in a parameter called result: So then we have to do result.predict\n",
        "result.summary() \n",
        "\n"
      ],
      "metadata": {
        "colab": {
          "base_uri": "https://localhost:8080/",
          "height": 542
        },
        "id": "UaO4W3GiBXRz",
        "outputId": "022bdd6e-37aa-4b66-9341-d865e2b5d095"
      },
      "execution_count": null,
      "outputs": [
        {
          "output_type": "stream",
          "name": "stderr",
          "text": [
            "/usr/local/lib/python3.7/dist-packages/statsmodels/tsa/base/tsa_model.py:471: ValueWarning: No frequency information was provided, so inferred frequency MS will be used.\n",
            "  self._init_dates(dates, freq)\n",
            "/usr/local/lib/python3.7/dist-packages/statsmodels/tsa/base/tsa_model.py:471: ValueWarning: No frequency information was provided, so inferred frequency MS will be used.\n",
            "  self._init_dates(dates, freq)\n"
          ]
        },
        {
          "output_type": "execute_result",
          "data": {
            "text/plain": [
              "<class 'statsmodels.iolib.summary.Summary'>\n",
              "\"\"\"\n",
              "                                     SARIMAX Results                                      \n",
              "==========================================================================================\n",
              "Dep. Variable:                        #Passengers   No. Observations:                   95\n",
              "Model:             SARIMAX(0, 1, 1)x(2, 1, 1, 12)   Log Likelihood                -300.268\n",
              "Date:                            Tue, 29 Nov 2022   AIC                            610.536\n",
              "Time:                                    10:53:53   BIC                            622.570\n",
              "Sample:                                01-01-1949   HQIC                           615.368\n",
              "                                     - 11-01-1956                                         \n",
              "Covariance Type:                              opg                                         \n",
              "==============================================================================\n",
              "                 coef    std err          z      P>|z|      [0.025      0.975]\n",
              "------------------------------------------------------------------------------\n",
              "ma.L1         -0.3202      0.103     -3.120      0.002      -0.521      -0.119\n",
              "ar.S.L12       0.6848      0.650      1.053      0.292      -0.589       1.959\n",
              "ar.S.L24       0.3142      0.135      2.335      0.020       0.051       0.578\n",
              "ma.S.L12      -0.9824      6.320     -0.155      0.876     -13.368      11.404\n",
              "sigma2        78.5251    445.371      0.176      0.860    -794.386     951.436\n",
              "===================================================================================\n",
              "Ljung-Box (L1) (Q):                   0.00   Jarque-Bera (JB):                 2.56\n",
              "Prob(Q):                              0.95   Prob(JB):                         0.28\n",
              "Heteroskedasticity (H):               1.69   Skew:                             0.42\n",
              "Prob(H) (two-sided):                  0.18   Kurtosis:                         2.83\n",
              "===================================================================================\n",
              "\n",
              "Warnings:\n",
              "[1] Covariance matrix calculated using the outer product of gradients (complex-step).\n",
              "\"\"\""
            ],
            "text/html": [
              "<table class=\"simpletable\">\n",
              "<caption>SARIMAX Results</caption>\n",
              "<tr>\n",
              "  <th>Dep. Variable:</th>             <td>#Passengers</td>          <th>  No. Observations:  </th>    <td>95</td>   \n",
              "</tr>\n",
              "<tr>\n",
              "  <th>Model:</th>           <td>SARIMAX(0, 1, 1)x(2, 1, 1, 12)</td> <th>  Log Likelihood     </th> <td>-300.268</td>\n",
              "</tr>\n",
              "<tr>\n",
              "  <th>Date:</th>                   <td>Tue, 29 Nov 2022</td>        <th>  AIC                </th>  <td>610.536</td>\n",
              "</tr>\n",
              "<tr>\n",
              "  <th>Time:</th>                       <td>10:53:53</td>            <th>  BIC                </th>  <td>622.570</td>\n",
              "</tr>\n",
              "<tr>\n",
              "  <th>Sample:</th>                    <td>01-01-1949</td>           <th>  HQIC               </th>  <td>615.368</td>\n",
              "</tr>\n",
              "<tr>\n",
              "  <th></th>                          <td>- 11-01-1956</td>          <th>                     </th>     <td> </td>   \n",
              "</tr>\n",
              "<tr>\n",
              "  <th>Covariance Type:</th>               <td>opg</td>              <th>                     </th>     <td> </td>   \n",
              "</tr>\n",
              "</table>\n",
              "<table class=\"simpletable\">\n",
              "<tr>\n",
              "      <td></td>        <th>coef</th>     <th>std err</th>      <th>z</th>      <th>P>|z|</th>  <th>[0.025</th>    <th>0.975]</th>  \n",
              "</tr>\n",
              "<tr>\n",
              "  <th>ma.L1</th>    <td>   -0.3202</td> <td>    0.103</td> <td>   -3.120</td> <td> 0.002</td> <td>   -0.521</td> <td>   -0.119</td>\n",
              "</tr>\n",
              "<tr>\n",
              "  <th>ar.S.L12</th> <td>    0.6848</td> <td>    0.650</td> <td>    1.053</td> <td> 0.292</td> <td>   -0.589</td> <td>    1.959</td>\n",
              "</tr>\n",
              "<tr>\n",
              "  <th>ar.S.L24</th> <td>    0.3142</td> <td>    0.135</td> <td>    2.335</td> <td> 0.020</td> <td>    0.051</td> <td>    0.578</td>\n",
              "</tr>\n",
              "<tr>\n",
              "  <th>ma.S.L12</th> <td>   -0.9824</td> <td>    6.320</td> <td>   -0.155</td> <td> 0.876</td> <td>  -13.368</td> <td>   11.404</td>\n",
              "</tr>\n",
              "<tr>\n",
              "  <th>sigma2</th>   <td>   78.5251</td> <td>  445.371</td> <td>    0.176</td> <td> 0.860</td> <td> -794.386</td> <td>  951.436</td>\n",
              "</tr>\n",
              "</table>\n",
              "<table class=\"simpletable\">\n",
              "<tr>\n",
              "  <th>Ljung-Box (L1) (Q):</th>     <td>0.00</td> <th>  Jarque-Bera (JB):  </th> <td>2.56</td>\n",
              "</tr>\n",
              "<tr>\n",
              "  <th>Prob(Q):</th>                <td>0.95</td> <th>  Prob(JB):          </th> <td>0.28</td>\n",
              "</tr>\n",
              "<tr>\n",
              "  <th>Heteroskedasticity (H):</th> <td>1.69</td> <th>  Skew:              </th> <td>0.42</td>\n",
              "</tr>\n",
              "<tr>\n",
              "  <th>Prob(H) (two-sided):</th>    <td>0.18</td> <th>  Kurtosis:          </th> <td>2.83</td>\n",
              "</tr>\n",
              "</table><br/><br/>Warnings:<br/>[1] Covariance matrix calculated using the outer product of gradients (complex-step)."
            ]
          },
          "metadata": {},
          "execution_count": 10
        }
      ]
    },
    {
      "cell_type": "code",
      "source": [
        "#Train prediction\n",
        "start_index = 0\n",
        "end_index = len(X_train)-1\n",
        "train_prediction = result.predict(start_index, end_index)"
      ],
      "metadata": {
        "id": "fnb2aO1NCWo5"
      },
      "execution_count": null,
      "outputs": []
    },
    {
      "cell_type": "code",
      "source": [
        "X_train"
      ],
      "metadata": {
        "colab": {
          "base_uri": "https://localhost:8080/",
          "height": 455
        },
        "id": "oR3TGUoPChsP",
        "outputId": "e4e2f7f2-7f98-4418-f59a-697a195f3f9b"
      },
      "execution_count": null,
      "outputs": [
        {
          "output_type": "execute_result",
          "data": {
            "text/plain": [
              "            #Passengers\n",
              "Month                  \n",
              "1949-01-01          112\n",
              "1949-02-01          118\n",
              "1949-03-01          132\n",
              "1949-04-01          129\n",
              "1949-05-01          121\n",
              "...                 ...\n",
              "1956-07-01          413\n",
              "1956-08-01          405\n",
              "1956-09-01          355\n",
              "1956-10-01          306\n",
              "1956-11-01          271\n",
              "\n",
              "[95 rows x 1 columns]"
            ],
            "text/html": [
              "\n",
              "  <div id=\"df-b90c279e-a86b-46fc-be4b-717c36311f37\">\n",
              "    <div class=\"colab-df-container\">\n",
              "      <div>\n",
              "<style scoped>\n",
              "    .dataframe tbody tr th:only-of-type {\n",
              "        vertical-align: middle;\n",
              "    }\n",
              "\n",
              "    .dataframe tbody tr th {\n",
              "        vertical-align: top;\n",
              "    }\n",
              "\n",
              "    .dataframe thead th {\n",
              "        text-align: right;\n",
              "    }\n",
              "</style>\n",
              "<table border=\"1\" class=\"dataframe\">\n",
              "  <thead>\n",
              "    <tr style=\"text-align: right;\">\n",
              "      <th></th>\n",
              "      <th>#Passengers</th>\n",
              "    </tr>\n",
              "    <tr>\n",
              "      <th>Month</th>\n",
              "      <th></th>\n",
              "    </tr>\n",
              "  </thead>\n",
              "  <tbody>\n",
              "    <tr>\n",
              "      <th>1949-01-01</th>\n",
              "      <td>112</td>\n",
              "    </tr>\n",
              "    <tr>\n",
              "      <th>1949-02-01</th>\n",
              "      <td>118</td>\n",
              "    </tr>\n",
              "    <tr>\n",
              "      <th>1949-03-01</th>\n",
              "      <td>132</td>\n",
              "    </tr>\n",
              "    <tr>\n",
              "      <th>1949-04-01</th>\n",
              "      <td>129</td>\n",
              "    </tr>\n",
              "    <tr>\n",
              "      <th>1949-05-01</th>\n",
              "      <td>121</td>\n",
              "    </tr>\n",
              "    <tr>\n",
              "      <th>...</th>\n",
              "      <td>...</td>\n",
              "    </tr>\n",
              "    <tr>\n",
              "      <th>1956-07-01</th>\n",
              "      <td>413</td>\n",
              "    </tr>\n",
              "    <tr>\n",
              "      <th>1956-08-01</th>\n",
              "      <td>405</td>\n",
              "    </tr>\n",
              "    <tr>\n",
              "      <th>1956-09-01</th>\n",
              "      <td>355</td>\n",
              "    </tr>\n",
              "    <tr>\n",
              "      <th>1956-10-01</th>\n",
              "      <td>306</td>\n",
              "    </tr>\n",
              "    <tr>\n",
              "      <th>1956-11-01</th>\n",
              "      <td>271</td>\n",
              "    </tr>\n",
              "  </tbody>\n",
              "</table>\n",
              "<p>95 rows × 1 columns</p>\n",
              "</div>\n",
              "      <button class=\"colab-df-convert\" onclick=\"convertToInteractive('df-b90c279e-a86b-46fc-be4b-717c36311f37')\"\n",
              "              title=\"Convert this dataframe to an interactive table.\"\n",
              "              style=\"display:none;\">\n",
              "        \n",
              "  <svg xmlns=\"http://www.w3.org/2000/svg\" height=\"24px\"viewBox=\"0 0 24 24\"\n",
              "       width=\"24px\">\n",
              "    <path d=\"M0 0h24v24H0V0z\" fill=\"none\"/>\n",
              "    <path d=\"M18.56 5.44l.94 2.06.94-2.06 2.06-.94-2.06-.94-.94-2.06-.94 2.06-2.06.94zm-11 1L8.5 8.5l.94-2.06 2.06-.94-2.06-.94L8.5 2.5l-.94 2.06-2.06.94zm10 10l.94 2.06.94-2.06 2.06-.94-2.06-.94-.94-2.06-.94 2.06-2.06.94z\"/><path d=\"M17.41 7.96l-1.37-1.37c-.4-.4-.92-.59-1.43-.59-.52 0-1.04.2-1.43.59L10.3 9.45l-7.72 7.72c-.78.78-.78 2.05 0 2.83L4 21.41c.39.39.9.59 1.41.59.51 0 1.02-.2 1.41-.59l7.78-7.78 2.81-2.81c.8-.78.8-2.07 0-2.86zM5.41 20L4 18.59l7.72-7.72 1.47 1.35L5.41 20z\"/>\n",
              "  </svg>\n",
              "      </button>\n",
              "      \n",
              "  <style>\n",
              "    .colab-df-container {\n",
              "      display:flex;\n",
              "      flex-wrap:wrap;\n",
              "      gap: 12px;\n",
              "    }\n",
              "\n",
              "    .colab-df-convert {\n",
              "      background-color: #E8F0FE;\n",
              "      border: none;\n",
              "      border-radius: 50%;\n",
              "      cursor: pointer;\n",
              "      display: none;\n",
              "      fill: #1967D2;\n",
              "      height: 32px;\n",
              "      padding: 0 0 0 0;\n",
              "      width: 32px;\n",
              "    }\n",
              "\n",
              "    .colab-df-convert:hover {\n",
              "      background-color: #E2EBFA;\n",
              "      box-shadow: 0px 1px 2px rgba(60, 64, 67, 0.3), 0px 1px 3px 1px rgba(60, 64, 67, 0.15);\n",
              "      fill: #174EA6;\n",
              "    }\n",
              "\n",
              "    [theme=dark] .colab-df-convert {\n",
              "      background-color: #3B4455;\n",
              "      fill: #D2E3FC;\n",
              "    }\n",
              "\n",
              "    [theme=dark] .colab-df-convert:hover {\n",
              "      background-color: #434B5C;\n",
              "      box-shadow: 0px 1px 3px 1px rgba(0, 0, 0, 0.15);\n",
              "      filter: drop-shadow(0px 1px 2px rgba(0, 0, 0, 0.3));\n",
              "      fill: #FFFFFF;\n",
              "    }\n",
              "  </style>\n",
              "\n",
              "      <script>\n",
              "        const buttonEl =\n",
              "          document.querySelector('#df-b90c279e-a86b-46fc-be4b-717c36311f37 button.colab-df-convert');\n",
              "        buttonEl.style.display =\n",
              "          google.colab.kernel.accessAllowed ? 'block' : 'none';\n",
              "\n",
              "        async function convertToInteractive(key) {\n",
              "          const element = document.querySelector('#df-b90c279e-a86b-46fc-be4b-717c36311f37');\n",
              "          const dataTable =\n",
              "            await google.colab.kernel.invokeFunction('convertToInteractive',\n",
              "                                                     [key], {});\n",
              "          if (!dataTable) return;\n",
              "\n",
              "          const docLinkHtml = 'Like what you see? Visit the ' +\n",
              "            '<a target=\"_blank\" href=https://colab.research.google.com/notebooks/data_table.ipynb>data table notebook</a>'\n",
              "            + ' to learn more about interactive tables.';\n",
              "          element.innerHTML = '';\n",
              "          dataTable['output_type'] = 'display_data';\n",
              "          await google.colab.output.renderOutput(dataTable, element);\n",
              "          const docLink = document.createElement('div');\n",
              "          docLink.innerHTML = docLinkHtml;\n",
              "          element.appendChild(docLink);\n",
              "        }\n",
              "      </script>\n",
              "    </div>\n",
              "  </div>\n",
              "  "
            ]
          },
          "metadata": {},
          "execution_count": 20
        }
      ]
    },
    {
      "cell_type": "code",
      "source": [
        "train_prediction"
      ],
      "metadata": {
        "colab": {
          "base_uri": "https://localhost:8080/"
        },
        "id": "U--OObPPCfsk",
        "outputId": "727a45c5-2ef2-4950-96b0-f5c19a5c7802"
      },
      "execution_count": null,
      "outputs": [
        {
          "output_type": "execute_result",
          "data": {
            "text/plain": [
              "1949-01-01      0.000000\n",
              "1949-02-01    111.998298\n",
              "1949-03-01    117.999818\n",
              "1949-04-01    131.999575\n",
              "1949-05-01    129.000091\n",
              "                 ...    \n",
              "1956-07-01    419.541093\n",
              "1956-08-01    398.688927\n",
              "1956-09-01    365.414390\n",
              "1956-10-01    320.671349\n",
              "1956-11-01    274.821840\n",
              "Freq: MS, Name: predicted_mean, Length: 95, dtype: float64"
            ]
          },
          "metadata": {},
          "execution_count": 21
        }
      ]
    },
    {
      "cell_type": "code",
      "source": [
        "\n",
        "#Prediction\n",
        "start_index = len(X_train)\n",
        "end_index = len(df)-1\n",
        "prediction = result.predict(start_index, end_index).rename('Predicted passengers') \n",
        "#Rename the column\n",
        "\n",
        "# plot predictions and actual values \n",
        "prediction.plot(legend = True) \n",
        "X_test['#Passengers'].plot(legend = True) "
      ],
      "metadata": {
        "colab": {
          "base_uri": "https://localhost:8080/",
          "height": 296
        },
        "id": "ZPy2WyQYDJhu",
        "outputId": "d4298aa1-fe39-487d-a5f1-45289984a291"
      },
      "execution_count": null,
      "outputs": [
        {
          "output_type": "execute_result",
          "data": {
            "text/plain": [
              "<matplotlib.axes._subplots.AxesSubplot at 0x7fc9bd81e150>"
            ]
          },
          "metadata": {},
          "execution_count": 22
        },
        {
          "output_type": "display_data",
          "data": {
            "text/plain": [
              "<Figure size 432x288 with 1 Axes>"
            ],
            "image/png": "[encoded data removed]"
          },
          "metadata": {}
        }
      ]
    },
    {
      "cell_type": "code",
      "source": [
        "import math\n",
        "from sklearn.metrics import mean_squared_error\n",
        "# calculate root mean squared error\n",
        "trainScore = math.sqrt(mean_squared_error(X_train, train_prediction))\n",
        "print('Train Score: %.2f RMSE' % (trainScore))\n",
        "testScore = math.sqrt(mean_squared_error(X_test, prediction))\n",
        "print('Test Score: %.2f RMSE' % (testScore))\n"
      ],
      "metadata": {
        "colab": {
          "base_uri": "https://localhost:8080/"
        },
        "id": "O1GmIeCADfV6",
        "outputId": "99dada58-1f29-47d9-8a30-c28b8c42affd"
      },
      "execution_count": null,
      "outputs": [
        {
          "output_type": "stream",
          "name": "stdout",
          "text": [
            "Train Score: 16.14 RMSE\n",
            "Test Score: 29.49 RMSE\n"
          ]
        }
      ]
    },
    {
      "cell_type": "code",
      "source": [
        "#################Let's forecast now for further years; years that do not exist in the dataset.##################\n",
        "#from sklearn.metrics import r2_score\n",
        "#score = r2_score(X_test, prediction)\n",
        "#print(\"R2 score is: \", score)\n",
        "\n",
        "#Forecast.. You can re-train on the entire dataset before forecasting\n",
        "#For now let us use the trained model\n",
        "# Forecast for the next 3 years \n",
        "forecast = result.predict(start = len(df),  \n",
        "                          end = (len(df)-1) + 3 * 12,  \n",
        "                          typ = 'levels').rename('Forecast') \n",
        "  \n",
        "plt.figure(figsize=(12,8))\n",
        "plt.plot(X_train, label='Training', color='green')\n",
        "plt.plot(X_test, label='Test', color='yellow')\n",
        "plt.plot(forecast, label='Forecast', color='cyan')\n",
        "plt.legend(loc='Left corner')\n",
        "plt.show()\n",
        "\n",
        "#ARIMA acts very good in time series forecasting.. and it's not weaker than neural networks or LSTM (Although LSTM and others can be applied to a bit more complex type of datasets\n",
        "#wether it's stocks or other datasets).\n",
        "#You need to need 3 types of forecasting(ARIMA/ NN(LSTM)/ and Fourrier transform based, and which means you're converting this from the time domain into a frequency domain ) \n",
        "##################"
      ],
      "metadata": {
        "id": "CBc39E1KtO4y",
        "colab": {
          "base_uri": "https://localhost:8080/",
          "height": 709
        },
        "outputId": "4e58e7ae-51c9-43ec-ebd9-972afa3dc061"
      },
      "execution_count": null,
      "outputs": [
        {
          "output_type": "stream",
          "name": "stderr",
          "text": [
            "/usr/local/lib/python3.7/dist-packages/ipykernel_launcher.py:17: MatplotlibDeprecationWarning: Unrecognized location 'Left corner'. Falling back on 'best'; valid locations are\n",
            "\tbest\n",
            "\tupper right\n",
            "\tupper left\n",
            "\tlower left\n",
            "\tlower right\n",
            "\tright\n",
            "\tcenter left\n",
            "\tcenter right\n",
            "\tlower center\n",
            "\tupper center\n",
            "\tcenter\n",
            "This will raise an exception in 3.3.\n"
          ]
        },
        {
          "output_type": "display_data",
          "data": {
            "text/plain": [
              "<Figure size 864x576 with 1 Axes>"
            ],
            "image/png": "[encoded data removed]"
          },
          "metadata": {}
        }
      ]
    },
    {
      "cell_type": "markdown",
      "source": [
        "# **Timeseries forecasting using Feed forward neural networks in python**"
      ],
      "metadata": {
        "id": "bNeX9KBiGIUp"
      }
    },
    {
      "cell_type": "code",
      "source": [
        "#How can we use timeseries for timeseries? well, using some tricks; Because instead of providing x and y values; think of it as providing of course x and y, but our x is \n",
        "#three or five numbers, previous to the y value; So if I have a data point from today, what if I provide data point from yesterday and day before and the day before, \n",
        "#and the day before as inputs, and today as output. And for the next data point, I'm going to provide day before; yesterday, yesterday and today as input and tomorrow's value\n",
        "#as output, and run this in a moving up, and if  we reorder our data such a way, this can be very useful.\n"
      ],
      "metadata": {
        "id": "weHKPBC0GRv3"
      },
      "execution_count": null,
      "outputs": []
    },
    {
      "cell_type": "code",
      "source": [
        "\"\"\"\n",
        "Dataset from: https://www.kaggle.com/rakannimer/air-passengers\n",
        "International Airline Passengers prediction problem.\n",
        "This is a problem where, given a year and a month, the task is to predict \n",
        "the number of international airline passengers in units of 1,000. \n",
        "The data ranges from January 1949 to December 1960, or 12 years, with 144 observations.\n",
        "\"\"\"\n",
        "\n",
        "import numpy as np\n",
        "import matplotlib.pyplot as plt\n",
        "from pandas import read_csv\n",
        "import math\n",
        "\n",
        "from keras.models import Sequential #because we are going to define our model in a sequential way; First, a layer comes in, and then another layer, and then another layer.\n",
        "#And if you have very weird architecture for your DL, then it can make things complicated.\n",
        "from keras.layers import Dense #Dense is a fully connected layer.\n",
        "from sklearn.preprocessing import MinMaxScaler #Scikit-learn is another ML package that contains a lot of traditional ML tools including classifiers like random forest, \n",
        "#and SVM, and a  whole bunch of other calssifiers, but also under pre-processing, it has scaling tools like minmax scalar and metrics...etc.\n",
        "from sklearn.metrics import mean_squared_error\n"
      ],
      "metadata": {
        "id": "JHZxpqAtaFOs"
      },
      "execution_count": null,
      "outputs": []
    },
    {
      "cell_type": "code",
      "source": [
        "# load the dataset\n",
        "dataframe = read_csv('/content/sample_data/Data/AirPassengers.csv', usecols=[1])\n",
        "plt.plot(dataframe)"
      ],
      "metadata": {
        "colab": {
          "base_uri": "https://localhost:8080/",
          "height": 282
        },
        "id": "GXSjWP4Yfi9X",
        "outputId": "da6a603e-4d11-4b64-fee4-18f9e12a61bf"
      },
      "execution_count": null,
      "outputs": [
        {
          "output_type": "execute_result",
          "data": {
            "text/plain": [
              "[<matplotlib.lines.Line2D at 0x7fc964362b10>]"
            ]
          },
          "metadata": {},
          "execution_count": 32
        },
        {
          "output_type": "display_data",
          "data": {
            "text/plain": [
              "<Figure size 432x288 with 1 Axes>"
            ],
            "image/png": "[encoded data removed]"
          },
          "metadata": {}
        }
      ]
    },
    {
      "cell_type": "code",
      "source": [
        "#Convert pandas dataframe to numpy array; because when dealing with DL, what we supply to it is a numpy array.\n",
        "dataset = dataframe.values\n",
        "dataset = dataset.astype('float32') #Convert values to float because  when we do some math with these numbers, especially using NN, we want these to be floating point numbers\n",
        "#not integers, because you don't want to lose things in round of ereors\n"
      ],
      "metadata": {
        "id": "u3KVZDEHf9hP"
      },
      "execution_count": null,
      "outputs": []
    },
    {
      "cell_type": "code",
      "source": [
        "# Normalization is optional but recommended for neural network as certain \n",
        "# activation functions are sensitive to magnitude of numbers. \n",
        "# normalize the dataset\n",
        "scaler = MinMaxScaler(feature_range=(0, 1)) #Also try QuantileTransformer\n",
        "#Some activation functions are good with numbers that exist in our dataset, but others no; they need numbers between 0 and 1 or -1 and 1\n",
        "#And then we fit that to the dataset.\n",
        "dataset = scaler.fit_transform(dataset) "
      ],
      "metadata": {
        "id": "lnB9tYj3koPx"
      },
      "execution_count": null,
      "outputs": []
    },
    {
      "cell_type": "code",
      "source": [
        "#We cannot use random way of splitting dataset into train and test as\n",
        "#the sequence of events is important for time series.\n",
        "#So let us take first 60% values for train and the remaining 1/3 for testing\n",
        "# split into train and test sets\n",
        "train_size = int(len(dataset) * 0.66)\n",
        "test_size = len(dataset) - train_size\n",
        "train, test = dataset[0:train_size,:], dataset[train_size:len(dataset),:]"
      ],
      "metadata": {
        "id": "awbRbjx7k_iz"
      },
      "execution_count": null,
      "outputs": []
    },
    {
      "cell_type": "code",
      "source": [
        "# We cannot fit the model like we normally do for image processing where we have\n",
        "#X and Y. We need to transform our data into something that looks like X and Y values.\n",
        "# This way it can be trained on a sequence rather than indvidual datapoints(Like ARIMA)\n",
        "# Let us convert into n number of columns for X where we feed sequence of numbers\n",
        "#then the final column as Y where we provide the next number in the sequence as output.\n",
        "# So let us convert an array of values into a dataset matrix\n",
        "\n",
        "#seq_size is the number of previous time steps to use as \n",
        "#input variables to predict the next time period.\n",
        "\n",
        "#creates a dataset where X is the number of passengers at a given time (t, t-1, t-2...) \n",
        "#and Y is the number of passengers at the next time (t + 1).\n",
        "\n",
        "def to_sequences(dataset, seq_size=1):\n",
        "    x = []\n",
        "    y = []\n",
        "\n",
        "    for i in range(len(dataset)-seq_size-1):\n",
        "        #print(i)\n",
        "        window = dataset[i:(i+seq_size), 0]\n",
        "        x.append(window)\n",
        "        y.append(dataset[i+seq_size, 0])\n",
        "        \n",
        "    return np.array(x),np.array(y)"
      ],
      "metadata": {
        "id": "bk1IBKZElVUD"
      },
      "execution_count": null,
      "outputs": []
    },
    {
      "cell_type": "code",
      "source": [
        "'''###########Alternatively, we can use TimeseriesGenerator from keras to automatically arrange your data into variou sequences for training(code on Sreeni's github)\n",
        "from keras.preprocessing.sequence import TimeseriesGenerator\n",
        "seq_size=length=10\n",
        "batch_size=1\n",
        "train_generator=TimeseriesGenerator(train,train, length=length,batch_size=batch_size)\n",
        "...\n",
        "model.fit_generator(generator=train_generator,verbose=2,epochs=25)\n",
        "'''"
      ],
      "metadata": {
        "id": "iS8VP5izl9U4"
      },
      "execution_count": null,
      "outputs": []
    },
    {
      "cell_type": "code",
      "source": [
        "seq_size = 5 #The window size: Number of time steps to look back \n",
        "#Larger sequences (look further back) may improve forecasting.\n",
        "trainX, trainY = to_sequences(train, seq_size)\n",
        "testX, testY = to_sequences(test, seq_size)"
      ],
      "metadata": {
        "id": "7x63o2ZVm1xY"
      },
      "execution_count": null,
      "outputs": []
    },
    {
      "cell_type": "code",
      "source": [
        "#Compare trainX and dataset. You can see that X= values at t, t+1 and t+2\n",
        "#whereas Y is the value that follows, t+3 (since our sequence size is 3)\n",
        "\n",
        "print(\"Shape of training set: {}\".format(trainX.shape))\n",
        "print(\"Shape of test set: {}\".format(testX.shape))"
      ],
      "metadata": {
        "colab": {
          "base_uri": "https://localhost:8080/"
        },
        "id": "iAbZFIkVnvKR",
        "outputId": "5f9e0532-d569-4ff9-e285-eda171b498ee"
      },
      "execution_count": null,
      "outputs": [
        {
          "output_type": "stream",
          "name": "stdout",
          "text": [
            "Shape of training set: (89, 5)\n",
            "Shape of test set: (43, 5)\n"
          ]
        }
      ]
    },
    {
      "cell_type": "code",
      "source": [
        "#Input dimensions are... (N x seq_size)\n",
        "print('Build deep model...')\n",
        "# create and fit dense model\n",
        "model = Sequential()\n",
        "model.add(Dense(64, input_dim=seq_size, activation='relu')) #12\n",
        "model.add(Dense(32, activation='relu'))  #8\n",
        "model.add(Dense(1))\n",
        "model.compile(loss='mean_squared_error', optimizer='adam', metrics = ['acc'])\n",
        "print(model.summary()) \n"
      ],
      "metadata": {
        "colab": {
          "base_uri": "https://localhost:8080/"
        },
        "id": "_QKn5fuJoSvN",
        "outputId": "9ad2bb6f-87f4-491f-ea33-ee5e1a6d50b8"
      },
      "execution_count": null,
      "outputs": [
        {
          "output_type": "stream",
          "name": "stdout",
          "text": [
            "Build deep model...\n",
            "Model: \"sequential_1\"\n",
            "_________________________________________________________________\n",
            " Layer (type)                Output Shape              Param #   \n",
            "=================================================================\n",
            " dense_2 (Dense)             (None, 64)                384       \n",
            "                                                                 \n",
            " dense_3 (Dense)             (None, 32)                2080      \n",
            "                                                                 \n",
            " dense_4 (Dense)             (None, 1)                 33        \n",
            "                                                                 \n",
            "=================================================================\n",
            "Total params: 2,497\n",
            "Trainable params: 2,497\n",
            "Non-trainable params: 0\n",
            "_________________________________________________________________\n",
            "None\n"
          ]
        }
      ]
    },
    {
      "cell_type": "code",
      "source": [
        "#for layer in model.layers:\n",
        "#    print(layer.input_shape)\n",
        "\n",
        "##################################################\n",
        "#Try another model....\n",
        "#print('Build simple model...')\n",
        "## create and fit dense model\n",
        "#model = Sequential()\n",
        "#model.add(Dense(8, input_dim=seq_size, activation='relu'))\n",
        "#model.add(Dense(1))\n",
        "#model.compile(loss='mean_squared_error', optimizer='adam', metrics = ['acc'])\n",
        "#print(model.summary()) \n",
        "\n",
        "\n",
        "\n",
        "#model.fit(trainX, trainY, epochs=200, batch_size=2, verbose=2)\n",
        "\n",
        "model.fit(trainX, trainY, validation_data=(testX, testY),\n",
        "          verbose=2, epochs=100)"
      ],
      "metadata": {
        "colab": {
          "base_uri": "https://localhost:8080/"
        },
        "id": "mII1xukWppCm",
        "outputId": "49a2a1dd-c687-4c09-c51f-d10e1e56960c"
      },
      "execution_count": null,
      "outputs": [
        {
          "output_type": "stream",
          "name": "stdout",
          "text": [
            "Epoch 1/100\n",
            "3/3 - 1s - loss: 0.1125 - acc: 0.0112 - val_loss: 0.5936 - val_acc: 0.0000e+00 - 738ms/epoch - 246ms/step\n",
            "Epoch 2/100\n",
            "3/3 - 0s - loss: 0.0832 - acc: 0.0112 - val_loss: 0.4549 - val_acc: 0.0000e+00 - 38ms/epoch - 13ms/step\n",
            "Epoch 3/100\n",
            "3/3 - 0s - loss: 0.0583 - acc: 0.0112 - val_loss: 0.3385 - val_acc: 0.0000e+00 - 39ms/epoch - 13ms/step\n",
            "Epoch 4/100\n",
            "3/3 - 0s - loss: 0.0392 - acc: 0.0112 - val_loss: 0.2407 - val_acc: 0.0000e+00 - 37ms/epoch - 12ms/step\n",
            "Epoch 5/100\n",
            "3/3 - 0s - loss: 0.0242 - acc: 0.0112 - val_loss: 0.1618 - val_acc: 0.0000e+00 - 37ms/epoch - 12ms/step\n",
            "Epoch 6/100\n",
            "3/3 - 0s - loss: 0.0143 - acc: 0.0112 - val_loss: 0.1001 - val_acc: 0.0000e+00 - 45ms/epoch - 15ms/step\n",
            "Epoch 7/100\n",
            "3/3 - 0s - loss: 0.0085 - acc: 0.0112 - val_loss: 0.0575 - val_acc: 0.0000e+00 - 52ms/epoch - 17ms/step\n",
            "Epoch 8/100\n",
            "3/3 - 0s - loss: 0.0066 - acc: 0.0112 - val_loss: 0.0341 - val_acc: 0.0233 - 77ms/epoch - 26ms/step\n",
            "Epoch 9/100\n",
            "3/3 - 0s - loss: 0.0069 - acc: 0.0112 - val_loss: 0.0241 - val_acc: 0.0233 - 162ms/epoch - 54ms/step\n",
            "Epoch 10/100\n",
            "3/3 - 0s - loss: 0.0075 - acc: 0.0112 - val_loss: 0.0210 - val_acc: 0.0233 - 80ms/epoch - 27ms/step\n",
            "Epoch 11/100\n",
            "3/3 - 0s - loss: 0.0077 - acc: 0.0112 - val_loss: 0.0206 - val_acc: 0.0233 - 85ms/epoch - 28ms/step\n",
            "Epoch 12/100\n",
            "3/3 - 0s - loss: 0.0071 - acc: 0.0112 - val_loss: 0.0217 - val_acc: 0.0233 - 61ms/epoch - 20ms/step\n",
            "Epoch 13/100\n",
            "3/3 - 0s - loss: 0.0062 - acc: 0.0112 - val_loss: 0.0242 - val_acc: 0.0233 - 53ms/epoch - 18ms/step\n",
            "Epoch 14/100\n",
            "3/3 - 0s - loss: 0.0056 - acc: 0.0112 - val_loss: 0.0281 - val_acc: 0.0233 - 69ms/epoch - 23ms/step\n",
            "Epoch 15/100\n",
            "3/3 - 0s - loss: 0.0051 - acc: 0.0112 - val_loss: 0.0316 - val_acc: 0.0233 - 82ms/epoch - 27ms/step\n",
            "Epoch 16/100\n",
            "3/3 - 0s - loss: 0.0049 - acc: 0.0112 - val_loss: 0.0339 - val_acc: 0.0233 - 87ms/epoch - 29ms/step\n",
            "Epoch 17/100\n",
            "3/3 - 0s - loss: 0.0048 - acc: 0.0112 - val_loss: 0.0345 - val_acc: 0.0233 - 76ms/epoch - 25ms/step\n",
            "Epoch 18/100\n",
            "3/3 - 0s - loss: 0.0047 - acc: 0.0112 - val_loss: 0.0336 - val_acc: 0.0233 - 53ms/epoch - 18ms/step\n",
            "Epoch 19/100\n",
            "3/3 - 0s - loss: 0.0046 - acc: 0.0112 - val_loss: 0.0314 - val_acc: 0.0233 - 55ms/epoch - 18ms/step\n",
            "Epoch 20/100\n",
            "3/3 - 0s - loss: 0.0044 - acc: 0.0112 - val_loss: 0.0282 - val_acc: 0.0233 - 60ms/epoch - 20ms/step\n",
            "Epoch 21/100\n",
            "3/3 - 0s - loss: 0.0042 - acc: 0.0112 - val_loss: 0.0254 - val_acc: 0.0233 - 75ms/epoch - 25ms/step\n",
            "Epoch 22/100\n",
            "3/3 - 0s - loss: 0.0041 - acc: 0.0112 - val_loss: 0.0231 - val_acc: 0.0233 - 80ms/epoch - 27ms/step\n",
            "Epoch 23/100\n",
            "3/3 - 0s - loss: 0.0040 - acc: 0.0112 - val_loss: 0.0215 - val_acc: 0.0233 - 78ms/epoch - 26ms/step\n",
            "Epoch 24/100\n",
            "3/3 - 0s - loss: 0.0039 - acc: 0.0112 - val_loss: 0.0208 - val_acc: 0.0233 - 119ms/epoch - 40ms/step\n",
            "Epoch 25/100\n",
            "3/3 - 0s - loss: 0.0038 - acc: 0.0112 - val_loss: 0.0205 - val_acc: 0.0233 - 97ms/epoch - 32ms/step\n",
            "Epoch 26/100\n",
            "3/3 - 0s - loss: 0.0036 - acc: 0.0112 - val_loss: 0.0202 - val_acc: 0.0233 - 54ms/epoch - 18ms/step\n",
            "Epoch 27/100\n",
            "3/3 - 0s - loss: 0.0035 - acc: 0.0112 - val_loss: 0.0202 - val_acc: 0.0233 - 53ms/epoch - 18ms/step\n",
            "Epoch 28/100\n",
            "3/3 - 0s - loss: 0.0035 - acc: 0.0112 - val_loss: 0.0193 - val_acc: 0.0233 - 39ms/epoch - 13ms/step\n",
            "Epoch 29/100\n",
            "3/3 - 0s - loss: 0.0033 - acc: 0.0112 - val_loss: 0.0187 - val_acc: 0.0233 - 44ms/epoch - 15ms/step\n",
            "Epoch 30/100\n",
            "3/3 - 0s - loss: 0.0033 - acc: 0.0112 - val_loss: 0.0184 - val_acc: 0.0233 - 41ms/epoch - 14ms/step\n",
            "Epoch 31/100\n",
            "3/3 - 0s - loss: 0.0032 - acc: 0.0112 - val_loss: 0.0179 - val_acc: 0.0233 - 39ms/epoch - 13ms/step\n",
            "Epoch 32/100\n",
            "3/3 - 0s - loss: 0.0031 - acc: 0.0112 - val_loss: 0.0172 - val_acc: 0.0233 - 44ms/epoch - 15ms/step\n",
            "Epoch 33/100\n",
            "3/3 - 0s - loss: 0.0030 - acc: 0.0112 - val_loss: 0.0165 - val_acc: 0.0233 - 39ms/epoch - 13ms/step\n",
            "Epoch 34/100\n",
            "3/3 - 0s - loss: 0.0029 - acc: 0.0112 - val_loss: 0.0161 - val_acc: 0.0233 - 43ms/epoch - 14ms/step\n",
            "Epoch 35/100\n",
            "3/3 - 0s - loss: 0.0029 - acc: 0.0112 - val_loss: 0.0154 - val_acc: 0.0233 - 46ms/epoch - 15ms/step\n",
            "Epoch 36/100\n",
            "3/3 - 0s - loss: 0.0028 - acc: 0.0112 - val_loss: 0.0148 - val_acc: 0.0233 - 66ms/epoch - 22ms/step\n",
            "Epoch 37/100\n",
            "3/3 - 0s - loss: 0.0027 - acc: 0.0112 - val_loss: 0.0145 - val_acc: 0.0233 - 44ms/epoch - 15ms/step\n",
            "Epoch 38/100\n",
            "3/3 - 0s - loss: 0.0027 - acc: 0.0112 - val_loss: 0.0142 - val_acc: 0.0233 - 61ms/epoch - 20ms/step\n",
            "Epoch 39/100\n",
            "3/3 - 0s - loss: 0.0026 - acc: 0.0112 - val_loss: 0.0138 - val_acc: 0.0233 - 64ms/epoch - 21ms/step\n",
            "Epoch 40/100\n",
            "3/3 - 0s - loss: 0.0026 - acc: 0.0112 - val_loss: 0.0135 - val_acc: 0.0233 - 52ms/epoch - 17ms/step\n",
            "Epoch 41/100\n",
            "3/3 - 0s - loss: 0.0025 - acc: 0.0112 - val_loss: 0.0133 - val_acc: 0.0233 - 55ms/epoch - 18ms/step\n",
            "Epoch 42/100\n",
            "3/3 - 0s - loss: 0.0025 - acc: 0.0112 - val_loss: 0.0129 - val_acc: 0.0233 - 41ms/epoch - 14ms/step\n",
            "Epoch 43/100\n",
            "3/3 - 0s - loss: 0.0025 - acc: 0.0112 - val_loss: 0.0126 - val_acc: 0.0233 - 50ms/epoch - 17ms/step\n",
            "Epoch 44/100\n",
            "3/3 - 0s - loss: 0.0024 - acc: 0.0112 - val_loss: 0.0123 - val_acc: 0.0233 - 40ms/epoch - 13ms/step\n",
            "Epoch 45/100\n",
            "3/3 - 0s - loss: 0.0024 - acc: 0.0112 - val_loss: 0.0119 - val_acc: 0.0233 - 57ms/epoch - 19ms/step\n",
            "Epoch 46/100\n",
            "3/3 - 0s - loss: 0.0023 - acc: 0.0112 - val_loss: 0.0117 - val_acc: 0.0233 - 50ms/epoch - 17ms/step\n",
            "Epoch 47/100\n",
            "3/3 - 0s - loss: 0.0023 - acc: 0.0112 - val_loss: 0.0113 - val_acc: 0.0233 - 40ms/epoch - 13ms/step\n",
            "Epoch 48/100\n",
            "3/3 - 0s - loss: 0.0023 - acc: 0.0112 - val_loss: 0.0114 - val_acc: 0.0233 - 44ms/epoch - 15ms/step\n",
            "Epoch 49/100\n",
            "3/3 - 0s - loss: 0.0023 - acc: 0.0112 - val_loss: 0.0114 - val_acc: 0.0233 - 43ms/epoch - 14ms/step\n",
            "Epoch 50/100\n",
            "3/3 - 0s - loss: 0.0022 - acc: 0.0112 - val_loss: 0.0112 - val_acc: 0.0233 - 48ms/epoch - 16ms/step\n",
            "Epoch 51/100\n",
            "3/3 - 0s - loss: 0.0022 - acc: 0.0112 - val_loss: 0.0111 - val_acc: 0.0233 - 36ms/epoch - 12ms/step\n",
            "Epoch 52/100\n",
            "3/3 - 0s - loss: 0.0022 - acc: 0.0112 - val_loss: 0.0106 - val_acc: 0.0233 - 60ms/epoch - 20ms/step\n",
            "Epoch 53/100\n",
            "3/3 - 0s - loss: 0.0022 - acc: 0.0112 - val_loss: 0.0104 - val_acc: 0.0233 - 54ms/epoch - 18ms/step\n",
            "Epoch 54/100\n",
            "3/3 - 0s - loss: 0.0022 - acc: 0.0112 - val_loss: 0.0106 - val_acc: 0.0233 - 41ms/epoch - 14ms/step\n",
            "Epoch 55/100\n",
            "3/3 - 0s - loss: 0.0021 - acc: 0.0112 - val_loss: 0.0104 - val_acc: 0.0233 - 65ms/epoch - 22ms/step\n",
            "Epoch 56/100\n",
            "3/3 - 0s - loss: 0.0021 - acc: 0.0112 - val_loss: 0.0102 - val_acc: 0.0233 - 63ms/epoch - 21ms/step\n",
            "Epoch 57/100\n",
            "3/3 - 0s - loss: 0.0021 - acc: 0.0112 - val_loss: 0.0100 - val_acc: 0.0233 - 41ms/epoch - 14ms/step\n",
            "Epoch 58/100\n",
            "3/3 - 0s - loss: 0.0021 - acc: 0.0112 - val_loss: 0.0101 - val_acc: 0.0233 - 38ms/epoch - 13ms/step\n",
            "Epoch 59/100\n",
            "3/3 - 0s - loss: 0.0021 - acc: 0.0112 - val_loss: 0.0103 - val_acc: 0.0233 - 63ms/epoch - 21ms/step\n",
            "Epoch 60/100\n",
            "3/3 - 0s - loss: 0.0021 - acc: 0.0112 - val_loss: 0.0102 - val_acc: 0.0233 - 37ms/epoch - 12ms/step\n",
            "Epoch 61/100\n",
            "3/3 - 0s - loss: 0.0020 - acc: 0.0112 - val_loss: 0.0097 - val_acc: 0.0233 - 43ms/epoch - 14ms/step\n",
            "Epoch 62/100\n",
            "3/3 - 0s - loss: 0.0020 - acc: 0.0112 - val_loss: 0.0094 - val_acc: 0.0233 - 45ms/epoch - 15ms/step\n",
            "Epoch 63/100\n",
            "3/3 - 0s - loss: 0.0020 - acc: 0.0112 - val_loss: 0.0094 - val_acc: 0.0233 - 45ms/epoch - 15ms/step\n",
            "Epoch 64/100\n",
            "3/3 - 0s - loss: 0.0020 - acc: 0.0112 - val_loss: 0.0094 - val_acc: 0.0233 - 42ms/epoch - 14ms/step\n",
            "Epoch 65/100\n",
            "3/3 - 0s - loss: 0.0020 - acc: 0.0112 - val_loss: 0.0097 - val_acc: 0.0233 - 49ms/epoch - 16ms/step\n",
            "Epoch 66/100\n",
            "3/3 - 0s - loss: 0.0020 - acc: 0.0112 - val_loss: 0.0098 - val_acc: 0.0233 - 48ms/epoch - 16ms/step\n",
            "Epoch 67/100\n",
            "3/3 - 0s - loss: 0.0019 - acc: 0.0112 - val_loss: 0.0094 - val_acc: 0.0233 - 47ms/epoch - 16ms/step\n",
            "Epoch 68/100\n",
            "3/3 - 0s - loss: 0.0019 - acc: 0.0112 - val_loss: 0.0091 - val_acc: 0.0233 - 59ms/epoch - 20ms/step\n",
            "Epoch 69/100\n",
            "3/3 - 0s - loss: 0.0019 - acc: 0.0112 - val_loss: 0.0090 - val_acc: 0.0233 - 39ms/epoch - 13ms/step\n",
            "Epoch 70/100\n",
            "3/3 - 0s - loss: 0.0019 - acc: 0.0112 - val_loss: 0.0093 - val_acc: 0.0233 - 42ms/epoch - 14ms/step\n",
            "Epoch 71/100\n",
            "3/3 - 0s - loss: 0.0019 - acc: 0.0112 - val_loss: 0.0094 - val_acc: 0.0233 - 41ms/epoch - 14ms/step\n",
            "Epoch 72/100\n",
            "3/3 - 0s - loss: 0.0019 - acc: 0.0112 - val_loss: 0.0093 - val_acc: 0.0233 - 45ms/epoch - 15ms/step\n",
            "Epoch 73/100\n",
            "3/3 - 0s - loss: 0.0019 - acc: 0.0112 - val_loss: 0.0089 - val_acc: 0.0233 - 43ms/epoch - 14ms/step\n",
            "Epoch 74/100\n",
            "3/3 - 0s - loss: 0.0019 - acc: 0.0112 - val_loss: 0.0087 - val_acc: 0.0233 - 50ms/epoch - 17ms/step\n",
            "Epoch 75/100\n",
            "3/3 - 0s - loss: 0.0019 - acc: 0.0112 - val_loss: 0.0087 - val_acc: 0.0233 - 41ms/epoch - 14ms/step\n",
            "Epoch 76/100\n",
            "3/3 - 0s - loss: 0.0018 - acc: 0.0112 - val_loss: 0.0092 - val_acc: 0.0233 - 44ms/epoch - 15ms/step\n",
            "Epoch 77/100\n",
            "3/3 - 0s - loss: 0.0018 - acc: 0.0112 - val_loss: 0.0092 - val_acc: 0.0233 - 41ms/epoch - 14ms/step\n",
            "Epoch 78/100\n",
            "3/3 - 0s - loss: 0.0018 - acc: 0.0112 - val_loss: 0.0091 - val_acc: 0.0233 - 45ms/epoch - 15ms/step\n",
            "Epoch 79/100\n",
            "3/3 - 0s - loss: 0.0018 - acc: 0.0112 - val_loss: 0.0086 - val_acc: 0.0233 - 66ms/epoch - 22ms/step\n",
            "Epoch 80/100\n",
            "3/3 - 0s - loss: 0.0018 - acc: 0.0112 - val_loss: 0.0087 - val_acc: 0.0233 - 44ms/epoch - 15ms/step\n",
            "Epoch 81/100\n",
            "3/3 - 0s - loss: 0.0018 - acc: 0.0112 - val_loss: 0.0088 - val_acc: 0.0233 - 61ms/epoch - 20ms/step\n",
            "Epoch 82/100\n",
            "3/3 - 0s - loss: 0.0018 - acc: 0.0112 - val_loss: 0.0087 - val_acc: 0.0233 - 49ms/epoch - 16ms/step\n",
            "Epoch 83/100\n",
            "3/3 - 0s - loss: 0.0018 - acc: 0.0112 - val_loss: 0.0090 - val_acc: 0.0233 - 43ms/epoch - 14ms/step\n",
            "Epoch 84/100\n",
            "3/3 - 0s - loss: 0.0018 - acc: 0.0112 - val_loss: 0.0090 - val_acc: 0.0233 - 40ms/epoch - 13ms/step\n",
            "Epoch 85/100\n",
            "3/3 - 0s - loss: 0.0018 - acc: 0.0112 - val_loss: 0.0088 - val_acc: 0.0233 - 58ms/epoch - 19ms/step\n",
            "Epoch 86/100\n",
            "3/3 - 0s - loss: 0.0018 - acc: 0.0112 - val_loss: 0.0082 - val_acc: 0.0233 - 47ms/epoch - 16ms/step\n",
            "Epoch 87/100\n",
            "3/3 - 0s - loss: 0.0018 - acc: 0.0112 - val_loss: 0.0082 - val_acc: 0.0233 - 50ms/epoch - 17ms/step\n",
            "Epoch 88/100\n",
            "3/3 - 0s - loss: 0.0018 - acc: 0.0112 - val_loss: 0.0083 - val_acc: 0.0233 - 39ms/epoch - 13ms/step\n",
            "Epoch 89/100\n",
            "3/3 - 0s - loss: 0.0017 - acc: 0.0112 - val_loss: 0.0088 - val_acc: 0.0233 - 42ms/epoch - 14ms/step\n",
            "Epoch 90/100\n",
            "3/3 - 0s - loss: 0.0017 - acc: 0.0112 - val_loss: 0.0088 - val_acc: 0.0233 - 43ms/epoch - 14ms/step\n",
            "Epoch 91/100\n",
            "3/3 - 0s - loss: 0.0018 - acc: 0.0112 - val_loss: 0.0085 - val_acc: 0.0233 - 52ms/epoch - 17ms/step\n",
            "Epoch 92/100\n",
            "3/3 - 0s - loss: 0.0017 - acc: 0.0112 - val_loss: 0.0088 - val_acc: 0.0233 - 69ms/epoch - 23ms/step\n",
            "Epoch 93/100\n",
            "3/3 - 0s - loss: 0.0017 - acc: 0.0112 - val_loss: 0.0084 - val_acc: 0.0233 - 46ms/epoch - 15ms/step\n",
            "Epoch 94/100\n",
            "3/3 - 0s - loss: 0.0017 - acc: 0.0112 - val_loss: 0.0081 - val_acc: 0.0233 - 53ms/epoch - 18ms/step\n",
            "Epoch 95/100\n",
            "3/3 - 0s - loss: 0.0017 - acc: 0.0112 - val_loss: 0.0082 - val_acc: 0.0233 - 40ms/epoch - 13ms/step\n",
            "Epoch 96/100\n",
            "3/3 - 0s - loss: 0.0017 - acc: 0.0112 - val_loss: 0.0083 - val_acc: 0.0233 - 47ms/epoch - 16ms/step\n",
            "Epoch 97/100\n",
            "3/3 - 0s - loss: 0.0017 - acc: 0.0112 - val_loss: 0.0086 - val_acc: 0.0233 - 47ms/epoch - 16ms/step\n",
            "Epoch 98/100\n",
            "3/3 - 0s - loss: 0.0017 - acc: 0.0112 - val_loss: 0.0087 - val_acc: 0.0233 - 50ms/epoch - 17ms/step\n",
            "Epoch 99/100\n",
            "3/3 - 0s - loss: 0.0017 - acc: 0.0112 - val_loss: 0.0083 - val_acc: 0.0233 - 46ms/epoch - 15ms/step\n",
            "Epoch 100/100\n",
            "3/3 - 0s - loss: 0.0017 - acc: 0.0112 - val_loss: 0.0084 - val_acc: 0.0233 - 51ms/epoch - 17ms/step\n"
          ]
        },
        {
          "output_type": "execute_result",
          "data": {
            "text/plain": [
              "<keras.callbacks.History at 0x7fc95fd3ad10>"
            ]
          },
          "metadata": {},
          "execution_count": 59
        }
      ]
    },
    {
      "cell_type": "code",
      "source": [
        "# make predictions\n",
        "\n",
        "trainPredict = model.predict(trainX)\n",
        "testPredict = model.predict(testX)"
      ],
      "metadata": {
        "colab": {
          "base_uri": "https://localhost:8080/"
        },
        "id": "eCW2ZYeppyxD",
        "outputId": "d967023c-0277-4b44-fb45-81e7f6441d38"
      },
      "execution_count": null,
      "outputs": [
        {
          "output_type": "stream",
          "name": "stdout",
          "text": [
            "3/3 [==============================] - 0s 9ms/step\n",
            "2/2 [==============================] - 0s 12ms/step\n"
          ]
        }
      ]
    },
    {
      "cell_type": "code",
      "source": [
        "# Estimate model performance\n",
        "#SInce we used minmaxscaler we can now use scaler.inverse_transform\n",
        "#to invert the transformation.\n",
        "\n",
        "trainPredict = scaler.inverse_transform(trainPredict)\n",
        "trainY_inverse = scaler.inverse_transform([trainY])\n",
        "testPredict = scaler.inverse_transform(testPredict)\n",
        "testY_inverse = scaler.inverse_transform([testY])\n"
      ],
      "metadata": {
        "id": "FFu74fSNqAiM"
      },
      "execution_count": null,
      "outputs": []
    },
    {
      "cell_type": "code",
      "source": [
        "print(trainY_inverse)"
      ],
      "metadata": {
        "colab": {
          "base_uri": "https://localhost:8080/"
        },
        "id": "G0HP5WcUxTbr",
        "outputId": "3431d3a6-64a0-4dd0-a8a3-17beb287a3f7"
      },
      "execution_count": null,
      "outputs": [
        {
          "output_type": "stream",
          "name": "stdout",
          "text": [
            "[[135.00000368 147.99999397 147.99999397 136.00000531 119.00000078\n",
            "  103.99999952 117.99999916 115.00000199 125.99999674 140.99999801\n",
            "  135.00000368 125.00000283 148.9999956  169.99999891 169.99999891\n",
            "  157.99999481 133.00000042 114.00000036 139.99999638 145.00000452\n",
            "  149.99999723 177.9999965  163.00000295 172.00000217 177.9999965\n",
            "  198.99999982 198.99999982 184.00000627 162.00000133 146.00000615\n",
            "  165.9999924  171.00000054 179.99999976 193.00000549 181.00000139\n",
            "  183.00000464 217.99999988 230.00000398 241.99999264 209.00000066\n",
            "  191.00000223 172.00000217 194.00000712 195.99999493 195.99999493\n",
            "  235.99999831 234.99999668 229.00000235 242.99999427 263.99999759\n",
            "  272.00001061 236.99999994 211.00000392 179.99999976 201.00000308\n",
            "  203.99999252 187.99999735 234.99999668 226.9999991  233.99999506\n",
            "  263.99999759 301.99999771 292.99999849 259.00000488 229.00000235\n",
            "  203.00000633 229.00000235 241.99999264 232.99999343 266.99998703\n",
            "  268.99999029 270.00000736 315.00000344 363.99999059 346.99999379\n",
            "  312.00001399 274.00001387 236.99999994 277.99998951 283.99999928\n",
            "  277.00000332 317.00000669 313.00000018 317.99999288 373.999976\n",
            "  412.99999319 404.99998016 355.00000681 306.00000422]]\n"
          ]
        }
      ]
    },
    {
      "cell_type": "code",
      "source": [
        "print(trainPredict)\n"
      ],
      "metadata": {
        "id": "_bIDU7eJxiKd"
      },
      "execution_count": null,
      "outputs": []
    },
    {
      "cell_type": "code",
      "source": [
        "# calculate root mean squared error\n",
        "trainScore = math.sqrt(mean_squared_error(trainY_inverse[0], trainPredict[:,0]))\n",
        "print('Train Score: %.2f RMSE' % (trainScore))\n",
        "\n",
        "testScore = math.sqrt(mean_squared_error(testY_inverse[0], testPredict[:,0]))\n",
        "print('Test Score: %.2f RMSE' % (testScore))\n"
      ],
      "metadata": {
        "colab": {
          "base_uri": "https://localhost:8080/"
        },
        "id": "uXyqU6p14Nx3",
        "outputId": "45c34635-9513-4dc4-9f18-76ee1032a5b7"
      },
      "execution_count": null,
      "outputs": [
        {
          "output_type": "stream",
          "name": "stdout",
          "text": [
            "Train Score: 21.20 RMSE\n",
            "Test Score: 47.36 RMSE\n"
          ]
        }
      ]
    },
    {
      "cell_type": "code",
      "source": [
        "# shift train predictions for plotting\n",
        "#we must shift the predictions so that they align on the x-axis with the original dataset. \n",
        "trainPredictPlot = np.empty_like(dataset)\n",
        "trainPredictPlot[:, :] = np.nan\n",
        "trainPredictPlot[seq_size:len(trainPredict)+seq_size, :] = trainPredict\n",
        "# shift test predictions for plotting\n",
        "testPredictPlot = np.empty_like(dataset)\n",
        "testPredictPlot[:, :] = np.nan\n",
        "testPredictPlot[len(trainPredict)+(seq_size*2)+1:len(dataset)-1, :] = testPredict"
      ],
      "metadata": {
        "id": "xIP6OjMS4SaL"
      },
      "execution_count": null,
      "outputs": []
    },
    {
      "cell_type": "code",
      "source": [
        "# plot baseline and predictions\n",
        "plt.plot(scaler.inverse_transform(dataset))\n",
        "plt.plot(trainPredictPlot)\n",
        "plt.plot(testPredictPlot)\n",
        "plt.show()\n"
      ],
      "metadata": {
        "colab": {
          "base_uri": "https://localhost:8080/",
          "height": 265
        },
        "id": "ZV317P7wZ6li",
        "outputId": "b7e0c1f7-f8ea-4ddf-f272-2fc495de3e32"
      },
      "execution_count": null,
      "outputs": [
        {
          "output_type": "display_data",
          "data": {
            "text/plain": [
              "<Figure size 432x288 with 1 Axes>"
            ],
            "image/png": "[encoded data removed]"
          },
          "metadata": {}
        }
      ]
    },
    {
      "cell_type": "markdown",
      "source": [
        "# **An introduction to RNN  (Recurrent Neural Networks) and LSTM         Long-Short-Term-Memory)**"
      ],
      "metadata": {
        "id": "hB5EDIQb49hl"
      }
    },
    {
      "cell_type": "code",
      "source": [
        "#RNN remmebers the past.\n",
        "#Why do we need RNNs? IF we see in the slide \"Why do we need RNNs?\"(WHat's for dinner), we can observe that there's no correlation between the two columns. However, there\n",
        "#is correlation between the elements of the second column; This is what we call autocorrelation.\n",
        "#In the tradition work, we model x to predict y, but here we model y to predict y.\n",
        "#So, RNNs are designed to make use of sequential information.\n",
        "###RNNs are \"unrolled\" programmatically during training and predicti on\n",
        "####RNN is like multiple copies of the same netowrk where each copy passes information to the others\n",
        "###The list like structure makes them appropriate for sequential data. (e.g. time series, natural language, etc.)\n",
        "###There are many types of RNN: One to One(Image classification), One to many(Image captioning), Many to one(Sentiment analysis), and many to many(Lnaguage translation)"
      ],
      "metadata": {
        "id": "Jq-b1UCD5FXO"
      },
      "execution_count": null,
      "outputs": []
    },
    {
      "cell_type": "code",
      "source": [
        "#The probmem with RNN\n",
        "#RNNs are good with short sequence such sa: The sky is _____________(Answer:blue)\n",
        "#But: This is  the 10th day of wildfires in the San Fancisco bay area. There is smoke everywhere, it is snowing ash and the sky is ___.(Corect answer: Red).\n",
        "#So how does the RNN know this?!! it doesn't remember this much of this. It looks at \"and the sky is\", and then it's trying to fill this with \"blue\"; In other words, \n",
        "#A lot of previous information is necessary to get the answer right, and RNNs seem to fail.\n",
        "#Theoretically they should be able to do it, but apparently they fail.\n",
        "#This is why we have LSTMs.. LSTM is a special kind of RNN; It's designed to overcome limitations of RNNs such sa: \n",
        "#-Gradient vanishing and exploding\n",
        "#-Complex training\n",
        "#-Difficulty to process very long sequences.\n",
        "#==> Remembering information for long periods of time is intrinsic to LSTM\n",
        "##RNNs vs LSTMs: In RNN we only have tanh, but in LSTM; we don't have just that, but it contains in addition 3 sigmoid.\n",
        "\n",
        "#Contents of LSTM: The top part is the \"Cell state\".\n",
        "#It has \"Forget gate\": It helps us in defining what information to forget, what information to remember.: HOW MUCH OF THE PAST TO FORGET.\n",
        "#Next one is the \"Input gate\"; This obviously controls the amount of information that goes through: WHAT NEW INFORMATION WILL BE STORED IN THE CELL STATE\n",
        "#And finally, the \"Output gate\": Also we are doing some math before we send it to the output\n",
        "#Gates  let information through the cell state at the (x) and (+): So for example, the forget gate can be one, and then we multiply that by the information (the Ct-1), so nothing gets forgotten, and everything\n",
        "#goes through"
      ],
      "metadata": {
        "id": "7uhI2sxQJ9Mc"
      },
      "execution_count": null,
      "outputs": []
    },
    {
      "cell_type": "code",
      "source": [
        "##WHY SIGMOID?\n",
        "#Sigmoid can output 0 to 1, it can be used to forget or remember the information.\n",
        "##WHY TANH? Tanh goes from -1 to 1, and it's a great function to actually add weight to individual values, but it is there to overcome the vanishing gradient problem. Tanh's second derivative can sustain\n",
        "#for a long range before going to zero.but if we look to simgmoid for example, the second derivative do not sustain and goes to zero.\n",
        "\n",
        "#In the input gate:  it: sigmoid layer decides which values are updated. And tanh layer gives weights to the values to be added to the state\n",
        "#And moving on to the output gate, again it has a sigmoid layer; which decides which part of cell state is selected for output, and tanh gives as usual the wieghts."
      ],
      "metadata": {
        "id": "PKL_Pjuj1bk_"
      },
      "execution_count": null,
      "outputs": []
    },
    {
      "cell_type": "code",
      "source": [
        "###HOW DOES IT LOOK IN KERAS?\n",
        "#inputs--LSTM 50 units--LSTM 50 units--LSTM 50 units--Dense output layer: Here we set how many units of LSTM./ return_sequences=True that means yes return that, so I can stack another lstm, another lstm...\n",
        "import tensorflow as tf\n",
        "from keras.models import Sequential\n",
        "model=Sequential()\n",
        "model.add(LSTM(units=50,return_sequences=True,input_shape=(X_train.shape[1],1)))\n",
        "model.add(Dropout(0.2))#I am droping 20% of the data(This is optional depending on how your data looks)\n",
        "\n",
        "model.add(LSTM(units=50,return_sequences=True))\n",
        "model.add(Dropout(0.2))\n",
        "\n",
        "model.add(LSTM(units=50))\n",
        "model.add(Dropout(0.2))\n",
        "\n",
        "model.add(Dense(units=1))\n",
        "\n",
        "model.compile(optimizer='adam',loss='mean_squarred_error')\n",
        "model.fit(X_train,y_train,epochs=100,batch_size=32)"
      ],
      "metadata": {
        "id": "yxZSrro89SsV"
      },
      "execution_count": null,
      "outputs": []
    },
    {
      "cell_type": "code",
      "source": [
        "#There as few more variations of LSTM; for instance: Bidirectional LSTM(since the LSTM that we have talked about is unidirectional, and if the series has meaning in both directions, then this could be useful), \n",
        "#and convLSTM."
      ],
      "metadata": {
        "id": "195wkwMsCP9r"
      },
      "execution_count": null,
      "outputs": []
    },
    {
      "cell_type": "markdown",
      "source": [
        "# **An introduction to time series forecasting - Using LSTM**"
      ],
      "metadata": {
        "id": "n8zev9gC9_cI"
      }
    },
    {
      "cell_type": "code",
      "source": [
        "\"\"\"\n",
        "Dataset from: https://www.kaggle.com/rakannimer/air-passengers\n",
        "International Airline Passengers prediction problem.\n",
        "This is a problem where, given a year and a month, the task is to predict \n",
        "the number of international airline passengers in units of 1,000. \n",
        "The data ranges from January 1949 to December 1960, or 12 years, with 144 observations.\n",
        "\"\"\"\n",
        "\n",
        "import numpy as np\n",
        "import matplotlib.pyplot as plt\n",
        "from pandas import read_csv\n",
        "import math\n",
        "\n",
        "from keras.models import Sequential\n",
        "from keras.layers import Dense\n",
        "from keras.layers import LSTM, Flatten\n",
        "from sklearn.preprocessing import MinMaxScaler\n",
        "from sklearn.metrics import mean_squared_error\n",
        "#from keras.callbacks import EarlyStopping\n",
        "from keras.layers import ConvLSTM2D"
      ],
      "metadata": {
        "id": "L6OBx6rtDlmk"
      },
      "execution_count": null,
      "outputs": []
    },
    {
      "cell_type": "code",
      "source": [
        "# load the dataset\n",
        "dataframe = read_csv('/content/sample_data/Data/AirPassengers.csv', usecols=[1])\n",
        "plt.plot(dataframe)"
      ],
      "metadata": {
        "colab": {
          "base_uri": "https://localhost:8080/",
          "height": 282
        },
        "id": "48T0YKR5Dzou",
        "outputId": "2b813023-da79-427b-8dfd-e1a52721fea8"
      },
      "execution_count": null,
      "outputs": [
        {
          "output_type": "execute_result",
          "data": {
            "text/plain": [
              "[<matplotlib.lines.Line2D at 0x7fd8262118d0>]"
            ]
          },
          "metadata": {},
          "execution_count": 29
        },
        {
          "output_type": "display_data",
          "data": {
            "text/plain": [
              "<Figure size 432x288 with 1 Axes>"
            ],
            "image/png": "[encoded data removed]"
          },
          "metadata": {
            "needs_background": "light"
          }
        }
      ]
    },
    {
      "cell_type": "code",
      "source": [
        "#Convert pandas dataframe to numpy array\n",
        "dataset = dataframe.values #it's converting my pandas dataframe to numpy array\n",
        "dataset = dataset.astype('float32') #COnvert values to float because i am going to do math, and i don't want to lose anything due to rounding errors.\n",
        "\n",
        "#################LSTM uses sigmoid and tanh that are sensitive to magnitude so values need to be normalized#######################\n",
        "# normalize the dataset\n",
        "scaler = MinMaxScaler(feature_range=(0, 1)) #Also try QuantileTransformer\n",
        "dataset = scaler.fit_transform(dataset)"
      ],
      "metadata": {
        "id": "1UJI2WbWFqnK"
      },
      "execution_count": null,
      "outputs": []
    },
    {
      "cell_type": "code",
      "source": [
        "#We cannot use random way of splitting dataset into train and test as\n",
        "#the sequence of events is important for time series.\n",
        "#So let us take first 60% values for train and the remaining 1/3 for testing\n",
        "# split into train and test sets\n",
        "train_size = int(len(dataset) * 0.66)\n",
        "test_size = len(dataset) - train_size\n",
        "train, test = dataset[0:train_size,:], dataset[train_size:len(dataset),:]"
      ],
      "metadata": {
        "id": "14uU0HSwGlqY"
      },
      "execution_count": null,
      "outputs": []
    },
    {
      "cell_type": "code",
      "source": [
        "##############REANRANGE THE DATA INTO X AND Y FORMAT\n",
        "# We cannot fit the model like we normally do for image processing where we have\n",
        "#X and Y. We need to transform our data into something that looks like X and Y values.\n",
        "# This way it can be trained on a sequence rather than indvidual datapoints. \n",
        "# Let us convert into n number of columns for X where we feed sequence of numbers\n",
        "#then the final column as Y where we provide the next number in the sequence as output.\n",
        "# So let us convert an array of values into a dataset matrix\n",
        "\n",
        "#seq_size is the number of previous time steps to use as \n",
        "#input variables to predict the next time period.\n",
        "\n",
        "#creates a dataset where X is the number of passengers at a given time (t, t-1, t-2...) \n",
        "#and Y is the number of passengers at the next time (t + 1).\n",
        "\n",
        "def to_sequences(dataset, seq_size=1):\n",
        "    x = []\n",
        "    y = []\n",
        "\n",
        "    for i in range(len(dataset)-seq_size-1):\n",
        "        #print(i)\n",
        "        window = dataset[i:(i+seq_size), 0]\n",
        "        x.append(window)\n",
        "        y.append(dataset[i+seq_size, 0])\n",
        "        \n",
        "    return np.array(x),np.array(y)\n",
        "    "
      ],
      "metadata": {
        "id": "T8ap4gHeHGRz"
      },
      "execution_count": null,
      "outputs": []
    },
    {
      "cell_type": "code",
      "source": [
        "###If your data is not corrected for trend, looking farther barck in time may result in less accurate forecast (FUN exercise: Compare Feed forward,simpleRNN and LSTM results\n",
        "#for longer look back times): consider autocorrelation vs lag(farther back in time)\n"
      ],
      "metadata": {
        "id": "SFL58fa2Hhm1"
      },
      "execution_count": null,
      "outputs": []
    },
    {
      "cell_type": "code",
      "source": [
        "seq_size = 5  # Number of time steps to look back \n",
        "#Larger sequences (look further back) may improve forecasting.\n",
        "\n",
        "trainX, trainY = to_sequences(train, seq_size)\n",
        "testX, testY = to_sequences(test, seq_size)\n",
        "\n",
        "\n",
        "\n",
        "print(\"Shape of training set: {}\".format(trainX.shape))\n",
        "print(\"Shape of test set: {}\".format(testX.shape))\n"
      ],
      "metadata": {
        "colab": {
          "base_uri": "https://localhost:8080/"
        },
        "id": "htzFrczMHaMJ",
        "outputId": "bee2a398-121e-4c09-8158-d455cb5fc039"
      },
      "execution_count": null,
      "outputs": [
        {
          "output_type": "stream",
          "name": "stdout",
          "text": [
            "Shape of training set: (89, 5)\n",
            "Shape of test set: (43, 5)\n"
          ]
        }
      ]
    },
    {
      "cell_type": "code",
      "source": [
        "######################################################\n",
        "#Reshape input to be [samples, time steps, features]\n",
        "trainX = np.reshape(trainX, (trainX.shape[0], 1, trainX.shape[1]))\n",
        "testX = np.reshape(testX, (testX.shape[0], 1, testX.shape[1]))\n",
        "#\n",
        "print('Single LSTM with hidden Dense...')\n",
        "model = Sequential()\n",
        "model.add(LSTM(64, input_shape=(None, seq_size)))\n",
        "model.add(Dense(32))\n",
        "model.add(Dense(1))\n",
        "model.compile(loss='mean_squared_error', optimizer='adam')\n",
        "#monitor = EarlyStopping(monitor='val_loss', min_delta=1e-3, patience=20, \n",
        "##                        verbose=1, mode='auto', restore_best_weights=True)\n",
        "model.summary()\n",
        "print('Train...')\n",
        "#########################################\n",
        "model.fit(trainX, trainY, validation_data=(testX, testY),\n",
        "          verbose=2, epochs=100)"
      ],
      "metadata": {
        "colab": {
          "base_uri": "https://localhost:8080/"
        },
        "id": "5NJ1224cK8zn",
        "outputId": "c7955405-0ef8-4aba-d186-69007c5fdc09"
      },
      "execution_count": null,
      "outputs": [
        {
          "output_type": "stream",
          "name": "stdout",
          "text": [
            "Single LSTM with hidden Dense...\n",
            "Model: \"sequential_4\"\n",
            "_________________________________________________________________\n",
            " Layer (type)                Output Shape              Param #   \n",
            "=================================================================\n",
            " lstm_3 (LSTM)               (None, 64)                17920     \n",
            "                                                                 \n",
            " dense_6 (Dense)             (None, 32)                2080      \n",
            "                                                                 \n",
            " dense_7 (Dense)             (None, 1)                 33        \n",
            "                                                                 \n",
            "=================================================================\n",
            "Total params: 20,033\n",
            "Trainable params: 20,033\n",
            "Non-trainable params: 0\n",
            "_________________________________________________________________\n",
            "Train...\n",
            "Epoch 1/100\n",
            "3/3 - 3s - loss: 0.0841 - val_loss: 0.4340 - 3s/epoch - 844ms/step\n",
            "Epoch 2/100\n",
            "3/3 - 0s - loss: 0.0588 - val_loss: 0.3323 - 37ms/epoch - 12ms/step\n",
            "Epoch 3/100\n",
            "3/3 - 0s - loss: 0.0394 - val_loss: 0.2464 - 37ms/epoch - 12ms/step\n",
            "Epoch 4/100\n",
            "3/3 - 0s - loss: 0.0263 - val_loss: 0.1752 - 52ms/epoch - 17ms/step\n",
            "Epoch 5/100\n",
            "3/3 - 0s - loss: 0.0166 - val_loss: 0.1203 - 37ms/epoch - 12ms/step\n",
            "Epoch 6/100\n",
            "3/3 - 0s - loss: 0.0113 - val_loss: 0.0809 - 38ms/epoch - 13ms/step\n",
            "Epoch 7/100\n",
            "3/3 - 0s - loss: 0.0103 - val_loss: 0.0553 - 36ms/epoch - 12ms/step\n",
            "Epoch 8/100\n",
            "3/3 - 0s - loss: 0.0110 - val_loss: 0.0420 - 39ms/epoch - 13ms/step\n",
            "Epoch 9/100\n",
            "3/3 - 0s - loss: 0.0119 - val_loss: 0.0366 - 36ms/epoch - 12ms/step\n",
            "Epoch 10/100\n",
            "3/3 - 0s - loss: 0.0118 - val_loss: 0.0365 - 35ms/epoch - 12ms/step\n",
            "Epoch 11/100\n",
            "3/3 - 0s - loss: 0.0108 - val_loss: 0.0401 - 36ms/epoch - 12ms/step\n",
            "Epoch 12/100\n",
            "3/3 - 0s - loss: 0.0095 - val_loss: 0.0453 - 46ms/epoch - 15ms/step\n",
            "Epoch 13/100\n",
            "3/3 - 0s - loss: 0.0084 - val_loss: 0.0510 - 40ms/epoch - 13ms/step\n",
            "Epoch 14/100\n",
            "3/3 - 0s - loss: 0.0079 - val_loss: 0.0553 - 38ms/epoch - 13ms/step\n",
            "Epoch 15/100\n",
            "3/3 - 0s - loss: 0.0077 - val_loss: 0.0568 - 38ms/epoch - 13ms/step\n",
            "Epoch 16/100\n",
            "3/3 - 0s - loss: 0.0074 - val_loss: 0.0547 - 36ms/epoch - 12ms/step\n",
            "Epoch 17/100\n",
            "3/3 - 0s - loss: 0.0071 - val_loss: 0.0505 - 36ms/epoch - 12ms/step\n",
            "Epoch 18/100\n",
            "3/3 - 0s - loss: 0.0068 - val_loss: 0.0444 - 36ms/epoch - 12ms/step\n",
            "Epoch 19/100\n",
            "3/3 - 0s - loss: 0.0063 - val_loss: 0.0387 - 66ms/epoch - 22ms/step\n",
            "Epoch 20/100\n",
            "3/3 - 0s - loss: 0.0059 - val_loss: 0.0340 - 35ms/epoch - 12ms/step\n",
            "Epoch 21/100\n",
            "3/3 - 0s - loss: 0.0056 - val_loss: 0.0300 - 36ms/epoch - 12ms/step\n",
            "Epoch 22/100\n",
            "3/3 - 0s - loss: 0.0054 - val_loss: 0.0273 - 35ms/epoch - 12ms/step\n",
            "Epoch 23/100\n",
            "3/3 - 0s - loss: 0.0052 - val_loss: 0.0254 - 53ms/epoch - 18ms/step\n",
            "Epoch 24/100\n",
            "3/3 - 0s - loss: 0.0050 - val_loss: 0.0244 - 47ms/epoch - 16ms/step\n",
            "Epoch 25/100\n",
            "3/3 - 0s - loss: 0.0048 - val_loss: 0.0241 - 55ms/epoch - 18ms/step\n",
            "Epoch 26/100\n",
            "3/3 - 0s - loss: 0.0046 - val_loss: 0.0239 - 43ms/epoch - 14ms/step\n",
            "Epoch 27/100\n",
            "3/3 - 0s - loss: 0.0044 - val_loss: 0.0237 - 40ms/epoch - 13ms/step\n",
            "Epoch 28/100\n",
            "3/3 - 0s - loss: 0.0043 - val_loss: 0.0228 - 39ms/epoch - 13ms/step\n",
            "Epoch 29/100\n",
            "3/3 - 0s - loss: 0.0041 - val_loss: 0.0220 - 53ms/epoch - 18ms/step\n",
            "Epoch 30/100\n",
            "3/3 - 0s - loss: 0.0041 - val_loss: 0.0213 - 41ms/epoch - 14ms/step\n",
            "Epoch 31/100\n",
            "3/3 - 0s - loss: 0.0040 - val_loss: 0.0208 - 37ms/epoch - 12ms/step\n",
            "Epoch 32/100\n",
            "3/3 - 0s - loss: 0.0039 - val_loss: 0.0207 - 39ms/epoch - 13ms/step\n",
            "Epoch 33/100\n",
            "3/3 - 0s - loss: 0.0038 - val_loss: 0.0205 - 34ms/epoch - 11ms/step\n",
            "Epoch 34/100\n",
            "3/3 - 0s - loss: 0.0038 - val_loss: 0.0204 - 36ms/epoch - 12ms/step\n",
            "Epoch 35/100\n",
            "3/3 - 0s - loss: 0.0037 - val_loss: 0.0203 - 51ms/epoch - 17ms/step\n",
            "Epoch 36/100\n",
            "3/3 - 0s - loss: 0.0037 - val_loss: 0.0201 - 38ms/epoch - 13ms/step\n",
            "Epoch 37/100\n",
            "3/3 - 0s - loss: 0.0037 - val_loss: 0.0201 - 57ms/epoch - 19ms/step\n",
            "Epoch 38/100\n",
            "3/3 - 0s - loss: 0.0036 - val_loss: 0.0198 - 40ms/epoch - 13ms/step\n",
            "Epoch 39/100\n",
            "3/3 - 0s - loss: 0.0036 - val_loss: 0.0197 - 54ms/epoch - 18ms/step\n",
            "Epoch 40/100\n",
            "3/3 - 0s - loss: 0.0035 - val_loss: 0.0195 - 84ms/epoch - 28ms/step\n",
            "Epoch 41/100\n",
            "3/3 - 0s - loss: 0.0035 - val_loss: 0.0194 - 37ms/epoch - 12ms/step\n",
            "Epoch 42/100\n",
            "3/3 - 0s - loss: 0.0035 - val_loss: 0.0193 - 40ms/epoch - 13ms/step\n",
            "Epoch 43/100\n",
            "3/3 - 0s - loss: 0.0034 - val_loss: 0.0192 - 41ms/epoch - 14ms/step\n",
            "Epoch 44/100\n",
            "3/3 - 0s - loss: 0.0034 - val_loss: 0.0192 - 35ms/epoch - 12ms/step\n",
            "Epoch 45/100\n",
            "3/3 - 0s - loss: 0.0034 - val_loss: 0.0189 - 36ms/epoch - 12ms/step\n",
            "Epoch 46/100\n",
            "3/3 - 0s - loss: 0.0034 - val_loss: 0.0185 - 37ms/epoch - 12ms/step\n",
            "Epoch 47/100\n",
            "3/3 - 0s - loss: 0.0033 - val_loss: 0.0183 - 44ms/epoch - 15ms/step\n",
            "Epoch 48/100\n",
            "3/3 - 0s - loss: 0.0033 - val_loss: 0.0179 - 43ms/epoch - 14ms/step\n",
            "Epoch 49/100\n",
            "3/3 - 0s - loss: 0.0033 - val_loss: 0.0178 - 43ms/epoch - 14ms/step\n",
            "Epoch 50/100\n",
            "3/3 - 0s - loss: 0.0032 - val_loss: 0.0176 - 35ms/epoch - 12ms/step\n",
            "Epoch 51/100\n",
            "3/3 - 0s - loss: 0.0032 - val_loss: 0.0174 - 34ms/epoch - 11ms/step\n",
            "Epoch 52/100\n",
            "3/3 - 0s - loss: 0.0032 - val_loss: 0.0173 - 35ms/epoch - 12ms/step\n",
            "Epoch 53/100\n",
            "3/3 - 0s - loss: 0.0031 - val_loss: 0.0171 - 44ms/epoch - 15ms/step\n",
            "Epoch 54/100\n",
            "3/3 - 0s - loss: 0.0031 - val_loss: 0.0168 - 37ms/epoch - 12ms/step\n",
            "Epoch 55/100\n",
            "3/3 - 0s - loss: 0.0031 - val_loss: 0.0165 - 34ms/epoch - 11ms/step\n",
            "Epoch 56/100\n",
            "3/3 - 0s - loss: 0.0030 - val_loss: 0.0162 - 37ms/epoch - 12ms/step\n",
            "Epoch 57/100\n",
            "3/3 - 0s - loss: 0.0030 - val_loss: 0.0159 - 34ms/epoch - 11ms/step\n",
            "Epoch 58/100\n",
            "3/3 - 0s - loss: 0.0030 - val_loss: 0.0157 - 35ms/epoch - 12ms/step\n",
            "Epoch 59/100\n",
            "3/3 - 0s - loss: 0.0030 - val_loss: 0.0156 - 46ms/epoch - 15ms/step\n",
            "Epoch 60/100\n",
            "3/3 - 0s - loss: 0.0029 - val_loss: 0.0154 - 34ms/epoch - 11ms/step\n",
            "Epoch 61/100\n",
            "3/3 - 0s - loss: 0.0029 - val_loss: 0.0153 - 38ms/epoch - 13ms/step\n",
            "Epoch 62/100\n",
            "3/3 - 0s - loss: 0.0029 - val_loss: 0.0152 - 49ms/epoch - 16ms/step\n",
            "Epoch 63/100\n",
            "3/3 - 0s - loss: 0.0029 - val_loss: 0.0148 - 41ms/epoch - 14ms/step\n",
            "Epoch 64/100\n",
            "3/3 - 0s - loss: 0.0028 - val_loss: 0.0146 - 41ms/epoch - 14ms/step\n",
            "Epoch 65/100\n",
            "3/3 - 0s - loss: 0.0028 - val_loss: 0.0144 - 55ms/epoch - 18ms/step\n",
            "Epoch 66/100\n",
            "3/3 - 0s - loss: 0.0028 - val_loss: 0.0143 - 54ms/epoch - 18ms/step\n",
            "Epoch 67/100\n",
            "3/3 - 0s - loss: 0.0028 - val_loss: 0.0141 - 46ms/epoch - 15ms/step\n",
            "Epoch 68/100\n",
            "3/3 - 0s - loss: 0.0027 - val_loss: 0.0139 - 38ms/epoch - 13ms/step\n",
            "Epoch 69/100\n",
            "3/3 - 0s - loss: 0.0027 - val_loss: 0.0138 - 47ms/epoch - 16ms/step\n",
            "Epoch 70/100\n",
            "3/3 - 0s - loss: 0.0027 - val_loss: 0.0136 - 53ms/epoch - 18ms/step\n",
            "Epoch 71/100\n",
            "3/3 - 0s - loss: 0.0027 - val_loss: 0.0134 - 40ms/epoch - 13ms/step\n",
            "Epoch 72/100\n",
            "3/3 - 0s - loss: 0.0026 - val_loss: 0.0132 - 41ms/epoch - 14ms/step\n",
            "Epoch 73/100\n",
            "3/3 - 0s - loss: 0.0026 - val_loss: 0.0132 - 39ms/epoch - 13ms/step\n",
            "Epoch 74/100\n",
            "3/3 - 0s - loss: 0.0026 - val_loss: 0.0130 - 40ms/epoch - 13ms/step\n",
            "Epoch 75/100\n",
            "3/3 - 0s - loss: 0.0026 - val_loss: 0.0128 - 44ms/epoch - 15ms/step\n",
            "Epoch 76/100\n",
            "3/3 - 0s - loss: 0.0026 - val_loss: 0.0127 - 36ms/epoch - 12ms/step\n",
            "Epoch 77/100\n",
            "3/3 - 0s - loss: 0.0025 - val_loss: 0.0125 - 44ms/epoch - 15ms/step\n",
            "Epoch 78/100\n",
            "3/3 - 0s - loss: 0.0025 - val_loss: 0.0123 - 37ms/epoch - 12ms/step\n",
            "Epoch 79/100\n",
            "3/3 - 0s - loss: 0.0025 - val_loss: 0.0122 - 37ms/epoch - 12ms/step\n",
            "Epoch 80/100\n",
            "3/3 - 0s - loss: 0.0025 - val_loss: 0.0120 - 34ms/epoch - 11ms/step\n",
            "Epoch 81/100\n",
            "3/3 - 0s - loss: 0.0024 - val_loss: 0.0119 - 34ms/epoch - 11ms/step\n",
            "Epoch 82/100\n",
            "3/3 - 0s - loss: 0.0024 - val_loss: 0.0117 - 46ms/epoch - 15ms/step\n",
            "Epoch 83/100\n",
            "3/3 - 0s - loss: 0.0024 - val_loss: 0.0116 - 39ms/epoch - 13ms/step\n",
            "Epoch 84/100\n",
            "3/3 - 0s - loss: 0.0024 - val_loss: 0.0114 - 55ms/epoch - 18ms/step\n",
            "Epoch 85/100\n",
            "3/3 - 0s - loss: 0.0024 - val_loss: 0.0113 - 37ms/epoch - 12ms/step\n",
            "Epoch 86/100\n",
            "3/3 - 0s - loss: 0.0024 - val_loss: 0.0112 - 38ms/epoch - 13ms/step\n",
            "Epoch 87/100\n",
            "3/3 - 0s - loss: 0.0023 - val_loss: 0.0111 - 41ms/epoch - 14ms/step\n",
            "Epoch 88/100\n",
            "3/3 - 0s - loss: 0.0023 - val_loss: 0.0110 - 40ms/epoch - 13ms/step\n",
            "Epoch 89/100\n",
            "3/3 - 0s - loss: 0.0023 - val_loss: 0.0109 - 37ms/epoch - 12ms/step\n",
            "Epoch 90/100\n",
            "3/3 - 0s - loss: 0.0023 - val_loss: 0.0107 - 37ms/epoch - 12ms/step\n",
            "Epoch 91/100\n",
            "3/3 - 0s - loss: 0.0023 - val_loss: 0.0106 - 41ms/epoch - 14ms/step\n",
            "Epoch 92/100\n",
            "3/3 - 0s - loss: 0.0023 - val_loss: 0.0105 - 37ms/epoch - 12ms/step\n",
            "Epoch 93/100\n",
            "3/3 - 0s - loss: 0.0022 - val_loss: 0.0104 - 58ms/epoch - 19ms/step\n",
            "Epoch 94/100\n",
            "3/3 - 0s - loss: 0.0022 - val_loss: 0.0103 - 37ms/epoch - 12ms/step\n",
            "Epoch 95/100\n",
            "3/3 - 0s - loss: 0.0022 - val_loss: 0.0102 - 35ms/epoch - 12ms/step\n",
            "Epoch 96/100\n",
            "3/3 - 0s - loss: 0.0022 - val_loss: 0.0101 - 35ms/epoch - 12ms/step\n",
            "Epoch 97/100\n",
            "3/3 - 0s - loss: 0.0022 - val_loss: 0.0100 - 39ms/epoch - 13ms/step\n",
            "Epoch 98/100\n",
            "3/3 - 0s - loss: 0.0022 - val_loss: 0.0101 - 41ms/epoch - 14ms/step\n",
            "Epoch 99/100\n",
            "3/3 - 0s - loss: 0.0022 - val_loss: 0.0099 - 37ms/epoch - 12ms/step\n",
            "Epoch 100/100\n",
            "3/3 - 0s - loss: 0.0021 - val_loss: 0.0097 - 36ms/epoch - 12ms/step\n"
          ]
        },
        {
          "output_type": "execute_result",
          "data": {
            "text/plain": [
              "<keras.callbacks.History at 0x7fd826122810>"
            ]
          },
          "metadata": {},
          "execution_count": 35
        }
      ]
    },
    {
      "cell_type": "code",
      "source": [
        "# make predictions\n",
        "trainPredict= model.predict(trainX)\n",
        "testPredict = model.predict(testX)\n",
        "#to invert the transformation.\n",
        "trainPredict = scaler.inverse_transform(trainPredict)\n",
        "trainY = scaler.inverse_transform([trainY])\n",
        "testPredict = scaler.inverse_transform(testPredict)\n",
        "testY = scaler.inverse_transform([testY])"
      ],
      "metadata": {
        "colab": {
          "base_uri": "https://localhost:8080/"
        },
        "id": "r7DiZ3eXM6Gd",
        "outputId": "ce717187-c899-48da-ced9-be0b3bdc2cf8"
      },
      "execution_count": null,
      "outputs": [
        {
          "output_type": "stream",
          "name": "stdout",
          "text": [
            "3/3 [==============================] - 1s 9ms/step\n",
            "2/2 [==============================] - 0s 6ms/step\n"
          ]
        }
      ]
    },
    {
      "cell_type": "code",
      "source": [
        "# calculate root mean squared error\n",
        "trainScore = math.sqrt(mean_squared_error(trainY[0], trainPredict[:,0]))\n",
        "print('Train Score: %.2f RMSE' % (trainScore))\n",
        "\n",
        "testScore = math.sqrt(mean_squared_error(testY[0], testPredict[:,0]))\n",
        "print('Test Score: %.2f RMSE' % (testScore))\n",
        "\n",
        "# shift train predictions for plotting\n",
        "#we must shift the predictions so that they align on the x-axis with the original dataset. \n",
        "trainPredictPlot = np.empty_like(dataset)\n",
        "trainPredictPlot[:, :] = np.nan\n",
        "trainPredictPlot[seq_size:len(trainPredict)+seq_size, :] = trainPredict\n",
        "\n",
        "# shift test predictions for plotting\n",
        "testPredictPlot = np.empty_like(dataset)\n",
        "testPredictPlot[:, :] = np.nan\n",
        "testPredictPlot[len(trainPredict)+(seq_size*2)+1:len(dataset)-1, :] = testPredict\n",
        "\n",
        "# plot baseline and predictions\n",
        "plt.plot(scaler.inverse_transform(dataset))\n",
        "plt.plot(trainPredictPlot)\n",
        "plt.plot(testPredictPlot)\n",
        "plt.show()\n"
      ],
      "metadata": {
        "colab": {
          "base_uri": "https://localhost:8080/",
          "height": 300
        },
        "id": "-5Wk1JlfPdfj",
        "outputId": "a3745b0d-0789-4472-8221-4d4e32ad2867"
      },
      "execution_count": null,
      "outputs": [
        {
          "output_type": "stream",
          "name": "stdout",
          "text": [
            "Train Score: 23.93 RMSE\n",
            "Test Score: 51.13 RMSE\n"
          ]
        },
        {
          "output_type": "display_data",
          "data": {
            "text/plain": [
              "<Figure size 432x288 with 1 Axes>"
            ],
            "image/png": "[encoded data removed]"
          },
          "metadata": {
            "needs_background": "light"
          }
        }
      ]
    },
    {
      "cell_type": "code",
      "source": [
        "\n",
        "#Stacked LSTM with 1 hidden dense layer\n",
        "# reshape input to be [samples, time steps, features]\n",
        "#trainX = np.reshape(trainX, (trainX.shape[0], 1, trainX.shape[1]))\n",
        "#testX = np.reshape(testX, (testX.shape[0], 1, testX.shape[1]))\n",
        "#\n",
        "#model = Sequential()\n",
        "#model.add(LSTM(50, activation='relu', return_sequences=True, input_shape=(None, seq_size))) ###WE ADD  RETURN_SEQUENCES=TRUE WHEN WE HAVE MORE THAN AN LSTM LAYER, otherwise,\n",
        "#it doesn't return the sequence, so there's no input to your next lstm\n",
        "#model.add(LSTM(50, activation='relu'))\n",
        "#model.add(Dense(32))\n",
        "#model.add(Dense(1))\n",
        "#model.compile(optimizer='adam', loss='mean_squared_error')\n",
        "#\n",
        "#model.summary()\n",
        "#print('Train...')\n",
        "###############################################\n",
        "\n",
        "#Bidirectional LSTM\n",
        "# reshape input to be [samples, time steps, features]\n",
        "# trainX = np.reshape(trainX, (trainX.shape[0], 1, trainX.shape[1]))\n",
        "# testX = np.reshape(testX, (testX.shape[0], 1, testX.shape[1]))\n",
        "\n",
        "# #For some sequence forecasting problems we may need LSTM to learn\n",
        "# # sequence in both forward and backward directions\n",
        "# from keras.layers import Bidirectional\n",
        "# model = Sequential()\n",
        "# model.add(Bidirectional(LSTM(50, activation='relu'), input_shape=(None, seq_size)))\n",
        "# model.add(Dense(1))\n",
        "# model.compile(optimizer='adam', loss='mean_squared_error')\n",
        "# model.summary()\n",
        "# print('Train...')\n",
        "\n",
        "########################################################\n",
        "#ConvLSTM\n",
        "#The layer expects input as a sequence of two-dimensional images, \n",
        "#therefore the shape of input data must be: [samples, timesteps, rows, columns, features]\n",
        "\n",
        "trainX = trainX.reshape((trainX.shape[0], 1, 1, 1, seq_size))\n",
        "testX = testX.reshape((testX.shape[0], 1, 1, 1, seq_size))\n",
        "\n",
        "model = Sequential()\n",
        "model.add(ConvLSTM2D(filters=64, kernel_size=(1,1), activation='relu', input_shape=(1, 1, 1, seq_size)))\n",
        "model.add(Flatten())\n",
        "model.add(Dense(32))\n",
        "model.add(Dense(1))\n",
        "model.compile(optimizer='adam', loss='mean_squared_error')\n",
        "model.summary()\n",
        "#print('Train...')\n",
        "\n",
        "\n",
        "\n",
        "###############################################\n",
        "model.fit(trainX, trainY, validation_data=(testX, testY),\n",
        "          verbose=2, epochs=100)\n",
        "\n",
        "\n",
        "# make predictions\n",
        "\n",
        "trainPredict = model.predict(trainX)\n",
        "testPredict = model.predict(testX)\n",
        "\n",
        "# invert predictions back to prescaled values\n",
        "#This is to compare with original input values\n",
        "#SInce we used minmaxscaler we can now use scaler.inverse_transform\n",
        "#to invert the transformation.\n",
        "trainPredict = scaler.inverse_transform(trainPredict)\n",
        "trainY = scaler.inverse_transform([trainY])\n",
        "testPredict = scaler.inverse_transform(testPredict)\n",
        "testY = scaler.inverse_transform([testY])\n",
        "\n",
        "# calculate root mean squared error\n",
        "trainScore = math.sqrt(mean_squared_error(trainY[0], trainPredict[:,0]))\n",
        "print('Train Score: %.2f RMSE' % (trainScore))\n",
        "\n",
        "testScore = math.sqrt(mean_squared_error(testY[0], testPredict[:,0]))\n",
        "print('Test Score: %.2f RMSE' % (testScore))\n",
        "\n",
        "# shift train predictions for plotting\n",
        "#we must shift the predictions so that they align on the x-axis with the original dataset. \n",
        "trainPredictPlot = np.empty_like(dataset)\n",
        "trainPredictPlot[:, :] = np.nan\n",
        "trainPredictPlot[seq_size:len(trainPredict)+seq_size, :] = trainPredict\n",
        "\n",
        "# shift test predictions for plotting\n",
        "testPredictPlot = np.empty_like(dataset)\n",
        "testPredictPlot[:, :] = np.nan\n",
        "testPredictPlot[len(trainPredict)+(seq_size*2)+1:len(dataset)-1, :] = testPredict\n",
        "\n",
        "# plot baseline and predictions\n",
        "plt.plot(scaler.inverse_transform(dataset))\n",
        "plt.plot(trainPredictPlot)\n",
        "plt.plot(testPredictPlot)\n",
        "plt.show()\n"
      ],
      "metadata": {
        "id": "l5ODy5uv-LpH"
      },
      "execution_count": null,
      "outputs": []
    },
    {
      "cell_type": "markdown",
      "source": [
        "# **Recurrent Neural Networks (RNNs) and LSTM, Clearly Explained!!!**"
      ],
      "metadata": {
        "id": "Dg7w_MgsldQr"
      }
    },
    {
      "cell_type": "code",
      "source": [
        "#Regardless of how many times we unroll a recurrent neural network, the weights and biases are shared across every input.\n",
        "#And no matter how many times we unroll a recurrent neural network, we never increase the number of weights and biases that we have to train. \n",
        "#One big problem in rnn, which is the more we unroll a recurrent neural network, the harder it is to train: This problem is called the vanishing/exploding gradient problem; How does that happened?\n",
        "#In our example, the vanishing/exploding gradient problem has to do with the weight along the squiggle that we copy each time we unroll the network\n",
        "\n",
        "\n",
        "#THe main idea behind how lstm works is that instead of using the same feedback loop connection for events that hapened long ago, and events that just happened yesterday to\n",
        "#make a prediction about tomorrow, lstm uses 2 seperate paths to make predictions about tomorrow. One path is for long-term memories, and one is for short-term memories\n",
        "#The bad news is that compared to a basic, vanilla RNN, which unrols form a relatively simple unit.. lstm is based on a much more complicated unit.\n",
        "#LSTM uses sigmoid activation functions(between 0 and 1) and tanh activation functions (between -1 and 1)\n",
        "#The cell state represents the long-term memory: Although the long-term memry can be modified by the multipilication (x) and the sum, we can notice that there are no weights\n",
        "#and biases that can modify it directly. This lack of weights allows the long term memories to flow through a series of unrolled units without causing the gradient to explode \n",
        "#or vanish.\n",
        "#The hidden state represents the short-term memories, and they're directly connected to weights that can modify them \n",
        "#Let's move now to the input gates; it's constituted from 2 blocks; in a nutshell, the block on the right combines the short-term memory and the input to create a potential\n",
        "#long-term memory.. and the block on the left determines what percentage of that potential memory to add to the long-term memory.\n",
        "#Even though this part of the LSTM unit determines how we should update the long-term memory, it's usually called the Input gate.\n",
        "\n",
        "#And now that we have a new long-term memory, we're ready to talk about the final stage in the LSTM. The final stage updates the short-term memory. We start with the new\n",
        "#long-term memory, and use it as input to the tanh.\n",
        "#And because the new short-term memory is the Output from this entire LSTM unit, this stage is called the Output Gate."
      ],
      "metadata": {
        "id": "IcBAzp6MlhuW"
      },
      "execution_count": null,
      "outputs": []
    },
    {
      "cell_type": "code",
      "source": [
        "########The reason the LSTM reuses the exact same weights and biases is so it can handle data sequences of different lengths.\n",
        "#Well.. I didn't understand this very well... "
      ],
      "metadata": {
        "id": "ZqkIRL92q7bC"
      },
      "execution_count": null,
      "outputs": []
    }
  ]
}