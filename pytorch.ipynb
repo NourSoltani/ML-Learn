{
  "nbformat": 4,
  "nbformat_minor": 0,
  "metadata": {
    "colab": {
      "provenance": [],
      "collapsed_sections": [
        "a2apqwaq011s",
        "Q8PS2VwTGIK3",
        "KwkXnQytIWEQ",
        "ELF6i6-Ms6FN",
        "XtzjeDop_uZt",
        "QGlap62a8gl2",
        "7ZwnXi7Go-VK",
        "PT0Phxhs99Q2",
        "JHsQhXNL2wvN"
      ]
    },
    "kernelspec": {
      "name": "python3",
      "display_name": "Python 3"
    },
    "language_info": {
      "name": "python"
    },
    "gpuClass": "standard",
    "widgets": {
      "application/vnd.jupyter.widget-state+json": {
        "43e4739fabb447c3a3b685e2e6c50d46": {
          "model_module": "@jupyter-widgets/controls",
          "model_name": "HBoxModel",
          "model_module_version": "1.5.0",
          "state": {
            "_dom_classes": [],
            "_model_module": "@jupyter-widgets/controls",
            "_model_module_version": "1.5.0",
            "_model_name": "HBoxModel",
            "_view_count": null,
            "_view_module": "@jupyter-widgets/controls",
            "_view_module_version": "1.5.0",
            "_view_name": "HBoxView",
            "box_style": "",
            "children": [
              "IPY_MODEL_5d0fdf9c002a45049bb5f22114613395",
              "IPY_MODEL_f84e78d925ca41a49c29f524e7a0d71d",
              "IPY_MODEL_266ba5dd12b5444c9d9357d8cf4354b5"
            ],
            "layout": "IPY_MODEL_21af79cb3ac1425592462a56261777e0"
          }
        },
        "5d0fdf9c002a45049bb5f22114613395": {
          "model_module": "@jupyter-widgets/controls",
          "model_name": "HTMLModel",
          "model_module_version": "1.5.0",
          "state": {
            "_dom_classes": [],
            "_model_module": "@jupyter-widgets/controls",
            "_model_module_version": "1.5.0",
            "_model_name": "HTMLModel",
            "_view_count": null,
            "_view_module": "@jupyter-widgets/controls",
            "_view_module_version": "1.5.0",
            "_view_name": "HTMLView",
            "description": "",
            "description_tooltip": null,
            "layout": "IPY_MODEL_6d9bf1bdc3cd475fb759dfc0d65b119c",
            "placeholder": "​",
            "style": "IPY_MODEL_0044c573ce814f9dae0d26e70ee721f7",
            "value": "100%"
          }
        },
        "f84e78d925ca41a49c29f524e7a0d71d": {
          "model_module": "@jupyter-widgets/controls",
          "model_name": "FloatProgressModel",
          "model_module_version": "1.5.0",
          "state": {
            "_dom_classes": [],
            "_model_module": "@jupyter-widgets/controls",
            "_model_module_version": "1.5.0",
            "_model_name": "FloatProgressModel",
            "_view_count": null,
            "_view_module": "@jupyter-widgets/controls",
            "_view_module_version": "1.5.0",
            "_view_name": "ProgressView",
            "bar_style": "success",
            "description": "",
            "description_tooltip": null,
            "layout": "IPY_MODEL_d2eaaa6e826d4d858198fa45c4a83fc4",
            "max": 26421880,
            "min": 0,
            "orientation": "horizontal",
            "style": "IPY_MODEL_55ad2026281d4a4aad7d29e3c204ba4b",
            "value": 26421880
          }
        },
        "266ba5dd12b5444c9d9357d8cf4354b5": {
          "model_module": "@jupyter-widgets/controls",
          "model_name": "HTMLModel",
          "model_module_version": "1.5.0",
          "state": {
            "_dom_classes": [],
            "_model_module": "@jupyter-widgets/controls",
            "_model_module_version": "1.5.0",
            "_model_name": "HTMLModel",
            "_view_count": null,
            "_view_module": "@jupyter-widgets/controls",
            "_view_module_version": "1.5.0",
            "_view_name": "HTMLView",
            "description": "",
            "description_tooltip": null,
            "layout": "IPY_MODEL_13e1bb50d3b74650a46b91b12da8f467",
            "placeholder": "​",
            "style": "IPY_MODEL_9abfe2382c5c41c9bdf3e8c766fdde27",
            "value": " 26421880/26421880 [00:01&lt;00:00, 27208597.53it/s]"
          }
        },
        "21af79cb3ac1425592462a56261777e0": {
          "model_module": "@jupyter-widgets/base",
          "model_name": "LayoutModel",
          "model_module_version": "1.2.0",
          "state": {
            "_model_module": "@jupyter-widgets/base",
            "_model_module_version": "1.2.0",
            "_model_name": "LayoutModel",
            "_view_count": null,
            "_view_module": "@jupyter-widgets/base",
            "_view_module_version": "1.2.0",
            "_view_name": "LayoutView",
            "align_content": null,
            "align_items": null,
            "align_self": null,
            "border": null,
            "bottom": null,
            "display": null,
            "flex": null,
            "flex_flow": null,
            "grid_area": null,
            "grid_auto_columns": null,
            "grid_auto_flow": null,
            "grid_auto_rows": null,
            "grid_column": null,
            "grid_gap": null,
            "grid_row": null,
            "grid_template_areas": null,
            "grid_template_columns": null,
            "grid_template_rows": null,
            "height": null,
            "justify_content": null,
            "justify_items": null,
            "left": null,
            "margin": null,
            "max_height": null,
            "max_width": null,
            "min_height": null,
            "min_width": null,
            "object_fit": null,
            "object_position": null,
            "order": null,
            "overflow": null,
            "overflow_x": null,
            "overflow_y": null,
            "padding": null,
            "right": null,
            "top": null,
            "visibility": null,
            "width": null
          }
        },
        "6d9bf1bdc3cd475fb759dfc0d65b119c": {
          "model_module": "@jupyter-widgets/base",
          "model_name": "LayoutModel",
          "model_module_version": "1.2.0",
          "state": {
            "_model_module": "@jupyter-widgets/base",
            "_model_module_version": "1.2.0",
            "_model_name": "LayoutModel",
            "_view_count": null,
            "_view_module": "@jupyter-widgets/base",
            "_view_module_version": "1.2.0",
            "_view_name": "LayoutView",
            "align_content": null,
            "align_items": null,
            "align_self": null,
            "border": null,
            "bottom": null,
            "display": null,
            "flex": null,
            "flex_flow": null,
            "grid_area": null,
            "grid_auto_columns": null,
            "grid_auto_flow": null,
            "grid_auto_rows": null,
            "grid_column": null,
            "grid_gap": null,
            "grid_row": null,
            "grid_template_areas": null,
            "grid_template_columns": null,
            "grid_template_rows": null,
            "height": null,
            "justify_content": null,
            "justify_items": null,
            "left": null,
            "margin": null,
            "max_height": null,
            "max_width": null,
            "min_height": null,
            "min_width": null,
            "object_fit": null,
            "object_position": null,
            "order": null,
            "overflow": null,
            "overflow_x": null,
            "overflow_y": null,
            "padding": null,
            "right": null,
            "top": null,
            "visibility": null,
            "width": null
          }
        },
        "0044c573ce814f9dae0d26e70ee721f7": {
          "model_module": "@jupyter-widgets/controls",
          "model_name": "DescriptionStyleModel",
          "model_module_version": "1.5.0",
          "state": {
            "_model_module": "@jupyter-widgets/controls",
            "_model_module_version": "1.5.0",
            "_model_name": "DescriptionStyleModel",
            "_view_count": null,
            "_view_module": "@jupyter-widgets/base",
            "_view_module_version": "1.2.0",
            "_view_name": "StyleView",
            "description_width": ""
          }
        },
        "d2eaaa6e826d4d858198fa45c4a83fc4": {
          "model_module": "@jupyter-widgets/base",
          "model_name": "LayoutModel",
          "model_module_version": "1.2.0",
          "state": {
            "_model_module": "@jupyter-widgets/base",
            "_model_module_version": "1.2.0",
            "_model_name": "LayoutModel",
            "_view_count": null,
            "_view_module": "@jupyter-widgets/base",
            "_view_module_version": "1.2.0",
            "_view_name": "LayoutView",
            "align_content": null,
            "align_items": null,
            "align_self": null,
            "border": null,
            "bottom": null,
            "display": null,
            "flex": null,
            "flex_flow": null,
            "grid_area": null,
            "grid_auto_columns": null,
            "grid_auto_flow": null,
            "grid_auto_rows": null,
            "grid_column": null,
            "grid_gap": null,
            "grid_row": null,
            "grid_template_areas": null,
            "grid_template_columns": null,
            "grid_template_rows": null,
            "height": null,
            "justify_content": null,
            "justify_items": null,
            "left": null,
            "margin": null,
            "max_height": null,
            "max_width": null,
            "min_height": null,
            "min_width": null,
            "object_fit": null,
            "object_position": null,
            "order": null,
            "overflow": null,
            "overflow_x": null,
            "overflow_y": null,
            "padding": null,
            "right": null,
            "top": null,
            "visibility": null,
            "width": null
          }
        },
        "55ad2026281d4a4aad7d29e3c204ba4b": {
          "model_module": "@jupyter-widgets/controls",
          "model_name": "ProgressStyleModel",
          "model_module_version": "1.5.0",
          "state": {
            "_model_module": "@jupyter-widgets/controls",
            "_model_module_version": "1.5.0",
            "_model_name": "ProgressStyleModel",
            "_view_count": null,
            "_view_module": "@jupyter-widgets/base",
            "_view_module_version": "1.2.0",
            "_view_name": "StyleView",
            "bar_color": null,
            "description_width": ""
          }
        },
        "13e1bb50d3b74650a46b91b12da8f467": {
          "model_module": "@jupyter-widgets/base",
          "model_name": "LayoutModel",
          "model_module_version": "1.2.0",
          "state": {
            "_model_module": "@jupyter-widgets/base",
            "_model_module_version": "1.2.0",
            "_model_name": "LayoutModel",
            "_view_count": null,
            "_view_module": "@jupyter-widgets/base",
            "_view_module_version": "1.2.0",
            "_view_name": "LayoutView",
            "align_content": null,
            "align_items": null,
            "align_self": null,
            "border": null,
            "bottom": null,
            "display": null,
            "flex": null,
            "flex_flow": null,
            "grid_area": null,
            "grid_auto_columns": null,
            "grid_auto_flow": null,
            "grid_auto_rows": null,
            "grid_column": null,
            "grid_gap": null,
            "grid_row": null,
            "grid_template_areas": null,
            "grid_template_columns": null,
            "grid_template_rows": null,
            "height": null,
            "justify_content": null,
            "justify_items": null,
            "left": null,
            "margin": null,
            "max_height": null,
            "max_width": null,
            "min_height": null,
            "min_width": null,
            "object_fit": null,
            "object_position": null,
            "order": null,
            "overflow": null,
            "overflow_x": null,
            "overflow_y": null,
            "padding": null,
            "right": null,
            "top": null,
            "visibility": null,
            "width": null
          }
        },
        "9abfe2382c5c41c9bdf3e8c766fdde27": {
          "model_module": "@jupyter-widgets/controls",
          "model_name": "DescriptionStyleModel",
          "model_module_version": "1.5.0",
          "state": {
            "_model_module": "@jupyter-widgets/controls",
            "_model_module_version": "1.5.0",
            "_model_name": "DescriptionStyleModel",
            "_view_count": null,
            "_view_module": "@jupyter-widgets/base",
            "_view_module_version": "1.2.0",
            "_view_name": "StyleView",
            "description_width": ""
          }
        },
        "b7f5144837884439aa79ae9066c9d594": {
          "model_module": "@jupyter-widgets/controls",
          "model_name": "HBoxModel",
          "model_module_version": "1.5.0",
          "state": {
            "_dom_classes": [],
            "_model_module": "@jupyter-widgets/controls",
            "_model_module_version": "1.5.0",
            "_model_name": "HBoxModel",
            "_view_count": null,
            "_view_module": "@jupyter-widgets/controls",
            "_view_module_version": "1.5.0",
            "_view_name": "HBoxView",
            "box_style": "",
            "children": [
              "IPY_MODEL_3a446c89fa4343e1a50edba66f1cca19",
              "IPY_MODEL_44dab35374934840a1082587a77563f8",
              "IPY_MODEL_c645236658a34465bf1fe2323c66c33e"
            ],
            "layout": "IPY_MODEL_42e835125ce34f958291e3d0abc72c91"
          }
        },
        "3a446c89fa4343e1a50edba66f1cca19": {
          "model_module": "@jupyter-widgets/controls",
          "model_name": "HTMLModel",
          "model_module_version": "1.5.0",
          "state": {
            "_dom_classes": [],
            "_model_module": "@jupyter-widgets/controls",
            "_model_module_version": "1.5.0",
            "_model_name": "HTMLModel",
            "_view_count": null,
            "_view_module": "@jupyter-widgets/controls",
            "_view_module_version": "1.5.0",
            "_view_name": "HTMLView",
            "description": "",
            "description_tooltip": null,
            "layout": "IPY_MODEL_46927d896d1646cda426e33ea2eb2069",
            "placeholder": "​",
            "style": "IPY_MODEL_679005bd1ace42b7b5cf5551f7441eda",
            "value": "100%"
          }
        },
        "44dab35374934840a1082587a77563f8": {
          "model_module": "@jupyter-widgets/controls",
          "model_name": "FloatProgressModel",
          "model_module_version": "1.5.0",
          "state": {
            "_dom_classes": [],
            "_model_module": "@jupyter-widgets/controls",
            "_model_module_version": "1.5.0",
            "_model_name": "FloatProgressModel",
            "_view_count": null,
            "_view_module": "@jupyter-widgets/controls",
            "_view_module_version": "1.5.0",
            "_view_name": "ProgressView",
            "bar_style": "success",
            "description": "",
            "description_tooltip": null,
            "layout": "IPY_MODEL_c7dddd17eff443389077542d70170d47",
            "max": 29515,
            "min": 0,
            "orientation": "horizontal",
            "style": "IPY_MODEL_311e78e9a1fa465c8b40b477f14038de",
            "value": 29515
          }
        },
        "c645236658a34465bf1fe2323c66c33e": {
          "model_module": "@jupyter-widgets/controls",
          "model_name": "HTMLModel",
          "model_module_version": "1.5.0",
          "state": {
            "_dom_classes": [],
            "_model_module": "@jupyter-widgets/controls",
            "_model_module_version": "1.5.0",
            "_model_name": "HTMLModel",
            "_view_count": null,
            "_view_module": "@jupyter-widgets/controls",
            "_view_module_version": "1.5.0",
            "_view_name": "HTMLView",
            "description": "",
            "description_tooltip": null,
            "layout": "IPY_MODEL_ba721330e99f4facabba27b7e69e9637",
            "placeholder": "​",
            "style": "IPY_MODEL_da5b46638f3d450fb7c7085f9cf51012",
            "value": " 29515/29515 [00:00&lt;00:00, 298035.92it/s]"
          }
        },
        "42e835125ce34f958291e3d0abc72c91": {
          "model_module": "@jupyter-widgets/base",
          "model_name": "LayoutModel",
          "model_module_version": "1.2.0",
          "state": {
            "_model_module": "@jupyter-widgets/base",
            "_model_module_version": "1.2.0",
            "_model_name": "LayoutModel",
            "_view_count": null,
            "_view_module": "@jupyter-widgets/base",
            "_view_module_version": "1.2.0",
            "_view_name": "LayoutView",
            "align_content": null,
            "align_items": null,
            "align_self": null,
            "border": null,
            "bottom": null,
            "display": null,
            "flex": null,
            "flex_flow": null,
            "grid_area": null,
            "grid_auto_columns": null,
            "grid_auto_flow": null,
            "grid_auto_rows": null,
            "grid_column": null,
            "grid_gap": null,
            "grid_row": null,
            "grid_template_areas": null,
            "grid_template_columns": null,
            "grid_template_rows": null,
            "height": null,
            "justify_content": null,
            "justify_items": null,
            "left": null,
            "margin": null,
            "max_height": null,
            "max_width": null,
            "min_height": null,
            "min_width": null,
            "object_fit": null,
            "object_position": null,
            "order": null,
            "overflow": null,
            "overflow_x": null,
            "overflow_y": null,
            "padding": null,
            "right": null,
            "top": null,
            "visibility": null,
            "width": null
          }
        },
        "46927d896d1646cda426e33ea2eb2069": {
          "model_module": "@jupyter-widgets/base",
          "model_name": "LayoutModel",
          "model_module_version": "1.2.0",
          "state": {
            "_model_module": "@jupyter-widgets/base",
            "_model_module_version": "1.2.0",
            "_model_name": "LayoutModel",
            "_view_count": null,
            "_view_module": "@jupyter-widgets/base",
            "_view_module_version": "1.2.0",
            "_view_name": "LayoutView",
            "align_content": null,
            "align_items": null,
            "align_self": null,
            "border": null,
            "bottom": null,
            "display": null,
            "flex": null,
            "flex_flow": null,
            "grid_area": null,
            "grid_auto_columns": null,
            "grid_auto_flow": null,
            "grid_auto_rows": null,
            "grid_column": null,
            "grid_gap": null,
            "grid_row": null,
            "grid_template_areas": null,
            "grid_template_columns": null,
            "grid_template_rows": null,
            "height": null,
            "justify_content": null,
            "justify_items": null,
            "left": null,
            "margin": null,
            "max_height": null,
            "max_width": null,
            "min_height": null,
            "min_width": null,
            "object_fit": null,
            "object_position": null,
            "order": null,
            "overflow": null,
            "overflow_x": null,
            "overflow_y": null,
            "padding": null,
            "right": null,
            "top": null,
            "visibility": null,
            "width": null
          }
        },
        "679005bd1ace42b7b5cf5551f7441eda": {
          "model_module": "@jupyter-widgets/controls",
          "model_name": "DescriptionStyleModel",
          "model_module_version": "1.5.0",
          "state": {
            "_model_module": "@jupyter-widgets/controls",
            "_model_module_version": "1.5.0",
            "_model_name": "DescriptionStyleModel",
            "_view_count": null,
            "_view_module": "@jupyter-widgets/base",
            "_view_module_version": "1.2.0",
            "_view_name": "StyleView",
            "description_width": ""
          }
        },
        "c7dddd17eff443389077542d70170d47": {
          "model_module": "@jupyter-widgets/base",
          "model_name": "LayoutModel",
          "model_module_version": "1.2.0",
          "state": {
            "_model_module": "@jupyter-widgets/base",
            "_model_module_version": "1.2.0",
            "_model_name": "LayoutModel",
            "_view_count": null,
            "_view_module": "@jupyter-widgets/base",
            "_view_module_version": "1.2.0",
            "_view_name": "LayoutView",
            "align_content": null,
            "align_items": null,
            "align_self": null,
            "border": null,
            "bottom": null,
            "display": null,
            "flex": null,
            "flex_flow": null,
            "grid_area": null,
            "grid_auto_columns": null,
            "grid_auto_flow": null,
            "grid_auto_rows": null,
            "grid_column": null,
            "grid_gap": null,
            "grid_row": null,
            "grid_template_areas": null,
            "grid_template_columns": null,
            "grid_template_rows": null,
            "height": null,
            "justify_content": null,
            "justify_items": null,
            "left": null,
            "margin": null,
            "max_height": null,
            "max_width": null,
            "min_height": null,
            "min_width": null,
            "object_fit": null,
            "object_position": null,
            "order": null,
            "overflow": null,
            "overflow_x": null,
            "overflow_y": null,
            "padding": null,
            "right": null,
            "top": null,
            "visibility": null,
            "width": null
          }
        },
        "311e78e9a1fa465c8b40b477f14038de": {
          "model_module": "@jupyter-widgets/controls",
          "model_name": "ProgressStyleModel",
          "model_module_version": "1.5.0",
          "state": {
            "_model_module": "@jupyter-widgets/controls",
            "_model_module_version": "1.5.0",
            "_model_name": "ProgressStyleModel",
            "_view_count": null,
            "_view_module": "@jupyter-widgets/base",
            "_view_module_version": "1.2.0",
            "_view_name": "StyleView",
            "bar_color": null,
            "description_width": ""
          }
        },
        "ba721330e99f4facabba27b7e69e9637": {
          "model_module": "@jupyter-widgets/base",
          "model_name": "LayoutModel",
          "model_module_version": "1.2.0",
          "state": {
            "_model_module": "@jupyter-widgets/base",
            "_model_module_version": "1.2.0",
            "_model_name": "LayoutModel",
            "_view_count": null,
            "_view_module": "@jupyter-widgets/base",
            "_view_module_version": "1.2.0",
            "_view_name": "LayoutView",
            "align_content": null,
            "align_items": null,
            "align_self": null,
            "border": null,
            "bottom": null,
            "display": null,
            "flex": null,
            "flex_flow": null,
            "grid_area": null,
            "grid_auto_columns": null,
            "grid_auto_flow": null,
            "grid_auto_rows": null,
            "grid_column": null,
            "grid_gap": null,
            "grid_row": null,
            "grid_template_areas": null,
            "grid_template_columns": null,
            "grid_template_rows": null,
            "height": null,
            "justify_content": null,
            "justify_items": null,
            "left": null,
            "margin": null,
            "max_height": null,
            "max_width": null,
            "min_height": null,
            "min_width": null,
            "object_fit": null,
            "object_position": null,
            "order": null,
            "overflow": null,
            "overflow_x": null,
            "overflow_y": null,
            "padding": null,
            "right": null,
            "top": null,
            "visibility": null,
            "width": null
          }
        },
        "da5b46638f3d450fb7c7085f9cf51012": {
          "model_module": "@jupyter-widgets/controls",
          "model_name": "DescriptionStyleModel",
          "model_module_version": "1.5.0",
          "state": {
            "_model_module": "@jupyter-widgets/controls",
            "_model_module_version": "1.5.0",
            "_model_name": "DescriptionStyleModel",
            "_view_count": null,
            "_view_module": "@jupyter-widgets/base",
            "_view_module_version": "1.2.0",
            "_view_name": "StyleView",
            "description_width": ""
          }
        },
        "919d17356dd249bd8328b26f6394bead": {
          "model_module": "@jupyter-widgets/controls",
          "model_name": "HBoxModel",
          "model_module_version": "1.5.0",
          "state": {
            "_dom_classes": [],
            "_model_module": "@jupyter-widgets/controls",
            "_model_module_version": "1.5.0",
            "_model_name": "HBoxModel",
            "_view_count": null,
            "_view_module": "@jupyter-widgets/controls",
            "_view_module_version": "1.5.0",
            "_view_name": "HBoxView",
            "box_style": "",
            "children": [
              "IPY_MODEL_5a9b034b36bb4c1da9f5c30e9d7ba340",
              "IPY_MODEL_cd5a723f5ba443b69f37b218bbc7cd36",
              "IPY_MODEL_74dcba7430084d42b7f15a429c1917d8"
            ],
            "layout": "IPY_MODEL_184021ea850a464f9a61f68c4efc732f"
          }
        },
        "5a9b034b36bb4c1da9f5c30e9d7ba340": {
          "model_module": "@jupyter-widgets/controls",
          "model_name": "HTMLModel",
          "model_module_version": "1.5.0",
          "state": {
            "_dom_classes": [],
            "_model_module": "@jupyter-widgets/controls",
            "_model_module_version": "1.5.0",
            "_model_name": "HTMLModel",
            "_view_count": null,
            "_view_module": "@jupyter-widgets/controls",
            "_view_module_version": "1.5.0",
            "_view_name": "HTMLView",
            "description": "",
            "description_tooltip": null,
            "layout": "IPY_MODEL_adc8f53d45784fa595b32098a2b3300b",
            "placeholder": "​",
            "style": "IPY_MODEL_341d4e4e42a44160b14b50d3f5ad16da",
            "value": "100%"
          }
        },
        "cd5a723f5ba443b69f37b218bbc7cd36": {
          "model_module": "@jupyter-widgets/controls",
          "model_name": "FloatProgressModel",
          "model_module_version": "1.5.0",
          "state": {
            "_dom_classes": [],
            "_model_module": "@jupyter-widgets/controls",
            "_model_module_version": "1.5.0",
            "_model_name": "FloatProgressModel",
            "_view_count": null,
            "_view_module": "@jupyter-widgets/controls",
            "_view_module_version": "1.5.0",
            "_view_name": "ProgressView",
            "bar_style": "success",
            "description": "",
            "description_tooltip": null,
            "layout": "IPY_MODEL_71deebae3d844a83877a16d20699cf5b",
            "max": 4422102,
            "min": 0,
            "orientation": "horizontal",
            "style": "IPY_MODEL_0bedf18baa554d378f4d2628f642a96b",
            "value": 4422102
          }
        },
        "74dcba7430084d42b7f15a429c1917d8": {
          "model_module": "@jupyter-widgets/controls",
          "model_name": "HTMLModel",
          "model_module_version": "1.5.0",
          "state": {
            "_dom_classes": [],
            "_model_module": "@jupyter-widgets/controls",
            "_model_module_version": "1.5.0",
            "_model_name": "HTMLModel",
            "_view_count": null,
            "_view_module": "@jupyter-widgets/controls",
            "_view_module_version": "1.5.0",
            "_view_name": "HTMLView",
            "description": "",
            "description_tooltip": null,
            "layout": "IPY_MODEL_ad35a8e43a23434b9e2d6dcfa257b161",
            "placeholder": "​",
            "style": "IPY_MODEL_5f106fa4b06c476da6a62b13bb63298f",
            "value": " 4422102/4422102 [00:00&lt;00:00, 8597554.34it/s]"
          }
        },
        "184021ea850a464f9a61f68c4efc732f": {
          "model_module": "@jupyter-widgets/base",
          "model_name": "LayoutModel",
          "model_module_version": "1.2.0",
          "state": {
            "_model_module": "@jupyter-widgets/base",
            "_model_module_version": "1.2.0",
            "_model_name": "LayoutModel",
            "_view_count": null,
            "_view_module": "@jupyter-widgets/base",
            "_view_module_version": "1.2.0",
            "_view_name": "LayoutView",
            "align_content": null,
            "align_items": null,
            "align_self": null,
            "border": null,
            "bottom": null,
            "display": null,
            "flex": null,
            "flex_flow": null,
            "grid_area": null,
            "grid_auto_columns": null,
            "grid_auto_flow": null,
            "grid_auto_rows": null,
            "grid_column": null,
            "grid_gap": null,
            "grid_row": null,
            "grid_template_areas": null,
            "grid_template_columns": null,
            "grid_template_rows": null,
            "height": null,
            "justify_content": null,
            "justify_items": null,
            "left": null,
            "margin": null,
            "max_height": null,
            "max_width": null,
            "min_height": null,
            "min_width": null,
            "object_fit": null,
            "object_position": null,
            "order": null,
            "overflow": null,
            "overflow_x": null,
            "overflow_y": null,
            "padding": null,
            "right": null,
            "top": null,
            "visibility": null,
            "width": null
          }
        },
        "adc8f53d45784fa595b32098a2b3300b": {
          "model_module": "@jupyter-widgets/base",
          "model_name": "LayoutModel",
          "model_module_version": "1.2.0",
          "state": {
            "_model_module": "@jupyter-widgets/base",
            "_model_module_version": "1.2.0",
            "_model_name": "LayoutModel",
            "_view_count": null,
            "_view_module": "@jupyter-widgets/base",
            "_view_module_version": "1.2.0",
            "_view_name": "LayoutView",
            "align_content": null,
            "align_items": null,
            "align_self": null,
            "border": null,
            "bottom": null,
            "display": null,
            "flex": null,
            "flex_flow": null,
            "grid_area": null,
            "grid_auto_columns": null,
            "grid_auto_flow": null,
            "grid_auto_rows": null,
            "grid_column": null,
            "grid_gap": null,
            "grid_row": null,
            "grid_template_areas": null,
            "grid_template_columns": null,
            "grid_template_rows": null,
            "height": null,
            "justify_content": null,
            "justify_items": null,
            "left": null,
            "margin": null,
            "max_height": null,
            "max_width": null,
            "min_height": null,
            "min_width": null,
            "object_fit": null,
            "object_position": null,
            "order": null,
            "overflow": null,
            "overflow_x": null,
            "overflow_y": null,
            "padding": null,
            "right": null,
            "top": null,
            "visibility": null,
            "width": null
          }
        },
        "341d4e4e42a44160b14b50d3f5ad16da": {
          "model_module": "@jupyter-widgets/controls",
          "model_name": "DescriptionStyleModel",
          "model_module_version": "1.5.0",
          "state": {
            "_model_module": "@jupyter-widgets/controls",
            "_model_module_version": "1.5.0",
            "_model_name": "DescriptionStyleModel",
            "_view_count": null,
            "_view_module": "@jupyter-widgets/base",
            "_view_module_version": "1.2.0",
            "_view_name": "StyleView",
            "description_width": ""
          }
        },
        "71deebae3d844a83877a16d20699cf5b": {
          "model_module": "@jupyter-widgets/base",
          "model_name": "LayoutModel",
          "model_module_version": "1.2.0",
          "state": {
            "_model_module": "@jupyter-widgets/base",
            "_model_module_version": "1.2.0",
            "_model_name": "LayoutModel",
            "_view_count": null,
            "_view_module": "@jupyter-widgets/base",
            "_view_module_version": "1.2.0",
            "_view_name": "LayoutView",
            "align_content": null,
            "align_items": null,
            "align_self": null,
            "border": null,
            "bottom": null,
            "display": null,
            "flex": null,
            "flex_flow": null,
            "grid_area": null,
            "grid_auto_columns": null,
            "grid_auto_flow": null,
            "grid_auto_rows": null,
            "grid_column": null,
            "grid_gap": null,
            "grid_row": null,
            "grid_template_areas": null,
            "grid_template_columns": null,
            "grid_template_rows": null,
            "height": null,
            "justify_content": null,
            "justify_items": null,
            "left": null,
            "margin": null,
            "max_height": null,
            "max_width": null,
            "min_height": null,
            "min_width": null,
            "object_fit": null,
            "object_position": null,
            "order": null,
            "overflow": null,
            "overflow_x": null,
            "overflow_y": null,
            "padding": null,
            "right": null,
            "top": null,
            "visibility": null,
            "width": null
          }
        },
        "0bedf18baa554d378f4d2628f642a96b": {
          "model_module": "@jupyter-widgets/controls",
          "model_name": "ProgressStyleModel",
          "model_module_version": "1.5.0",
          "state": {
            "_model_module": "@jupyter-widgets/controls",
            "_model_module_version": "1.5.0",
            "_model_name": "ProgressStyleModel",
            "_view_count": null,
            "_view_module": "@jupyter-widgets/base",
            "_view_module_version": "1.2.0",
            "_view_name": "StyleView",
            "bar_color": null,
            "description_width": ""
          }
        },
        "ad35a8e43a23434b9e2d6dcfa257b161": {
          "model_module": "@jupyter-widgets/base",
          "model_name": "LayoutModel",
          "model_module_version": "1.2.0",
          "state": {
            "_model_module": "@jupyter-widgets/base",
            "_model_module_version": "1.2.0",
            "_model_name": "LayoutModel",
            "_view_count": null,
            "_view_module": "@jupyter-widgets/base",
            "_view_module_version": "1.2.0",
            "_view_name": "LayoutView",
            "align_content": null,
            "align_items": null,
            "align_self": null,
            "border": null,
            "bottom": null,
            "display": null,
            "flex": null,
            "flex_flow": null,
            "grid_area": null,
            "grid_auto_columns": null,
            "grid_auto_flow": null,
            "grid_auto_rows": null,
            "grid_column": null,
            "grid_gap": null,
            "grid_row": null,
            "grid_template_areas": null,
            "grid_template_columns": null,
            "grid_template_rows": null,
            "height": null,
            "justify_content": null,
            "justify_items": null,
            "left": null,
            "margin": null,
            "max_height": null,
            "max_width": null,
            "min_height": null,
            "min_width": null,
            "object_fit": null,
            "object_position": null,
            "order": null,
            "overflow": null,
            "overflow_x": null,
            "overflow_y": null,
            "padding": null,
            "right": null,
            "top": null,
            "visibility": null,
            "width": null
          }
        },
        "5f106fa4b06c476da6a62b13bb63298f": {
          "model_module": "@jupyter-widgets/controls",
          "model_name": "DescriptionStyleModel",
          "model_module_version": "1.5.0",
          "state": {
            "_model_module": "@jupyter-widgets/controls",
            "_model_module_version": "1.5.0",
            "_model_name": "DescriptionStyleModel",
            "_view_count": null,
            "_view_module": "@jupyter-widgets/base",
            "_view_module_version": "1.2.0",
            "_view_name": "StyleView",
            "description_width": ""
          }
        },
        "70ad99869fc443de9a1123598e198a1c": {
          "model_module": "@jupyter-widgets/controls",
          "model_name": "HBoxModel",
          "model_module_version": "1.5.0",
          "state": {
            "_dom_classes": [],
            "_model_module": "@jupyter-widgets/controls",
            "_model_module_version": "1.5.0",
            "_model_name": "HBoxModel",
            "_view_count": null,
            "_view_module": "@jupyter-widgets/controls",
            "_view_module_version": "1.5.0",
            "_view_name": "HBoxView",
            "box_style": "",
            "children": [
              "IPY_MODEL_8b1c496cc419445aa20232f75022b561",
              "IPY_MODEL_64b6ee96232b45b390e5d01ddd8e2452",
              "IPY_MODEL_df7eff329ac846b5ad1dde7c1e536501"
            ],
            "layout": "IPY_MODEL_55e5fea1146545708f939603fadd8e39"
          }
        },
        "8b1c496cc419445aa20232f75022b561": {
          "model_module": "@jupyter-widgets/controls",
          "model_name": "HTMLModel",
          "model_module_version": "1.5.0",
          "state": {
            "_dom_classes": [],
            "_model_module": "@jupyter-widgets/controls",
            "_model_module_version": "1.5.0",
            "_model_name": "HTMLModel",
            "_view_count": null,
            "_view_module": "@jupyter-widgets/controls",
            "_view_module_version": "1.5.0",
            "_view_name": "HTMLView",
            "description": "",
            "description_tooltip": null,
            "layout": "IPY_MODEL_b3be6f4adc61425fb12dae530d1c7c37",
            "placeholder": "​",
            "style": "IPY_MODEL_ee36db3326b54af4a383803dc631270b",
            "value": "100%"
          }
        },
        "64b6ee96232b45b390e5d01ddd8e2452": {
          "model_module": "@jupyter-widgets/controls",
          "model_name": "FloatProgressModel",
          "model_module_version": "1.5.0",
          "state": {
            "_dom_classes": [],
            "_model_module": "@jupyter-widgets/controls",
            "_model_module_version": "1.5.0",
            "_model_name": "FloatProgressModel",
            "_view_count": null,
            "_view_module": "@jupyter-widgets/controls",
            "_view_module_version": "1.5.0",
            "_view_name": "ProgressView",
            "bar_style": "success",
            "description": "",
            "description_tooltip": null,
            "layout": "IPY_MODEL_2040ebc6235949f79a76a724ad0acbc4",
            "max": 5148,
            "min": 0,
            "orientation": "horizontal",
            "style": "IPY_MODEL_ddd93a1fb6504e228938d0596f1d7935",
            "value": 5148
          }
        },
        "df7eff329ac846b5ad1dde7c1e536501": {
          "model_module": "@jupyter-widgets/controls",
          "model_name": "HTMLModel",
          "model_module_version": "1.5.0",
          "state": {
            "_dom_classes": [],
            "_model_module": "@jupyter-widgets/controls",
            "_model_module_version": "1.5.0",
            "_model_name": "HTMLModel",
            "_view_count": null,
            "_view_module": "@jupyter-widgets/controls",
            "_view_module_version": "1.5.0",
            "_view_name": "HTMLView",
            "description": "",
            "description_tooltip": null,
            "layout": "IPY_MODEL_306b6a0bee9b4dd8b3e307d18e66e2b6",
            "placeholder": "​",
            "style": "IPY_MODEL_feb841444fdd4aa6961b4d344edfd531",
            "value": " 5148/5148 [00:00&lt;00:00, 62391.00it/s]"
          }
        },
        "55e5fea1146545708f939603fadd8e39": {
          "model_module": "@jupyter-widgets/base",
          "model_name": "LayoutModel",
          "model_module_version": "1.2.0",
          "state": {
            "_model_module": "@jupyter-widgets/base",
            "_model_module_version": "1.2.0",
            "_model_name": "LayoutModel",
            "_view_count": null,
            "_view_module": "@jupyter-widgets/base",
            "_view_module_version": "1.2.0",
            "_view_name": "LayoutView",
            "align_content": null,
            "align_items": null,
            "align_self": null,
            "border": null,
            "bottom": null,
            "display": null,
            "flex": null,
            "flex_flow": null,
            "grid_area": null,
            "grid_auto_columns": null,
            "grid_auto_flow": null,
            "grid_auto_rows": null,
            "grid_column": null,
            "grid_gap": null,
            "grid_row": null,
            "grid_template_areas": null,
            "grid_template_columns": null,
            "grid_template_rows": null,
            "height": null,
            "justify_content": null,
            "justify_items": null,
            "left": null,
            "margin": null,
            "max_height": null,
            "max_width": null,
            "min_height": null,
            "min_width": null,
            "object_fit": null,
            "object_position": null,
            "order": null,
            "overflow": null,
            "overflow_x": null,
            "overflow_y": null,
            "padding": null,
            "right": null,
            "top": null,
            "visibility": null,
            "width": null
          }
        },
        "b3be6f4adc61425fb12dae530d1c7c37": {
          "model_module": "@jupyter-widgets/base",
          "model_name": "LayoutModel",
          "model_module_version": "1.2.0",
          "state": {
            "_model_module": "@jupyter-widgets/base",
            "_model_module_version": "1.2.0",
            "_model_name": "LayoutModel",
            "_view_count": null,
            "_view_module": "@jupyter-widgets/base",
            "_view_module_version": "1.2.0",
            "_view_name": "LayoutView",
            "align_content": null,
            "align_items": null,
            "align_self": null,
            "border": null,
            "bottom": null,
            "display": null,
            "flex": null,
            "flex_flow": null,
            "grid_area": null,
            "grid_auto_columns": null,
            "grid_auto_flow": null,
            "grid_auto_rows": null,
            "grid_column": null,
            "grid_gap": null,
            "grid_row": null,
            "grid_template_areas": null,
            "grid_template_columns": null,
            "grid_template_rows": null,
            "height": null,
            "justify_content": null,
            "justify_items": null,
            "left": null,
            "margin": null,
            "max_height": null,
            "max_width": null,
            "min_height": null,
            "min_width": null,
            "object_fit": null,
            "object_position": null,
            "order": null,
            "overflow": null,
            "overflow_x": null,
            "overflow_y": null,
            "padding": null,
            "right": null,
            "top": null,
            "visibility": null,
            "width": null
          }
        },
        "ee36db3326b54af4a383803dc631270b": {
          "model_module": "@jupyter-widgets/controls",
          "model_name": "DescriptionStyleModel",
          "model_module_version": "1.5.0",
          "state": {
            "_model_module": "@jupyter-widgets/controls",
            "_model_module_version": "1.5.0",
            "_model_name": "DescriptionStyleModel",
            "_view_count": null,
            "_view_module": "@jupyter-widgets/base",
            "_view_module_version": "1.2.0",
            "_view_name": "StyleView",
            "description_width": ""
          }
        },
        "2040ebc6235949f79a76a724ad0acbc4": {
          "model_module": "@jupyter-widgets/base",
          "model_name": "LayoutModel",
          "model_module_version": "1.2.0",
          "state": {
            "_model_module": "@jupyter-widgets/base",
            "_model_module_version": "1.2.0",
            "_model_name": "LayoutModel",
            "_view_count": null,
            "_view_module": "@jupyter-widgets/base",
            "_view_module_version": "1.2.0",
            "_view_name": "LayoutView",
            "align_content": null,
            "align_items": null,
            "align_self": null,
            "border": null,
            "bottom": null,
            "display": null,
            "flex": null,
            "flex_flow": null,
            "grid_area": null,
            "grid_auto_columns": null,
            "grid_auto_flow": null,
            "grid_auto_rows": null,
            "grid_column": null,
            "grid_gap": null,
            "grid_row": null,
            "grid_template_areas": null,
            "grid_template_columns": null,
            "grid_template_rows": null,
            "height": null,
            "justify_content": null,
            "justify_items": null,
            "left": null,
            "margin": null,
            "max_height": null,
            "max_width": null,
            "min_height": null,
            "min_width": null,
            "object_fit": null,
            "object_position": null,
            "order": null,
            "overflow": null,
            "overflow_x": null,
            "overflow_y": null,
            "padding": null,
            "right": null,
            "top": null,
            "visibility": null,
            "width": null
          }
        },
        "ddd93a1fb6504e228938d0596f1d7935": {
          "model_module": "@jupyter-widgets/controls",
          "model_name": "ProgressStyleModel",
          "model_module_version": "1.5.0",
          "state": {
            "_model_module": "@jupyter-widgets/controls",
            "_model_module_version": "1.5.0",
            "_model_name": "ProgressStyleModel",
            "_view_count": null,
            "_view_module": "@jupyter-widgets/base",
            "_view_module_version": "1.2.0",
            "_view_name": "StyleView",
            "bar_color": null,
            "description_width": ""
          }
        },
        "306b6a0bee9b4dd8b3e307d18e66e2b6": {
          "model_module": "@jupyter-widgets/base",
          "model_name": "LayoutModel",
          "model_module_version": "1.2.0",
          "state": {
            "_model_module": "@jupyter-widgets/base",
            "_model_module_version": "1.2.0",
            "_model_name": "LayoutModel",
            "_view_count": null,
            "_view_module": "@jupyter-widgets/base",
            "_view_module_version": "1.2.0",
            "_view_name": "LayoutView",
            "align_content": null,
            "align_items": null,
            "align_self": null,
            "border": null,
            "bottom": null,
            "display": null,
            "flex": null,
            "flex_flow": null,
            "grid_area": null,
            "grid_auto_columns": null,
            "grid_auto_flow": null,
            "grid_auto_rows": null,
            "grid_column": null,
            "grid_gap": null,
            "grid_row": null,
            "grid_template_areas": null,
            "grid_template_columns": null,
            "grid_template_rows": null,
            "height": null,
            "justify_content": null,
            "justify_items": null,
            "left": null,
            "margin": null,
            "max_height": null,
            "max_width": null,
            "min_height": null,
            "min_width": null,
            "object_fit": null,
            "object_position": null,
            "order": null,
            "overflow": null,
            "overflow_x": null,
            "overflow_y": null,
            "padding": null,
            "right": null,
            "top": null,
            "visibility": null,
            "width": null
          }
        },
        "feb841444fdd4aa6961b4d344edfd531": {
          "model_module": "@jupyter-widgets/controls",
          "model_name": "DescriptionStyleModel",
          "model_module_version": "1.5.0",
          "state": {
            "_model_module": "@jupyter-widgets/controls",
            "_model_module_version": "1.5.0",
            "_model_name": "DescriptionStyleModel",
            "_view_count": null,
            "_view_module": "@jupyter-widgets/base",
            "_view_module_version": "1.2.0",
            "_view_name": "StyleView",
            "description_width": ""
          }
        }
      }
    },
    "accelerator": "GPU"
  },
  "cells": [
    {
      "cell_type": "code",
      "source": [
        "#Dependencies\n",
        "import torch\n",
        "import numpy as np"
      ],
      "metadata": {
        "id": "ntjRF5dhp4nO"
      },
      "execution_count": null,
      "outputs": []
    },
    {
      "cell_type": "markdown",
      "source": [
        "# **Tensor basics**"
      ],
      "metadata": {
        "id": "a2apqwaq011s"
      }
    },
    {
      "cell_type": "code",
      "source": [
        "#In pytorch, everything is based on tensor operations\n",
        "#From numpy we know arrays and vectors, and now in pytorch everything is a tensor\n",
        "#A tensor can have differentd dimensions: So it can be 1D, 2D, 3D...\n"
      ],
      "metadata": {
        "id": "MCLqr_PWmn4w"
      },
      "execution_count": null,
      "outputs": []
    },
    {
      "cell_type": "code",
      "source": [
        "x=torch.empty(1) #x is a tensor with size=1"
      ],
      "metadata": {
        "id": "l6RpwMCGo2s4"
      },
      "execution_count": null,
      "outputs": []
    },
    {
      "cell_type": "code",
      "source": [
        "print(x) #It prints an empty tensor; The value is not initilized yet"
      ],
      "metadata": {
        "colab": {
          "base_uri": "https://localhost:8080/"
        },
        "id": "olG0Sv9fpaLN",
        "outputId": "dc4af849-68e6-4335-dd29-a7876dbd1e89"
      },
      "execution_count": null,
      "outputs": [
        {
          "output_type": "stream",
          "name": "stdout",
          "text": [
            "tensor([2.7186e-35])\n"
          ]
        }
      ]
    },
    {
      "cell_type": "code",
      "source": [
        "x1=torch.empty(3) # This is like a 1D vector with 3 elements."
      ],
      "metadata": {
        "id": "WzFGbbY9ph0r"
      },
      "execution_count": null,
      "outputs": []
    },
    {
      "cell_type": "code",
      "source": [
        "x2=torch.empty(2,3) #This is like a 2D matrix ..."
      ],
      "metadata": {
        "id": "0Wys4HGaprMq"
      },
      "execution_count": null,
      "outputs": []
    },
    {
      "cell_type": "code",
      "source": [
        "print(x2)"
      ],
      "metadata": {
        "colab": {
          "base_uri": "https://localhost:8080/"
        },
        "id": "wuBBTkrUuAN8",
        "outputId": "87ee6e76-cb8f-44db-d0cc-cf122dd7b9e3"
      },
      "execution_count": null,
      "outputs": [
        {
          "output_type": "stream",
          "name": "stdout",
          "text": [
            "tensor([[7.7836e-35, 0.0000e+00, 3.3631e-44],\n",
            "        [0.0000e+00,        nan, 0.0000e+00]])\n"
          ]
        }
      ]
    },
    {
      "cell_type": "code",
      "source": [
        "x3=torch.empty(2,3,3) #3D\n",
        "print(x3)"
      ],
      "metadata": {
        "id": "EYY42b9rpzfz",
        "colab": {
          "base_uri": "https://localhost:8080/"
        },
        "outputId": "a297ae60-3f82-420f-81a0-b5887a7a219c"
      },
      "execution_count": null,
      "outputs": [
        {
          "output_type": "stream",
          "name": "stdout",
          "text": [
            "tensor([[[2.4567e-35, 0.0000e+00, 0.0000e+00],\n",
            "         [0.0000e+00, 0.0000e+00, 0.0000e+00],\n",
            "         [0.0000e+00, 0.0000e+00, 0.0000e+00]],\n",
            "\n",
            "        [[0.0000e+00, 0.0000e+00, 0.0000e+00],\n",
            "         [0.0000e+00, 0.0000e+00, 0.0000e+00],\n",
            "         [0.0000e+00, 0.0000e+00, 0.0000e+00]]])\n"
          ]
        }
      ]
    },
    {
      "cell_type": "code",
      "source": [
        "x=torch.rand(2,2) #create a tensor with random values."
      ],
      "metadata": {
        "id": "RKnM54ySp9QZ"
      },
      "execution_count": null,
      "outputs": []
    },
    {
      "cell_type": "code",
      "source": [
        "x0=torch.zeros(2,2)\n",
        "x1=torch.ones(2,2)"
      ],
      "metadata": {
        "id": "lJRFgl1fqIor"
      },
      "execution_count": null,
      "outputs": []
    },
    {
      "cell_type": "code",
      "source": [
        "print(x.dtype) #It is by default torch.float32  \n",
        "#We can also give it the dtype parameter\n",
        "#For instance:\n",
        "x=torch.empty(2,2,dtype=torch.int)\n"
      ],
      "metadata": {
        "colab": {
          "base_uri": "https://localhost:8080/"
        },
        "id": "UWS4KsywqPPA",
        "outputId": "a09e2662-d0ea-475d-922b-df611459c129"
      },
      "execution_count": null,
      "outputs": [
        {
          "output_type": "stream",
          "name": "stdout",
          "text": [
            "torch.float32\n"
          ]
        }
      ]
    },
    {
      "cell_type": "code",
      "source": [
        "print(x.size()) #In order to print the size/ size is a function, so we have to put parenthesis"
      ],
      "metadata": {
        "colab": {
          "base_uri": "https://localhost:8080/"
        },
        "id": "PzX1aIN0q00t",
        "outputId": "a9aa0dd7-ee95-4e95-ce11-116f0f6caddf"
      },
      "execution_count": null,
      "outputs": [
        {
          "output_type": "stream",
          "name": "stdout",
          "text": [
            "torch.Size([2, 2])\n"
          ]
        }
      ]
    },
    {
      "cell_type": "code",
      "source": [
        "#We can also create a tensor for data, for example for a python list\n",
        "L=[2,3]\n",
        "x=torch.tensor(L)\n",
        "print(x)"
      ],
      "metadata": {
        "colab": {
          "base_uri": "https://localhost:8080/"
        },
        "id": "AZEbU2qKrOWa",
        "outputId": "0720bd64-bfa7-4c0b-de3c-4abe1f1ffe19"
      },
      "execution_count": null,
      "outputs": [
        {
          "output_type": "stream",
          "name": "stdout",
          "text": [
            "tensor([2, 3])\n"
          ]
        }
      ]
    },
    {
      "cell_type": "code",
      "source": [
        "y1=torch.rand(2,2)\n",
        "y2=torch.rand(2,2)\n",
        "y=y1+y2 #or y=torch.add(x,y)\n",
        "y1.add_(x) #Modify y and add all of the elements of x to our y  #And by the way, in pytorch, every function that has a trailing underscore (_) will do an inplace operation\n",
        "y=y1-y2 #or y=torch.sub(x,y)\n",
        "y=y1*y2 #or y=torch.mul(x,y) \n",
        "y=y1/y2 #or y=torch.div(x,y)\n",
        "#and again we can do everything inplace by using the (_)\n"
      ],
      "metadata": {
        "id": "4zXXhhJFrvaq"
      },
      "execution_count": null,
      "outputs": []
    },
    {
      "cell_type": "code",
      "source": [
        "#Slicing\n",
        "x=torch.rand(5,3)\n",
        "print(\"x=\",x)\n",
        "print(\"slicing:\",x[:,0])\n",
        "print(\"tensor with 1 element: \", x[1,1])\n",
        "print(\"with item method\", x[1,1].item()) #You can use this only when you have one element in your tensor"
      ],
      "metadata": {
        "colab": {
          "base_uri": "https://localhost:8080/"
        },
        "id": "Tp1Xm9ZWyH4-",
        "outputId": "723f050f-3093-472f-ba51-977030da469f"
      },
      "execution_count": null,
      "outputs": [
        {
          "output_type": "stream",
          "name": "stdout",
          "text": [
            "x= tensor([[0.9544, 0.4223, 0.3329],\n",
            "        [0.7394, 0.3166, 0.6702],\n",
            "        [0.2047, 0.4028, 0.8621],\n",
            "        [0.3796, 0.6737, 0.0462],\n",
            "        [0.1625, 0.0374, 0.6549]])\n",
            "slicing: tensor([0.9544, 0.7394, 0.2047, 0.3796, 0.1625])\n",
            "tensor with 1 element:  tensor(0.3166)\n",
            "with item method 0.3166089653968811\n"
          ]
        }
      ]
    },
    {
      "cell_type": "code",
      "source": [
        "#Reshaping\n",
        "x=torch.rand(4,4)\n",
        "print(\"x=\",x)\n",
        "y=x.view(16) #Of course the number of elements must still the same.\n",
        "print(\"y=\",y)\n",
        "z=x.view(-1,8)  #If we don't want to put the value in one dimension, and only specify the other dimension: So here it must be 2 by 8\n",
        "print(\"z=\",z)"
      ],
      "metadata": {
        "colab": {
          "base_uri": "https://localhost:8080/"
        },
        "id": "e-pdFngQ0r2M",
        "outputId": "f65b1325-eaff-4194-c440-5a3766093a9a"
      },
      "execution_count": null,
      "outputs": [
        {
          "output_type": "stream",
          "name": "stdout",
          "text": [
            "x= tensor([[0.1677, 0.8821, 0.7469, 0.0177],\n",
            "        [0.7378, 0.7133, 0.8538, 0.4459],\n",
            "        [0.8474, 0.1801, 0.3907, 0.9194],\n",
            "        [0.0306, 0.7960, 0.7817, 0.7466]])\n",
            "y= tensor([0.1677, 0.8821, 0.7469, 0.0177, 0.7378, 0.7133, 0.8538, 0.4459, 0.8474,\n",
            "        0.1801, 0.3907, 0.9194, 0.0306, 0.7960, 0.7817, 0.7466])\n",
            "z= tensor([[0.1677, 0.8821, 0.7469, 0.0177, 0.7378, 0.7133, 0.8538, 0.4459],\n",
            "        [0.8474, 0.1801, 0.3907, 0.9194, 0.0306, 0.7960, 0.7817, 0.7466]])\n"
          ]
        }
      ]
    },
    {
      "cell_type": "code",
      "source": [
        "#Tensor to numpy\n",
        "a=torch.ones(5)\n",
        "b=a.numpy()\n",
        "print(\"a=\",a)\n",
        "print(\"Type of a: \",type(a)) #Be careful type(a) and not a.dtype, otherwise you will get the type of the elements, or let's say Data type, (which is torch.float32 in this case).\n",
        "print(\"b=\",b)\n",
        "print(\"Type of b: \",type(b)) #Be careful type(b) and not b.dtype, otherwise you will get the type of the elements(which is float32 in this case).\n",
        "#Now we have to take care; If the tensor is in the CPU and not the GPU, with this writing, a and by share the same memory location; So if you change one, the other will change\n",
        "\n",
        "by=np.zeros(5)\n",
        "a=torch.from_numpy(by)\n",
        "print(a)\n",
        "\n",
        "#Numpy to tensor\n",
        "b=np.ones(5)\n",
        "a=torch.from_numpy(b)\n",
        "print(\"a=\",a)\n",
        "print(\"b=\",b)\n",
        "b+=1\n",
        "print(\"a=\",a)\n",
        "print(\"b=\",b) #This only happens when we are working with the CPU.\n"
      ],
      "metadata": {
        "colab": {
          "base_uri": "https://localhost:8080/"
        },
        "id": "0fwy-_B40S7T",
        "outputId": "6c791792-3c71-47ad-e4cc-e13adb40411e"
      },
      "execution_count": null,
      "outputs": [
        {
          "output_type": "stream",
          "name": "stdout",
          "text": [
            "a= tensor([1., 1., 1., 1., 1.])\n",
            "Type of a:  <class 'torch.Tensor'>\n",
            "b= [1. 1. 1. 1. 1.]\n",
            "Type of b:  <class 'numpy.ndarray'>\n",
            "a= tensor([1., 1., 1., 1., 1.], dtype=torch.float64)\n",
            "b= [1. 1. 1. 1. 1.]\n",
            "a= tensor([2., 2., 2., 2., 2.], dtype=torch.float64)\n",
            "b= [2. 2. 2. 2. 2.]\n"
          ]
        }
      ]
    },
    {
      "cell_type": "code",
      "source": [
        "if torch.cuda.is_available():\n",
        "  print(\"True\")\n",
        "else:\n",
        "  print(\"False\")"
      ],
      "metadata": {
        "id": "NRMErqbfvdPy",
        "colab": {
          "base_uri": "https://localhost:8080/"
        },
        "outputId": "1296e142-f393-4104-92ff-7c60cf052a0a"
      },
      "execution_count": null,
      "outputs": [
        {
          "output_type": "stream",
          "name": "stdout",
          "text": [
            "True\n"
          ]
        }
      ]
    },
    {
      "cell_type": "code",
      "source": [
        "!nvidia-smi"
      ],
      "metadata": {
        "colab": {
          "base_uri": "https://localhost:8080/"
        },
        "id": "srLV77dgvk2c",
        "outputId": "c55b2772-2138-4019-c710-865398c326c6"
      },
      "execution_count": null,
      "outputs": [
        {
          "output_type": "stream",
          "name": "stdout",
          "text": [
            "Mon Nov 28 08:43:56 2022       \n",
            "+-----------------------------------------------------------------------------+\n",
            "| NVIDIA-SMI 460.32.03    Driver Version: 460.32.03    CUDA Version: 11.2     |\n",
            "|-------------------------------+----------------------+----------------------+\n",
            "| GPU  Name        Persistence-M| Bus-Id        Disp.A | Volatile Uncorr. ECC |\n",
            "| Fan  Temp  Perf  Pwr:Usage/Cap|         Memory-Usage | GPU-Util  Compute M. |\n",
            "|                               |                      |               MIG M. |\n",
            "|===============================+======================+======================|\n",
            "|   0  Tesla T4            Off  | 00000000:00:04.0 Off |                    0 |\n",
            "| N/A   31C    P8     9W /  70W |      3MiB / 15109MiB |      0%      Default |\n",
            "|                               |                      |                  N/A |\n",
            "+-------------------------------+----------------------+----------------------+\n",
            "                                                                               \n",
            "+-----------------------------------------------------------------------------+\n",
            "| Processes:                                                                  |\n",
            "|  GPU   GI   CI        PID   Type   Process name                  GPU Memory |\n",
            "|        ID   ID                                                   Usage      |\n",
            "|=============================================================================|\n",
            "|  No running processes found                                                 |\n",
            "+-----------------------------------------------------------------------------+\n"
          ]
        }
      ]
    },
    {
      "cell_type": "code",
      "source": [
        "#How to check if cuda toolkit is available:\n",
        "if torch.cuda.is_available():\n",
        "  print(\"Cuda is available\")\n",
        "  device=torch.device(\"cuda\")\n",
        "  #And then if you want to create a tensor on the gpu, you can do this by saying:\n",
        "  x=torch.ones(5,device=device) #This will create  a tesor and put it on the GPU\n",
        "  #or we can from first create it so simply by:\n",
        "  x=torch.ones(5)\n",
        "  #And then move it to your device(to your gpu) by:\n",
        "  y=y.to(device)\n",
        "  #And then:\n",
        "  z=x+y #This will be performed in the GPU, and it might be much faster.\n",
        "  #But be carefull: If we do z.numpy() it will return an error because numpy can only handle cpu tensors, so you have to move it back to cpu, and then transform it to numpy,\n",
        "  #and that is by doing z=z.to(\"cpu\")\n",
        "  "
      ],
      "metadata": {
        "id": "GFshmKW_7iLW"
      },
      "execution_count": null,
      "outputs": []
    },
    {
      "cell_type": "code",
      "source": [
        "#Remark: A lot of times when you define  tensor, you will observe a  \"requires_grad\" thing: \n",
        "x=torch.ones(5,requires_grad=True) #This will tell pytorch that it will need to calculate the gradients for this tensor later in your optimization steps.\n",
        "#So, whenever you have a variable in your model that you want to optimize, then you need the gradients so you need to specify requires_grad equals to True.\n"
      ],
      "metadata": {
        "id": "Vjm43K4xCqUK"
      },
      "execution_count": null,
      "outputs": []
    },
    {
      "cell_type": "markdown",
      "source": [
        "# **Autograd: Gradient computing**"
      ],
      "metadata": {
        "id": "Q8PS2VwTGIK3"
      }
    },
    {
      "cell_type": "code",
      "source": [
        "#Gradiants are essential for our model optimization --> fortunately, pytorch provides the autograd package; which can do all the computations for us.\n",
        "\n",
        "x=torch.randn(3) #randn gives a real number between -1 to 1. Mathematically, randn gives a number from Normal Distribution, whereas, rand gives a number from Uniform Distribution.\n",
        "#######Now, let's say later we want to calculate the gradients of some functions with respect to x, then what we have to do is we must specify the argument requires_grad=True  :\n",
        "x=torch.randn(3,requires_grad=True)\n",
        "print(\"x=\",x)\n",
        "#######Whenever we do operations with this tensor, pytorch will create a so-called computational graph for us\n",
        "y=x+2 #This will create the computational graph \n",
        "#x--(+)-->y\n",
        "#2/\n",
        "\n",
        "#First we do a forward pass; so here we apply the operation y=x+2, in the forward pass we calculate the output y; and since we specified that it requiers the gradient, pytorch will then automatically create\n",
        "#and store a function for us[called Add Backward], and this function is then used in the backpropagation and to get the gradients: So here, y has an attribute grad_fn: This will point to a gradient function\n",
        "#and in this case it is called Add Backward, and with this function we can then calculate the gradients in the so-called backward pass. So this will calculate the gradient of y with respect to x in this case(dy/dx).\n",
        "#print(y): look for the result of this to understand more.\n",
        "print(\"y=\",y)\n",
        "#z=y*y*2\n",
        "#z=z.mean()\n",
        "#print(\"z=\",z)\n",
        "#z.backward()\n",
        "#print(\"x.grad=\",x.grad)\n",
        "\n",
        "#But y is not a scalar, so if we do y.backward() it will prompts this error: grad can be implicitly created only for scalar outputs.\n",
        "#So, in this case we have to give it the gradient argument; So we have to create a vector of the same size.\n",
        "v=torch.tensor([.1,1.0,0.001],dtype=torch.float32)\n",
        "#and then we must pass this vector to our backward function\n",
        "y.backward(v)\n",
        "print(\"x.grad\",x.grad) #dz/dx\n"
      ],
      "metadata": {
        "colab": {
          "base_uri": "https://localhost:8080/"
        },
        "id": "WYfZohYVGOAW",
        "outputId": "36908933-72ac-4484-89f8-7c7c6e50af21"
      },
      "execution_count": null,
      "outputs": [
        {
          "output_type": "stream",
          "name": "stdout",
          "text": [
            "x= tensor([ 1.3473, -1.7253, -1.0084], requires_grad=True)\n",
            "y= tensor([3.3473, 0.2747, 0.9916], grad_fn=<AddBackward0>)\n",
            "x.grad tensor([0.1000, 1.0000, 0.0010])\n"
          ]
        }
      ]
    },
    {
      "cell_type": "code",
      "source": [
        "#Also some other thing that we should know is how we can prevent pytorch from tracking the history and calculating the grad_fn attribute. So for example sometimes during our training loop,\n",
        "#when we want to update our weights then this operation should not be part of the gradient computation.\n",
        "#For now we are going to know how to prevent the torch.randn(3,requires_grad=True) from tracking the gradients, and we have 3 options for this.\n",
        "#1) x.requires_grad_(False)\n",
        "#2) x.detach : This will create a new tensor that doesn't require the gradient expl: y=x.detach()\n",
        "#3)with torch.no_grad(): and then we can do our operations.\n",
        "x=torch.randn(3,requires_grad=True)\n",
        "print(x)\n",
        "x.requires_grad_(False)  ####And as we have said earlier, whenever a fuction has a trailing underscore in pytorch, then this means that it will modify our variable inplace:\n",
        "print(x)"
      ],
      "metadata": {
        "colab": {
          "base_uri": "https://localhost:8080/"
        },
        "id": "fTshfWn37i1e",
        "outputId": "4b4e13cb-4c97-4ca1-8f96-f168541ed70f"
      },
      "execution_count": null,
      "outputs": [
        {
          "output_type": "stream",
          "name": "stdout",
          "text": [
            "tensor([ 1.1179, -0.6114, -0.8053], requires_grad=True)\n",
            "tensor([ 1.1179, -0.6114, -0.8053])\n"
          ]
        }
      ]
    },
    {
      "cell_type": "code",
      "source": [
        "x=torch.randn(3,requires_grad=True)\n",
        "with torch.no_grad():\n",
        "  y=x+2\n",
        "  print(\"x=\",x)\n",
        "  print(\"y=\",y)\n",
        "#otherwise y will has the gradient function"
      ],
      "metadata": {
        "id": "_1asAm0t72Xv",
        "colab": {
          "base_uri": "https://localhost:8080/"
        },
        "outputId": "f90ab891-f010-479d-8d5c-757dbacb09d3"
      },
      "execution_count": null,
      "outputs": [
        {
          "output_type": "stream",
          "name": "stdout",
          "text": [
            "x= tensor([-2.2029, -0.0075,  0.4953], requires_grad=True)\n",
            "y= tensor([-0.2029,  1.9925,  2.4953])\n"
          ]
        }
      ]
    },
    {
      "cell_type": "code",
      "source": [
        "#So these are the three ways how we can stop pytorch from creating this gradient functions and tracking the history in our computational graph.\n",
        "#!!One more very important thing is that what we should also know is whenever we call the backward function, then the gradient for this tensor will be accumulated into the .grad attribute : The values will be\n",
        "#summed up"
      ],
      "metadata": {
        "id": "dxqPA1oq-jiu"
      },
      "execution_count": null,
      "outputs": []
    },
    {
      "cell_type": "code",
      "source": [
        "#Let's deal with a dummy example which simulates some model output\n",
        "weights = torch.ones(4,requires_grad=True)\n",
        "print(f'weights= {weights}')\n",
        "#Training loop\n",
        "for epoch in range(1):\n",
        "  model_output = (weights*3).sum()\n",
        "\n",
        "  model_output.backward() #To calculate the gradients\n",
        "#And now we have the gradient, so when we call weights.grad:\n",
        "  print(f'weights.grad\"={weights.grad}') #Which is the derivative of model_output/weights"
      ],
      "metadata": {
        "colab": {
          "base_uri": "https://localhost:8080/"
        },
        "id": "EJMw6WLYBfnZ",
        "outputId": "af395a07-cbe4-4d65-f925-05de24e174bf"
      },
      "execution_count": null,
      "outputs": [
        {
          "output_type": "stream",
          "name": "stdout",
          "text": [
            "weights= tensor([1., 1., 1., 1.], requires_grad=True)\n",
            "weights.grad\"=tensor([3., 3., 3., 3.])\n"
          ]
        }
      ]
    },
    {
      "cell_type": "code",
      "source": [
        "#And now if we do another iteration; if we say we have 2 iterations, then the second backward call will again accumulate the values and write them into the grad attribute\n",
        "weights = torch.ones(4,requires_grad=True)\n",
        "for epoch in range(2):\n",
        "  model_output = (weights*3).sum()\n",
        "\n",
        "  model_output.backward() #To calculate the gradients\n",
        "  print(weights.grad)\n",
        "  weights.grad.zero_() #Our gradients are correct again"
      ],
      "metadata": {
        "colab": {
          "base_uri": "https://localhost:8080/"
        },
        "id": "gqCBKMjmGnlw",
        "outputId": "7220b622-4da7-446b-d57c-f98bbeec73f9"
      },
      "execution_count": null,
      "outputs": [
        {
          "output_type": "stream",
          "name": "stdout",
          "text": [
            "tensor([3., 3., 3., 3.])\n",
            "tensor([3., 3., 3., 3.])\n"
          ]
        }
      ]
    },
    {
      "cell_type": "code",
      "source": [
        "weights = torch.ones(4,requires_grad=True)\n",
        "optimizer=torch.optim.SGD(weights,lr=0.01)\n",
        "optimizer.step()\n",
        "optimizer.zero_grad()\n",
        "####For now, the thing you should remember is that whanever we want to calculate the gradients, we must specify the requires_grad parameter and set it to true, then we can simply calculate the gradients\n",
        "#with .backward() function ,and before we want to do the next operation, or the next iteration in our optimization steps, we must empty our gradient: using the weights.grad.zero() function, and we also\n",
        "#should know how we can prevent some operations from being tracked in the computational graph."
      ],
      "metadata": {
        "id": "y8A7z8JnHNSf"
      },
      "execution_count": null,
      "outputs": []
    },
    {
      "cell_type": "markdown",
      "source": [
        "# **Backpropagation** "
      ],
      "metadata": {
        "id": "KwkXnQytIWEQ"
      }
    },
    {
      "cell_type": "code",
      "source": [
        "#Look for the illustration in the notebook :)"
      ],
      "metadata": {
        "id": "e18kd3DVIZxL"
      },
      "execution_count": null,
      "outputs": []
    },
    {
      "cell_type": "code",
      "source": [
        "#For every operation we do with our tensor, pytorch will create a graph for us: So, where at each node we apply one operation or one function with some inputs and then get an output. \n",
        "#For example :    x\\  \n",
        "#                   (*)-->z        : z=x*y : Here in this case, we use a multiplication operation: And now at these nodes, we can calculate so-called local gradients and we can use them later at the chain rule\n",
        "#                 y/                         to get the final gradient:  Here in this case:  dz/dx= dxy/dx=y and dz/dy= dxy/y=x here we have two local gradients.\n",
        "#                                            -Why do we need them? because typically our graph has more operations and at the very end we calculate a loss function that we want to minimze. So we have to \n",
        "#                                             calculate the gradient of this loss with respect to our parameter x in the beginning."
      ],
      "metadata": {
        "id": "t47t0gokWsq3"
      },
      "execution_count": null,
      "outputs": []
    },
    {
      "cell_type": "code",
      "source": [
        "#The hole concept consists of three steps: 1)Forward pass: compute loss\n",
        "#                                          2)Compute \"local\" gradients\n",
        "#                                          3)Backward pass: Compute dLoss/ dWeights using the Chain rule\n",
        "#==>> Loss, then local gradients , and then dLoss/dWeights"
      ],
      "metadata": {
        "id": "ZQyK5s0iaa3Q"
      },
      "execution_count": null,
      "outputs": []
    },
    {
      "cell_type": "code",
      "source": [
        "#Now we will be looking at a concrete example:                                                                                                  x\\\n",
        "#Here we want to use linear regression: basically we model our output with a linear combination of some weights and an input, so our ŷ=wx .        (*)-->ŷ--(-)-->s--(²)-->Loss\n",
        "#and for the loss: Loss=(ŷ-y)²=(wx-y)², Well it should be the MSE, but for simplicity, we just use the sqaurred error                           w/        y/\n",
        "#And now we want to minimize our loss: we want to know the derivative of the loss with respect to our weighs: After dealing with the forward pass, it comes the part of computing the local gradients: dloss/ds,\n",
        "#ds/dŷ, dŷ/dx and dŷ/dw.\n",
        "#And then we do a backward pass: dloss/ds, then dloss/dŷ, and finally dloss/dw (using the chain rule)\n",
        "#We can find an example in the notebook (where we've chosen to work with the case where we have at the beginnig x=1, w=1 and y=2 )\n",
        "#In the example we have found dloss/dw=-2. Let's see now here:"
      ],
      "metadata": {
        "id": "02IBThJMcRr1"
      },
      "execution_count": null,
      "outputs": []
    },
    {
      "cell_type": "code",
      "source": [
        "import torch\n",
        "import numpy as np"
      ],
      "metadata": {
        "id": "E7B4OOyd43vd"
      },
      "execution_count": null,
      "outputs": []
    },
    {
      "cell_type": "code",
      "source": [
        "x = torch.tensor(1.0)\n",
        "y=torch.tensor(2.0)\n",
        "\n",
        "w=torch.tensor(1.0,requires_grad=True)\n",
        "print(\"The first weight equals= \",w.item())\n",
        "#forward pass and compute the loss\n",
        "y_hat=w*x\n",
        "print(f'y_hat= {y_hat}')\n",
        "loss=(y_hat-y)**2\n",
        "print(\"The loss equals: \",loss.item())\n",
        "#Backward pass : Pytorch will compute the local gradients automatically for us, and also computes the backward pass automatically for us. So the only thing that we have to call is:\n",
        "loss.backward() #This is the hole gradient computation\n",
        "print(\"The first gradient after the first forward and backward pass= \",w.grad.item()) #This is the first gradient after the first forward and backward pass.\n",
        "#And the next steps should be: *Update weights\n",
        "#                              *Next forward and backward pass.... And do this for a couple of iterations.. And that's how backpropagation works\n"
      ],
      "metadata": {
        "id": "VEhofti7gfJo",
        "colab": {
          "base_uri": "https://localhost:8080/"
        },
        "outputId": "4494bcb8-8559-4821-9e44-0d8ba1d5c1c4"
      },
      "execution_count": null,
      "outputs": [
        {
          "output_type": "stream",
          "name": "stdout",
          "text": [
            "The first weight equals=  1.0\n",
            "y_hat= 1.0\n",
            "The loss equals:  1.0\n",
            "The first gradient after the first forward and backward pass=  -2.0\n"
          ]
        }
      ]
    },
    {
      "cell_type": "markdown",
      "source": [
        "# **Gradient descent using Autograd**"
      ],
      "metadata": {
        "id": "gqA17Mg7-AV0"
      }
    },
    {
      "cell_type": "code",
      "source": [
        "#In this part, we will be dealing with a concrete example on how to optimize our model with automatic gradient computation using the pytorch autograd package.\n",
        "#So we start by implementing the linear regression algorithm from scratch where we do every step  manually; So we implement the equations to calculate the model prediction and the loss function,\n",
        "#then we do a numerical computation of the gradients and implement the formula, and then we implement the gradient descent algorithm to optimize our parameters. When this is working, we see how we can replace\n",
        "#the manually computed gradients with the automatic back propagation algorithm from pytorch, and in the third step we replace the manually computed loss and parameter updates by using the loss and optimize\n",
        "#classes in pytorch, and in the final step, we replace the manually computed model prediction by implementing a  pytorch model. So when we understand most of these steps, pytorch can do most of  the work for us;\n",
        "#Of course we still have to design our model and have to know which loss and optimizer we should use, but we don't have to worry about the underlying algorithms anymore:\n",
        "\n",
        "\"\"\"1: Prediction: Manually\n",
        "      Gradients computation: Manually\n",
        "      Loss computation: Manually\n",
        "      Parameter updates: Manually\n",
        "    \n",
        "    2:Prediction: Manually\n",
        "      Gradients computation: Autograd\n",
        "      Loss computation: Manually\n",
        "      Parameter updates: Manually\n",
        "\n",
        "    3:Prediction: Manually\n",
        "      Gradients computation: Autograd\n",
        "      Loss computation: Pytorch loss\n",
        "      Parameter updates: Pytorch optimizer\n",
        "\n",
        "    4:Prediction: Pytorch model\n",
        "      Gradients computation: Autograd\n",
        "      Loss computation: Pytorch loss\n",
        "      Parameter updates: Pytorch optimizer \"\"\""
      ],
      "metadata": {
        "id": "QaFbsTdz-ivP"
      },
      "execution_count": null,
      "outputs": []
    },
    {
      "cell_type": "code",
      "source": [
        "import numpy as np\n",
        "import torch"
      ],
      "metadata": {
        "id": "q4IMNOoB-4vB"
      },
      "execution_count": null,
      "outputs": []
    },
    {
      "cell_type": "code",
      "source": [
        "#We will be using a linear regression; so we use a fuction which just does a linear combination of some weights: f=wx (we don't care about the bias here)\n",
        "#Let's say f= 2*x\n",
        "#And then let's do some training samples. So let's say:\n",
        "X=np.array([1,2,3,4],dtype=np.float32)\n",
        "Y=np.array([2,4,6,8],dtype=np.float32)\n",
        "#And now we initialize our weights:\n",
        "w=0.0#After training, this should be equal to 2.0\n",
        "#And now we have to calculate our model prediction, the loss, and the gradients; And we will be doing this manually for the fist time.\n",
        "\n",
        "#Model prediction\n",
        "def forward(x):\n",
        "  return w*x\n",
        "\n",
        "#Loss: MSE\n",
        "def loss(y,y_hat):\n",
        "  return ((y_hat-y)**2).mean()\n",
        "\n",
        "#Gradient\n",
        "#Now we have to calculate the gradient of the loss with respect to our parameters.\n",
        "#MSE=1/N*(w*x-y)²\n",
        "#Its derivative is: dJ/dw= 1/N * 2 * x *(w*x-y) :So this is the numerical computed derivative.\n",
        "def gradient(x,y,y_hat):\n",
        "  return np.dot(2*x,y_hat-y).mean()\n",
        "\n",
        "\n",
        "\n",
        "#Now let's print our prediction before the training\n",
        "print(f'Prediction before training f(5)={forward(5):.3f}')\n",
        "\n",
        "#Training\n",
        "learning_rate= 0.01\n",
        "n_iters=11\n",
        "\n",
        "for epoch in range(n_iters):\n",
        "\n",
        "  #prediction=forward pass\n",
        "  y_pred=forward(X)\n",
        "\n",
        "  #Loss\n",
        "  l=loss(Y,y_pred)  \n",
        "\n",
        "  #Gradients\n",
        "  dw=gradient(X,Y,y_pred)\n",
        "\n",
        "  #update weights (using the gradient descent algorithm)\n",
        "  w-=learning_rate* dw\n",
        "\n",
        "  if epoch % 1==0: #Why %1? Because here we want for every step.\n",
        "    print(f'epoch:<{epoch+1}: w= {w:.3f}, loss={l:8f}')\n",
        "    \n",
        "print(f'Prediction After training training f(5)={forward(5):.3f}')\n"
      ],
      "metadata": {
        "colab": {
          "base_uri": "https://localhost:8080/"
        },
        "id": "gVo3ub3TChTT",
        "outputId": "2049380d-a3ba-493e-df53-ece87de569ae"
      },
      "execution_count": null,
      "outputs": [
        {
          "output_type": "stream",
          "name": "stdout",
          "text": [
            "Prediction before training f(5)=0.000\n",
            "epoch:<1: w= 1.200, loss=30.000000\n",
            "epoch:<2: w= 1.680, loss=4.799999\n",
            "epoch:<3: w= 1.872, loss=0.768000\n",
            "epoch:<4: w= 1.949, loss=0.122880\n",
            "epoch:<5: w= 1.980, loss=0.019661\n",
            "epoch:<6: w= 1.992, loss=0.003146\n",
            "epoch:<7: w= 1.997, loss=0.000503\n",
            "epoch:<8: w= 1.999, loss=0.000081\n",
            "epoch:<9: w= 1.999, loss=0.000013\n",
            "epoch:<10: w= 2.000, loss=0.000002\n",
            "epoch:<11: w= 2.000, loss=0.000000\n",
            "Prediction After training training f(5)=10.000\n"
          ]
        }
      ]
    },
    {
      "cell_type": "code",
      "source": [
        "#Well in the precedent work, the implementation have been done manually; and now let's replace the gradient calculation"
      ],
      "metadata": {
        "id": "Az-oPG3Eb9_j"
      },
      "execution_count": null,
      "outputs": []
    },
    {
      "cell_type": "code",
      "source": [
        "#We will be using a linear regression; so we use a fuction which just does a linear combination of some weights: f=wx (we don't care about the bias here)\n",
        "#Let's say f= 2*x\n",
        "#And then let's do some training samples. So let's say:\n",
        "\n",
        "\n",
        "\n",
        "'''#################\"X, Y, and w should all be tensors.#################'''\n",
        "X=torch.tensor([1,2,3,4],dtype=torch.float32)\n",
        "Y=torch.tensor([2,4,6,8],dtype=torch.float32)\n",
        "#And now we initialize our weights:\n",
        "w=torch.tensor(0.0,dtype=torch.float32,requires_grad=True)\n",
        "#We added requires_grad=True in the w argument since we are interested in the gradient of our loss with respect to this  parameter\n",
        "\n",
        "#And now we have to calculate our model prediction, the loss,  and the gradients; and we will be doing this manually for the fist time.\n",
        "\n",
        "#Model prediction\n",
        "def forward(x):\n",
        "  return w*x\n",
        "\n",
        "#Loss: MSE\n",
        "def loss(y,y_hat):\n",
        "  return ((y_hat-y)**2).mean()\n",
        "\n",
        "\n",
        "#We will get rid of the manually computed gradient.\n",
        "'''\n",
        "#Gradient\n",
        "#Now we have to calculate the gradient of the loss with respect to our parameters.\n",
        "#MSE=1/N*(w*x-y)²\n",
        "#Its derivative is: dJ/dw= 1/N * 2 * x *(w*x-y) :So this is the numerical computed derivative.\n",
        "def gradient(x,y,y_hat):\n",
        "  return np.dot(2*x,y_hat-y).mean()\n",
        "'''\n",
        "\n",
        "\n",
        "#Now let's print our prediction before the training\n",
        "print(f'Prediction before training f(5)={forward(5):.3f}')\n",
        "\n",
        "#Training loop\n",
        "learning_rate= 0.01\n",
        "n_iters=61\n",
        "\n",
        "for epoch in range(n_iters):\n",
        "\n",
        "  #prediction=forward pass\n",
        "  y_pred=forward(X)\n",
        "\n",
        "  #Loss\n",
        "  l=loss(Y,y_pred)  \n",
        "\n",
        "  #Gradients=backward pass\n",
        "  '''dw=gradient(X,Y,y_pred)\n",
        "\n",
        "  #update weights (using the gradient descent algorithm)\n",
        "  w-=learning_rate* dw'''\n",
        "  l.backward() #This will calculate the gradient of our loss with respect to w--> Pytorch does all the computations for us.\n",
        "  #And now we update our weights, but here we want to be careful: This operation should not be part of our gradinent tracking graph: So this should not be part of the computational graph.\n",
        "  with torch.no_grad():\n",
        "    w-=learning_rate* w.grad #Our dw which is dLoss/dw has become now w.grad\n",
        "  #Also we must empty or zero the gradients again; because whenever we call backward, it will write our gradients and accumulate them in the w.grad attribute.\n",
        "  #Zero gradients:\n",
        "  w.grad.zero_()\n",
        "  if epoch %10==0:\n",
        "    print(f'epoch:<{epoch+1}: w= {w:.3f}, loss={l:8f}') #Every 10 epochs\n",
        "'''if epoch % 1==0: #Why %1? Because here we want for every step.\n",
        "    print(f'epoch:<{epoch+1}: w= {w:.3f}, loss={l:8f}')\n",
        "'''\n",
        "\n",
        "print(f'Prediction After training training f(5)={forward(5):.3f}')\n"
      ],
      "metadata": {
        "colab": {
          "base_uri": "https://localhost:8080/"
        },
        "id": "oxfzlujHjldY",
        "outputId": "79f7e8ed-7930-48ca-9512-052351091ede"
      },
      "execution_count": null,
      "outputs": [
        {
          "output_type": "stream",
          "name": "stdout",
          "text": [
            "Prediction before training f(5)=0.000\n",
            "epoch:<1: w= 0.300, loss=30.000000\n",
            "epoch:<11: w= 1.665, loss=1.162786\n",
            "epoch:<21: w= 1.934, loss=0.045069\n",
            "epoch:<31: w= 1.987, loss=0.001747\n",
            "epoch:<41: w= 1.997, loss=0.000068\n",
            "epoch:<51: w= 1.999, loss=0.000003\n",
            "epoch:<61: w= 2.000, loss=0.000000\n",
            "Prediction After training training f(5)=10.000\n"
          ]
        }
      ]
    },
    {
      "cell_type": "markdown",
      "source": [
        "# **Training pipeline: Model/ Loss/ Optimizer**"
      ],
      "metadata": {
        "id": "zw7Z4hewy0Ae"
      }
    },
    {
      "cell_type": "code",
      "source": [
        "#In this part, we are going to continue inshaa'Allah, and replace the manually compute loss and weight updates with pytorch loss and optimizers classes\n",
        "'''3:Prediction: Manually (1)\n",
        "      Gradients computation: Autograd (3)\n",
        "      Loss computation: Pytorch loss (2)\n",
        "      Parameter updates: Pytorch optimizer(4)'''"
      ],
      "metadata": {
        "colab": {
          "base_uri": "https://localhost:8080/",
          "height": 35
        },
        "id": "EGMxwC_Qy8li",
        "outputId": "1d0b3825-85ad-4e37-fb19-785c7be18dba"
      },
      "execution_count": null,
      "outputs": [
        {
          "output_type": "execute_result",
          "data": {
            "text/plain": [
              "'3:Prediction: Manually (1)\\n      Gradients computation: Autograd (3)\\n      Loss computation: Pytorch loss (2)\\n      Parameter updates: Pytorch optimizer(4)'"
            ],
            "application/vnd.google.colaboratory.intrinsic+json": {
              "type": "string"
            }
          },
          "metadata": {},
          "execution_count": 49
        }
      ]
    },
    {
      "cell_type": "code",
      "source": [
        "##Note: The general training pipeline in pytorch:\n",
        "#Typically we have 3 steps:\n",
        "#1) Design model: we design the number of inputs and outputs, and then also we define the forward pass with all the different operations or all the different layers: Design Model(input, output size, forward pass)\n",
        "#2)Costruct the loss and the optimizer\n",
        "#3) Training loop: *Compute the prediction\n",
        "#                  *The backward pass: We get the gradients and pytorch can do everything for us: We only have to define or to desing our model\n",
        "#                  *Update weights (After we have the gradients, we can then update our weights)\n",
        "#                  ->And then we iterate this a couple of time until we are done; And that's the whole pipeline."
      ],
      "metadata": {
        "id": "tbyF_DI21XMx"
      },
      "execution_count": null,
      "outputs": []
    },
    {
      "cell_type": "code",
      "source": [
        "#We will be using a linear regression; so we use a fuction which just does a linear combination of some weights: f=wx (we don't care about the bias here)\n",
        "#Let's say f= 2*x\n",
        "#And then let's do some training samples. So let's say:\n",
        "\n",
        "import torch\n",
        "import torch.nn as nn  #It's the neural network module, so that we can use some functions of this.\n",
        "\n",
        "'''X, Y, and w should all be tensors.'''\n",
        "X=torch.tensor([1,2,3,4],dtype=torch.float32)\n",
        "Y=torch.tensor([2,4,6,8],dtype=torch.float32)\n",
        "#And now we initialize our weights:\n",
        "w=torch.tensor(0.0,dtype=torch.float32,requires_grad=True)\n",
        "#We added requires_grad=True in the w argument since we are interested in the gradient of our loss with respect to this  parameter\n",
        "\n",
        "#And now we have to calculate our model prediction, the loss,  and the gradients; and we will be doing this manually for the fist time.\n",
        "\n",
        "#Model prediction\n",
        "def forward(x):\n",
        "  return w*x\n",
        "\n",
        "'''##############################\n",
        "#Loss: MSE\n",
        "def loss(y,y_hat):\n",
        "  return ((y_hat-y)**2).mean()\n",
        "'''\n",
        "loss= nn.MSELoss() #This is a callable function\n",
        "\n",
        "learning_rate= 0.01\n",
        "optimizer=torch.optim.SGD([w],lr=learning_rate)\n",
        "\n",
        "#We will get rid of the manually computed gradient.\n",
        "'''\n",
        "#Gradient\n",
        "#Now we have to calculate the gradient of the loss with respect to our parameters.\n",
        "#MSE=1/N*(w*x-y)²\n",
        "#Its derivative is: dJ/dw= 1/N * 2 * x *(w*x-y) :So this is the numerical computed derivative.\n",
        "def gradient(x,y,y_hat):\n",
        "  return np.dot(2*x,y_hat-y).mean()\n",
        "'''\n",
        "\n",
        "\n",
        "#Now let's print our prediction before the training\n",
        "print(f'Prediction before training f(5)={forward(5):.3f}')\n",
        "\n",
        "#Training loop\n",
        "n_iters=61\n",
        "for epoch in range(n_iters):\n",
        "\n",
        "  #prediction=forward pass\n",
        "  y_pred=forward(X)\n",
        "\n",
        "  #Loss\n",
        "  l=loss(Y,y_pred)\n",
        "\n",
        "\n",
        "  \n",
        "  l.backward()\n",
        "  #Update weights\n",
        "  optimizer.step() #which will do an optimization step\n",
        "  #And then we also still have to empty our gradients after the optimization step:\n",
        "  optimizer.zero_grad()\n",
        "\n",
        "\n",
        "  #THEN WE DON'T NEED TO MANUALLY UPDATE OUR WEIGHTS ANYMORE\n",
        "  \"\"\"\n",
        "  #Gradients=backward pass\n",
        "  '''dw=gradient(X,Y,y_pred)\n",
        "\n",
        "  #update weights (using the gradient descent algorithm)\n",
        "  w-=learning_rate* dw'''\n",
        "  l.backward() #This will calculate the gradient of our loss with respect to w--> Pytorch does all the computations for us.\n",
        "  #And now we update our weights, but here we want to be careful: This operation should not be part of our gradinent tracking graph: So this should not be part of the computational graph.\n",
        "  with torch.no_grad():\n",
        "    w-=learning_rate* w.grad #Our dw which is dLoss/dw has become now w.grad\n",
        "  #Also we must empty or zero the gradients again; because whenever we call backward, it will write our gradients and accumulate them in the w.grad attribute.\n",
        "  #Zero gradients:\n",
        "  w.grad.zero_()\n",
        "  \"\"\"\n",
        "  \n",
        "\n",
        "\n",
        "\n",
        "\n",
        "\n",
        "  if epoch %10==0:\n",
        "    print(f'epoch:<{epoch+1}: w= {w:.3f}, loss={l:8f}') #Every 10 epochs\n",
        "'''if epoch % 1==0: #Why %1? Because here we want for every step.\n",
        "    print(f'epoch:<{epoch+1}: w= {w:.3f}, loss={l:8f}')\n",
        "'''\n",
        "\n",
        "print(f'Prediction After training training f(5)={forward(5):.3f}')\n"
      ],
      "metadata": {
        "colab": {
          "base_uri": "https://localhost:8080/"
        },
        "id": "w-iJKsWFDIG9",
        "outputId": "180f58d9-c269-41a8-98c1-4a6730c52e23"
      },
      "execution_count": null,
      "outputs": [
        {
          "output_type": "stream",
          "name": "stdout",
          "text": [
            "Prediction before training f(5)=0.000\n",
            "epoch:<1: w= 0.300, loss=30.000000\n",
            "epoch:<11: w= 1.665, loss=1.162786\n",
            "epoch:<21: w= 1.934, loss=0.045069\n",
            "epoch:<31: w= 1.987, loss=0.001747\n",
            "epoch:<41: w= 1.997, loss=0.000068\n",
            "epoch:<51: w= 1.999, loss=0.000003\n",
            "epoch:<61: w= 2.000, loss=0.000000\n",
            "Prediction After training training f(5)=10.000\n"
          ]
        }
      ]
    },
    {
      "cell_type": "code",
      "source": [
        "#LET'S NOW CONTINUE WITH THE STEP FOUR AND REPLACE OUR MANUALLY IMPLEMENTED FORWARD METHOD WITH A PYTORCH MODEL.\n",
        "'''4:Prediction: Pytorch model\n",
        "      Gradients computation: Autograd\n",
        "      Loss computation: Pytorch loss\n",
        "      Parameter updates: Pytorch optimizer '''\n",
        "###############ALSO WE DO NOT NEED TO INITILIZE THE WEIGHT ANYMORE SINCE OUR PYTORCH MODEL KNOWS THE PARAMETERS.\n",
        "###############MOREOVER, THE SHAPES OF INPUT AND OUTPUT HAVE BEEN CHANGED: with a number of rows is the number of samples, and for each row we have the features"
      ],
      "metadata": {
        "colab": {
          "base_uri": "https://localhost:8080/",
          "height": 35
        },
        "id": "nBxISffRIFwl",
        "outputId": "6d4609b9-97fc-4ef3-ee44-ff6bf62f01e2"
      },
      "execution_count": null,
      "outputs": [
        {
          "output_type": "execute_result",
          "data": {
            "text/plain": [
              "'4:Prediction: Pytorch model\\n      Gradients computation: Autograd\\n      Loss computation: Pytorch loss\\n      Parameter updates: Pytorch optimizer '"
            ],
            "application/vnd.google.colaboratory.intrinsic+json": {
              "type": "string"
            }
          },
          "metadata": {},
          "execution_count": 45
        }
      ]
    },
    {
      "cell_type": "code",
      "source": [
        "x=torch.tensor([[1],[4],[3],[5]])\n",
        "print(x.shape)"
      ],
      "metadata": {
        "colab": {
          "base_uri": "https://localhost:8080/"
        },
        "id": "N6Xor2TrxVbJ",
        "outputId": "e40b41bd-d2ec-4ef3-e127-9cc3607e98ca"
      },
      "execution_count": null,
      "outputs": [
        {
          "output_type": "stream",
          "name": "stdout",
          "text": [
            "torch.Size([4, 1])\n"
          ]
        }
      ]
    },
    {
      "cell_type": "code",
      "source": [
        "#We will be using a linear regression; so we use a fuction which just does a linear combination of some weights: f=wx (we don't care about the bias here)\n",
        "#Let's say f= 2*x\n",
        "#And then let's do some training samples. So let's say:\n",
        "\n",
        "import torch\n",
        "import torch.nn as nn  #It's the neural network module, so that we can use some functions of this.\n",
        "\n",
        "'''X, Y, and w should all be tensors.'''\n",
        "X=torch.tensor([[1],[2],[3],[4]],dtype=torch.float32)\n",
        "Y=torch.tensor([[2],[4],[6],[8]],dtype=torch.float32)\n",
        "\n",
        "\"\"\"And now we initialize our weights:\"\"\" ###WE DO NOT NEED TO INITILIZE THE WEIGHT ANYMORE SINCE OUR PYTORCH MODEL KNOWS THE PARAMETERS.\n",
        "\"\"\"w=torch.tensor(0.0,dtype=torch.float32,requires_grad=True)\n",
        "#We added requires_grad=True in the w argument since we are interested in the gradient of our loss with respect to this  parameter\n",
        "\n",
        "#And now we have to calculate our model prediction, the loss,  and the gradients; and we will be doing this manually for the fist time.\n",
        "\n",
        "#Model prediction\n",
        "def forward(x):\n",
        "  return w*x\n",
        "\"\"\"\n",
        "\n",
        "n_samples, n_features = X.shape\n",
        "print(f'n_samples= {n_samples} and n_features={n_features}') #We have in our case 4 samples with 1 feature each\n",
        "\n",
        "#And now we define our model. So this needs an input and an output size\n",
        "input_size=n_features\n",
        "output_size=n_features\n",
        "\n",
        "model=nn.Linear(input_size,output_size)   #THIS IS ONLY ONE LAYER\n",
        "'''\n",
        "#Loss: MSE\n",
        "def loss(y,y_hat):\n",
        "  return ((y_hat-y)**2).mean()\n",
        "'''\n",
        "loss= nn.MSELoss() #This is a callable function\n",
        "\n",
        "learning_rate= 0.01\n",
        "#######Now we also have to modify our optimizer here: We don't have our weights now.\n",
        "'''optimizer=torch.optim.SGD([w],lr=learning_rate)'''\n",
        "optimizer=torch.optim.SGD(model.parameters(),lr=learning_rate) #w has become model.parameters() since as we have said in the precedent cell; pytorch knows the parameters.\n",
        "\n",
        "#We will get rid of the manually computed gradient.\n",
        "'''\n",
        "#Gradient\n",
        "#Now we have to calculate the gradient of the loss with respect to our parameters.\n",
        "#MSE=1/N*(w*x-y)²\n",
        "#Its derivative is: dJ/dw= 1/N * 2 * x *(w*x-y) :So this is the numerical computed derivative.\n",
        "def gradient(x,y,y_hat):\n",
        "  return np.dot(2*x,y_hat-y).mean()\n",
        "'''\n",
        "\n",
        "\n",
        "#Now let's print our prediction before the training\n",
        "################Also here the test variable should be a tensor: So instead of 5, let's define:###################\n",
        "X_test=torch.tensor([5],dtype=torch.float32)\n",
        "\n",
        "print(f'Prediction before training f(5)={model(X_test).item():.3f}')\n",
        "\n",
        "#Training loop\n",
        "n_iters=3000\n",
        "for epoch in range(n_iters):\n",
        "\n",
        "  #prediction=forward pass\n",
        "  '''y_pred=forward(X)'''\n",
        "  y_pred=model(X)\n",
        "\n",
        "  #Loss\n",
        "  l=loss(Y,y_pred)\n",
        "  l.backward()\n",
        "  #Update weights\n",
        "  optimizer.step() #which will do an optimization step\n",
        "  #And then we also still have to empty our gradients after the optimization step:\n",
        "  optimizer.zero_grad()\n",
        " \n",
        "\n",
        "  #THEN WE DON'T NEED TO MANUALLY UPDATE OUR WEIGHTS ANYMORE\n",
        "  \"\"\"\n",
        "  #Gradients=backward pass\n",
        "  '''dw=gradient(X,Y,y_pred)\n",
        "\n",
        "  #update weights (using the gradient descent algorithm)\n",
        "  w-=learning_rate* dw'''\n",
        "  l.backward() #This will calculate the gradient of our loss with respect to w--> Pytorch does all the computations for us.\n",
        "  #And now we update our weights, but here we want to be careful: This operation should not be part of our gradinent tracking graph: So this should not be part of the computational graph.\n",
        "  with torch.no_grad():\n",
        "    w-=learning_rate* w.grad #Our dw which is dLoss/dw has become now w.grad\n",
        "  #Also we must empty or zero the gradients again; because whenever we call backward, it will write our gradients and accumulate them in the w.grad attribute.\n",
        "  #Zero gradients:\n",
        "  w.grad.zero_()\n",
        "  \"\"\"\n",
        "  \n",
        "\n",
        "\n",
        "\n",
        "\n",
        "\n",
        "  if epoch %1000==0:\n",
        "    #If we want to print them, we have to unµpack them.\n",
        "    [w,b]=model.parameters() #w is a list of list\n",
        "    print(f'epoch:<{epoch+1}: w= {w[0][0].item():.3f}, loss={l:8f}') #Every 10 epochs\n",
        "'''if epoch % 1==0: #Why %1? Because here we want for every step.\n",
        "    print(f'epoch:<{epoch+1}: w= {w:.3f}, loss={l:8f}')\n",
        "'''\n",
        "\n",
        "print(f'Prediction After training training f(5)={model(X_test).item():.3f}')\n"
      ],
      "metadata": {
        "colab": {
          "base_uri": "https://localhost:8080/"
        },
        "id": "54phewqQL51t",
        "outputId": "0b7ea1af-75c8-4ff5-923b-a59e32e9928a"
      },
      "execution_count": null,
      "outputs": [
        {
          "output_type": "stream",
          "name": "stdout",
          "text": [
            "n_samples= 4 and n_features=1\n",
            "Prediction before training f(5)=-3.062\n",
            "epoch:<1: w= -0.185, loss=52.031708\n",
            "epoch:<1001: w= 1.989, loss=0.000172\n",
            "epoch:<2001: w= 1.999, loss=0.000000\n",
            "Prediction After training training f(5)=10.000\n"
          ]
        }
      ]
    },
    {
      "cell_type": "code",
      "source": [
        "#In our case, the model is constituted from one layer; we have done that by using: model=nn.Linear(input_size,output_size)   \n",
        "#But let's say we need a custom model; so let's write a custom linear regression model:\n",
        "\n",
        "class LinearRegression(nn.Module): \n",
        "  def __init__(self,input_dim,output_dim): #init method #These input_dim and output_dim variables equal to n_features: In our previous case it equals to 1\n",
        "    super(LinearRegression,self).__init__() #We define here super; a super class of linear regression \n",
        "    #define layers\n",
        "    self.lin= nn.Linear(input_dim,output_dim) #lin for linear layer \n",
        "  \n",
        "  #We also have to implement the forward pass in our class\n",
        "  def forward(self,x):\n",
        "    return self.lin(x)\n",
        "\n",
        "model=LinearRegression(input_size, output_size)\n"
      ],
      "metadata": {
        "id": "gbtv6_7gW2gR"
      },
      "execution_count": null,
      "outputs": []
    },
    {
      "cell_type": "code",
      "source": [
        "#So now Pytorch can do most of the work for us.. Of course we still have to design our model, and have to know which loss and optimizer we want to use.. But we don't have to worry about the \n",
        "#underlying algorithms anymore."
      ],
      "metadata": {
        "id": "b8FBP8flmKfE"
      },
      "execution_count": null,
      "outputs": []
    },
    {
      "cell_type": "markdown",
      "source": [
        "# **Linear Regression**"
      ],
      "metadata": {
        "id": "2kF0h_gVmzQn"
      }
    },
    {
      "cell_type": "code",
      "source": [
        "#This would be a kind of repetition of what we say in the previous parts.\n"
      ],
      "metadata": {
        "id": "ljV6uKcQmwkQ"
      },
      "execution_count": null,
      "outputs": []
    },
    {
      "cell_type": "code",
      "source": [
        "##Note: The general training pipeline in pytorch:\n",
        "#Typically we have 3 steps:\n",
        "#1) Design model: we design the number of inputs and outputs, and then also we define the forward pass with all the different operations or all the different layers: Design Model(input, output size, forward pass)\n",
        "#2)Costruct the loss and the optimizer\n",
        "#3) Training loop: *Compute the prediction\n",
        "#                  *The backward pass: We get the gradients and pytorch can do everything for us: We only have to define or to desing our model.\n",
        "#                  *Update weights (After we have the gradients, we can then update our weights)\n",
        "#                  ->And then we iterate this a couple of time until we are done; And that's the whole pipeline."
      ],
      "metadata": {
        "id": "KY5zGBDBEwXJ"
      },
      "execution_count": null,
      "outputs": []
    },
    {
      "cell_type": "code",
      "source": [
        "import torch\n",
        "import torch.nn as nn\n",
        "import numpy as np\n",
        "from sklearn import datasets #We want to generate a regression dataset\n",
        "import matplotlib.pyplot as plt\n",
        "#And then we do our 3 steps "
      ],
      "metadata": {
        "id": "WgtJOIzKEw2q"
      },
      "execution_count": null,
      "outputs": []
    },
    {
      "cell_type": "code",
      "source": [
        "############(0)PREPARE DATA############\n",
        "#Let's generate a regression dataset, and we can do so by:\n",
        "X_numpy,y_numpy=datasets.make_regression(n_samples=100,n_features=1,noise=20,random_state=1) #the dtype within here is double.\n",
        "#Then we want to convert this to a torch tensor.\n",
        "X=torch.from_numpy(X_numpy.astype(np.float32)) #We want to convert this into float32 data type before. If we use a double here, then we will run into some errors later, and we do the same thing with y.\n",
        "y=torch.from_numpy(y_numpy.astype(np.float32))\n",
        "#print(f'Before: y_shape equals {y.shape}')\n",
        "#print(\"y before=\",y)\n",
        "#Now let's reshape our y, because right now it has only one row, and we want to make it a column vector; So we want to put each value in one row, and the whole shape has only one column:\n",
        "y=y.view(y.shape[0],1)\n",
        "#print(f'After: y_shape equals {y.shape}')\n",
        "#print(\"y after=\",y)\n",
        "\n",
        "n_samples,n_features=y.shape\n",
        "print(f'the number of samples equals {n_samples}, and the number of features equals {n_features}')"
      ],
      "metadata": {
        "id": "4chkGungFrIQ",
        "colab": {
          "base_uri": "https://localhost:8080/"
        },
        "outputId": "b7dc1772-2930-40a6-ac61-6a02997c70c3"
      },
      "execution_count": null,
      "outputs": [
        {
          "output_type": "stream",
          "name": "stdout",
          "text": [
            "the number of samples equals 100, and the number of features equals 1\n"
          ]
        }
      ]
    },
    {
      "cell_type": "code",
      "source": [
        "############(1)MODEL############\n",
        "input_size=n_features #which equals one in our case\n",
        "output_size=1\n",
        "model=nn.Linear(input_size,output_size)"
      ],
      "metadata": {
        "id": "pU2KN4ueFJp8"
      },
      "execution_count": null,
      "outputs": []
    },
    {
      "cell_type": "code",
      "source": [
        "############(2)DEFINE THE LOSS AND THE OPTIMIZER############\n",
        "criterion = nn.MSELoss()\n",
        "learning_rate= 0.01\n",
        "optimizer=torch.optim.SGD(model.parameters(),lr=learning_rate)"
      ],
      "metadata": {
        "id": "2cuNanc7Fejx"
      },
      "execution_count": null,
      "outputs": []
    },
    {
      "cell_type": "code",
      "source": [
        "############3)THE TRAINING LOOP############\n",
        "num_epochs=100\n",
        "for epoch in range(num_epochs):\n",
        "  #Forward pass\n",
        "  y_pred=model(X)\n",
        "  #Loss\n",
        "  l=criterion(y,y_pred)\n",
        "  #Backward pass\n",
        "  l.backward() #This will do the back propagation and calculate the gradients for us.\n",
        "  #Update weights\n",
        "  optimizer.step() #which will do an optimization step\n",
        "  #And then we also still have to empty our gradients after the optimization step, because whenever we call the backward function ,this will sum up the gradients into the .grad atribute:\n",
        "  optimizer.zero_grad()\n",
        "  #Let's print some informations:\n",
        "  if (epoch+1) % 10 == 0:\n",
        "    print(f'epoch: {epoch+1}, loss = {loss.item():.4f}')\n",
        "\n",
        "\n",
        "predicted = model(X).detach().numpy() \n",
        "#Here we call our final model with all the data #Why detach? We want to prevent this operation from being tracked in our graph; in our computation graph; The X tensor has the required \n",
        "#gradients arguemen4t set to true, but now we want this to fall to be false for the predicted variable: So this will generate a new tensor where our gradient calculation attribute is false.\n",
        "plt.plot(X_numpy,y_numpy,'ro') #'ro': for red dots. #to plot all the data\n",
        "plt.plot(X_numpy,predicted,'b') #To plot our generated or approximated function\n",
        "plt.show()\n",
        "\n"
      ],
      "metadata": {
        "colab": {
          "base_uri": "https://localhost:8080/",
          "height": 442
        },
        "id": "03UBSXhHFkEs",
        "outputId": "9530158c-4c3d-4322-d39a-8a9b2b3a8799"
      },
      "execution_count": null,
      "outputs": [
        {
          "output_type": "stream",
          "name": "stdout",
          "text": [
            "epoch: 10, loss = 332.5676\n",
            "epoch: 20, loss = 332.5676\n",
            "epoch: 30, loss = 332.5676\n",
            "epoch: 40, loss = 332.5676\n",
            "epoch: 50, loss = 332.5676\n",
            "epoch: 60, loss = 332.5676\n",
            "epoch: 70, loss = 332.5676\n",
            "epoch: 80, loss = 332.5676\n",
            "epoch: 90, loss = 332.5676\n",
            "epoch: 100, loss = 332.5676\n"
          ]
        },
        {
          "output_type": "display_data",
          "data": {
            "text/plain": [
              "<Figure size 432x288 with 1 Axes>"
            ],
            "image/png": "[encoded data removed]"
          },
          "metadata": {
            "needs_background": "light"
          }
        }
      ]
    },
    {
      "cell_type": "markdown",
      "source": [
        "There is problem in the previous cell.. The correct one is the next following.."
      ],
      "metadata": {
        "id": "JJhxaxFmVdXp"
      }
    },
    {
      "cell_type": "code",
      "source": [
        "import torch\n",
        "import torch.nn as nn\n",
        "import numpy as np\n",
        "from sklearn import datasets\n",
        "import matplotlib.pyplot as plt\n",
        "\n",
        "# 0) Prepare data\n",
        "X_numpy, y_numpy = datasets.make_regression(n_samples=100, n_features=1, noise=20, random_state=4)\n",
        "\n",
        "# cast to float Tensor\n",
        "X = torch.from_numpy(X_numpy.astype(np.float32))\n",
        "y = torch.from_numpy(y_numpy.astype(np.float32))\n",
        "y = y.view(y.shape[0], 1)\n",
        "\n",
        "n_samples, n_features = X.shape\n",
        "\n",
        "# 1) Model\n",
        "# Linear model f = wx + b\n",
        "input_size = n_features\n",
        "output_size = 1\n",
        "model = nn.Linear(input_size, output_size)\n",
        "\n",
        "# 2) Loss and optimizer\n",
        "learning_rate = 0.01\n",
        "\n",
        "criterion = nn.MSELoss()\n",
        "optimizer = torch.optim.SGD(model.parameters(), lr=learning_rate)  \n",
        "\n",
        "# 3) Training loop\n",
        "num_epochs = 100\n",
        "for epoch in range(num_epochs):\n",
        "    # Forward pass and loss\n",
        "    y_predicted = model(X)\n",
        "    loss = criterion(y_predicted, y)\n",
        "    \n",
        "    # Backward pass and update\n",
        "    loss.backward()\n",
        "    optimizer.step()\n",
        "\n",
        "    # zero grad before new step\n",
        "    optimizer.zero_grad()\n",
        "\n",
        "    if (epoch+1) % 10 == 0:\n",
        "        print(f'epoch: {epoch+1}, loss = {loss.item():.4f}')\n",
        "\n",
        "# Plot\n",
        "predicted = model(X).detach().numpy()\n",
        "\n",
        "plt.plot(X_numpy, y_numpy, 'ro')\n",
        "plt.plot(X_numpy, predicted, 'b')\n",
        "plt.show()"
      ],
      "metadata": {
        "colab": {
          "base_uri": "https://localhost:8080/",
          "height": 439
        },
        "id": "rPyTu1xGVIOP",
        "outputId": "66333136-53b0-4c1c-eec0-21875b2cc552"
      },
      "execution_count": null,
      "outputs": [
        {
          "output_type": "stream",
          "name": "stdout",
          "text": [
            "epoch: 10, loss = 4138.6221\n",
            "epoch: 20, loss = 2914.6682\n",
            "epoch: 30, loss = 2080.3445\n",
            "epoch: 40, loss = 1511.4946\n",
            "epoch: 50, loss = 1123.5663\n",
            "epoch: 60, loss = 858.9636\n",
            "epoch: 70, loss = 678.4438\n",
            "epoch: 80, loss = 555.2638\n",
            "epoch: 90, loss = 471.1940\n",
            "epoch: 100, loss = 413.8060\n"
          ]
        },
        {
          "output_type": "display_data",
          "data": {
            "text/plain": [
              "<Figure size 432x288 with 1 Axes>"
            ],
            "image/png": "[encoded data removed]"
          },
          "metadata": {
            "needs_background": "light"
          }
        }
      ]
    },
    {
      "cell_type": "markdown",
      "source": [
        "# **Logistic regression**"
      ],
      "metadata": {
        "id": "7_8QK_5tUx4W"
      }
    },
    {
      "cell_type": "code",
      "source": [
        "#Once again we implement our typical pytorch pipeline with these three steps:\n",
        "#1) Design model: we design the number of inputs and outputs, and then also we define the forward pass with all the different operations or all the different layers: Design Model(input, output size, forward pass)\n",
        "#2)Costruct the loss and the optimizer\n",
        "#3) Training loop: *Compute the prediction\n",
        "#                  *The backward pass: We get the gradients and pytorch can do everything for us: We only have to define or to desing our model\n",
        "#                  *Update weights (After we have the gradients, we can then update our weights)\n",
        "#                  ->And then we iterate this a couple of time until we are done; And that's the whole pipeline."
      ],
      "metadata": {
        "id": "Xt8PyOLuU1P9"
      },
      "execution_count": null,
      "outputs": []
    },
    {
      "cell_type": "code",
      "source": [
        "#The code here should be very similar the linear regression's one"
      ],
      "metadata": {
        "id": "-5HbOmVsV3Rn"
      },
      "execution_count": null,
      "outputs": []
    },
    {
      "cell_type": "code",
      "source": [
        "from numpy.random.mtrand import random_sample\n",
        "import torch\n",
        "import torch.nn as nn\n",
        "import numpy\n",
        "from sklearn import datasets\n",
        "from sklearn.preprocessing import StandardScaler #Because we want to scale our features\n",
        "from sklearn.model_selection import train_test_split #Because we want to have a seperation of training and testing data\n",
        "import numpy as np\n",
        "##########0)Prepare the data\n",
        "#We will load the breast cancer dataset from sklearn\n",
        "bc=datasets.load_breast_cancer()  #This is a binary classification problem where we can predict cancer based on the input features\n",
        "X, y=bc.data, bc.target\n",
        "n_samples,n_features=X.shape\n",
        "#print(f'n_samples:{n_samples}, and n_features= {n_features}')\n",
        "\n",
        "X_train,X_test,y_train,y_test=train_test_split(X,y,test_size=0.2,random_state=1234)\n",
        "\n",
        "\n",
        "#Now we want to scale our features\n",
        "#Here we set up a standard scaler which will make our features to have zero mean and unit variance(https://scikit-learn.org/stable/modules/generated/sklearn.preprocessing.StandardScaler.html)\n",
        "sc=StandardScaler() #This is always recommended to do when we want to deal with a logistic regression.\n",
        "X_train=sc.fit_transform(X_train)\n",
        "X_test=sc.transform(X_test) #Here we only transform it.\n",
        "#The fit(data) method is used to compute the mean and std dev for a given feature to be used further for scaling. The transform(data) method is used to perform scaling using mean and std dev calculated \n",
        "#using the . fit() method. The fit_transform() method does both fits and transform.\n",
        "\n",
        "\n",
        "#Now we would like to convert the data to torch tensors.\n",
        "print(X_train)\n",
        "\n",
        "X_train=torch.from_numpy(X_train.astype(np.float32))\n",
        "X_test=torch.from_numpy(X_test.astype(np.float32))\n",
        "y_test=torch.from_numpy(y_test.astype(np.float32))\n",
        "y_train=torch.from_numpy(y_train.astype(np.float32))\n",
        "#And now as a last step; is to reshape our y tensor:\n",
        "\n",
        "y_train=y_train.view(y_train.shape[0],1) #We are making it as a column vector;So we want to put each value in one row only with only one column\n",
        "y_test=y_test.view(y_test.shape[0],1)"
      ],
      "metadata": {
        "colab": {
          "base_uri": "https://localhost:8080/"
        },
        "id": "Pi9Brshh0oVS",
        "outputId": "b1d98225-d0c0-49ab-d774-0a1d98967618"
      },
      "execution_count": null,
      "outputs": [
        {
          "output_type": "stream",
          "name": "stdout",
          "text": [
            "[[-0.36180827 -0.26521011 -0.31715702 ... -0.07967528 -0.52798733\n",
            "   0.2506337 ]\n",
            " [-0.8632675   0.71560604 -0.85646012 ... -0.76980239  0.44312729\n",
            "  -0.20987332]\n",
            " [-0.4334453   0.32513895 -0.41286667 ... -0.06601541 -1.1169427\n",
            "   0.0329492 ]\n",
            " ...\n",
            " [-0.479293   -0.17689018 -0.45697634 ... -0.20261414  0.18670009\n",
            "   0.17414996]\n",
            " [ 1.16835876 -0.15364809  1.17466524 ...  0.26789258  0.19828067\n",
            "  -0.23394164]\n",
            " [-0.40765597 -1.29715887 -0.42826344 ... -0.78042674 -0.88036793\n",
            "  -0.80355834]]\n"
          ]
        }
      ]
    },
    {
      "cell_type": "code",
      "source": [
        "##########1)Model\n",
        "#our model is a linear combination of weights and a bias, and then in the logistic regression case, we apply a sigmoid function in the end: #f=wx+b, sigmoid at the end.\n",
        "class LogisticRegression(nn.Module):\n",
        "  #which means: This must be derived from nn.Module\n",
        "  def __init__(self,n_input_features):\n",
        "    super(LogisticRegression,self).__init__()\n",
        "    self.linear=nn.Linear(n_input_features,1) #1 is the output size; we only have one output; One value; One class label. \n",
        "  \n",
        "  def forward(self,x):\n",
        "    y_predicted=torch.sigmoid(self.linear(x))\n",
        "    return y_predicted\n",
        "\n",
        "model=LogisticRegression(n_features) #So now our layer is of size 30 by 1 \n",
        "\n",
        "##########2)Loss and optimizer\n",
        "#The loss function now is different than in the linear regression case\n",
        "criterion=nn.BCELoss()   #Binary cross entropy loss\n",
        "learning_rate=0.01\n",
        "optimizer= torch.optim.SGD(model.parameters(),lr=learning_rate) #Inside this function is the parameters that we want to optimize\n",
        "\n",
        "\n",
        "##########3)Training loop\n",
        "num_epochs=100\n",
        "for epoch in range(num_epochs):\n",
        "  #Forward pass\n",
        "  y_pred=model(X_train)\n",
        "\n",
        "  #Loss\n",
        "  l=criterion(y_pred,y_train)\n",
        "\n",
        "  #Backward pass\n",
        "  l.backward() #This will do the back propagation and calculate the gradients for us.\n",
        "\n",
        "  #Update weights\n",
        "  optimizer.step() #which will do an optimization step: Pytorch will do all the update calculation for us.\n",
        "  #And then we also still have to empty our gradients after the optimization step, because whenever we call the backward function ,this will sum up the gradients into the .grad atribute:\n",
        "  optimizer.zero_grad()\n",
        "\n",
        "  if (epoch+1) % 10 ==0:\n",
        "    print(f'epoch:{epoch+1}, and the loss={l.item():.4f}')\n",
        "\n",
        "#Now, let's evaluate our model; So the evaluation should not be part of our computational graph where we want to track the history, So:\n",
        "with torch.no_grad():\n",
        "  y_predicted =model(X_test)\n",
        "  #Let's convert this to class labels: 0 or 1\n",
        "  #Remember that the sigmoid function will return a value between 0 and 1; And if this is larger than .5 we say that this is class 1, otherwise 0\n",
        "  y_predicted_cls=y_predicted.round() #If we didn't do the torch.no_grad(), then this would be part of the computational graph and it would track the gradient calculations for us.. Here we don't need this because we are done.\n",
        "  #Now let's calculate the accuracy\n",
        "  acc=y_predicted_cls.eq(y_test).sum() / float(y_test.shape[0]) #We have used the equals function (eq)\n",
        "  print(f'accuracy={acc:.4f}')\n"
      ],
      "metadata": {
        "colab": {
          "base_uri": "https://localhost:8080/"
        },
        "id": "ZQ2G-XcJWL90",
        "outputId": "6e99ab59-8439-4337-af28-5628862500a3"
      },
      "execution_count": null,
      "outputs": [
        {
          "output_type": "stream",
          "name": "stdout",
          "text": [
            "epoch:10, and the loss=0.6400\n",
            "epoch:20, and the loss=0.5163\n",
            "epoch:30, and the loss=0.4399\n",
            "epoch:40, and the loss=0.3882\n",
            "epoch:50, and the loss=0.3508\n",
            "epoch:60, and the loss=0.3223\n",
            "epoch:70, and the loss=0.2998\n",
            "epoch:80, and the loss=0.2814\n",
            "epoch:90, and the loss=0.2660\n",
            "epoch:100, and the loss=0.2530\n",
            "accuracy=0.8772\n"
          ]
        }
      ]
    },
    {
      "cell_type": "code",
      "source": [
        "#DIFFERENCE BETWEEN LINEAR REGRESSION AND LOGISTIC REGRESSION:\n",
        "\n",
        "#The biggest difference is that linear regression has the dependent variable as a continuous variable. Meaning, you can do math with it. 1 + 2 = 3.\n",
        "#Logistic regression is more for binary/categorical variables. Category 1 + Category 2 does not equal Category 3.\n",
        "#There are some other minor things going on behind the scenes, but that's the gist of it. Linear regression utilizes the least square method.\n",
        "#Logistic regression uses maximum likely hood. Linear regression finds the best fit line. Logistic regression uses an S-curve to best classify things. \n",
        "#Linear regression may or may not have collinearity, whereas logistic regression shouldn't.\n",
        "\n",
        "#Logistic regression is basically taking a multiple linear regression and squashing it through a logistic function: You can generelize a logistic function to classify multiple different categories, and \n",
        "#if you don't want to stick with conventional statistical methods, you can use any number of ML methods instead."
      ],
      "metadata": {
        "id": "DNwNGKSJ6RcN"
      },
      "execution_count": null,
      "outputs": []
    },
    {
      "cell_type": "code",
      "source": [
        "#DIFFERENCE BETWEEN REGRESSION AND CLASSIFICATION:\n",
        "#The output from regression is real numbers, however for classification it is classes or categories(it could be integers that represent classes); \n",
        "#And there's different models  that can be for both regression and classification"
      ],
      "metadata": {
        "id": "owWTzRI5cX24"
      },
      "execution_count": null,
      "outputs": []
    },
    {
      "cell_type": "markdown",
      "source": [
        "# **Dataset and dataloader**"
      ],
      "metadata": {
        "id": "ELF6i6-Ms6FN"
      }
    },
    {
      "cell_type": "code",
      "source": [
        "#Code for processing data samples can get messy and hard to maintain; we ideally want our dataset code to be decoupled from our model training code for better readability and modularity.\n",
        "#PyTorch provides two data primitives: torch.utils.data.DataLoader and torch.utils.data.Dataset that allow you to use pre-loaded datasets as well as your own data. \n",
        "#Dataset stores the samples and their corresponding labels, and DataLoader wraps an iterable around the Dataset to enable easy access to the samples.\n",
        "#PyTorch domain libraries provide a number of pre-loaded datasets (such as FashionMNIST) that subclass torch.utils.data.Dataset and implement functions specific to the particular data.\n",
        "#They can be used to prototype and benchmark your model. "
      ],
      "metadata": {
        "id": "i0dKH5-LaiIr"
      },
      "execution_count": null,
      "outputs": []
    },
    {
      "cell_type": "code",
      "source": [
        "###LOADING A DATASET\n",
        "#Here is an example of how to load the Fashion-MNIST dataset from TorchVision. Fashion-MNIST is a dataset of Zalando’s article images consisting of 60,000 training examples and 10,000 test examples. Each example comprises a 28×28 grayscale image and an associated label from one of 10 classes.\n",
        "#we load the FashionMNIST Dataset with the following parameters:\n",
        "#root is the path where the train/test data is stored,\n",
        "#train specifies training or test dataset,\n",
        "#download=True downloads the data from the internet if it’s not available at root.\n",
        "#transform and target_transform specify the feature and label transformations\n",
        "import torch\n",
        "from torch.utils.data import Dataset\n",
        "from torchvision import datasets\n",
        "from torchvision.transforms import ToTensor\n",
        "import matplotlib.pyplot as plt\n",
        "\n",
        "training_data = datasets.FashionMNIST(\n",
        "    root=\"data\",\n",
        "    train=True,\n",
        "    download=True,\n",
        "    transform=ToTensor()\n",
        ")\n",
        "\n",
        "test_data = datasets.FashionMNIST(\n",
        "    root=\"data\",\n",
        "    train=False,\n",
        "    download=True,\n",
        "    transform=ToTensor()\n",
        ")"
      ],
      "metadata": {
        "colab": {
          "base_uri": "https://localhost:8080/",
          "height": 423,
          "referenced_widgets": [
            "43e4739fabb447c3a3b685e2e6c50d46",
            "5d0fdf9c002a45049bb5f22114613395",
            "f84e78d925ca41a49c29f524e7a0d71d",
            "266ba5dd12b5444c9d9357d8cf4354b5",
            "21af79cb3ac1425592462a56261777e0",
            "6d9bf1bdc3cd475fb759dfc0d65b119c",
            "0044c573ce814f9dae0d26e70ee721f7",
            "d2eaaa6e826d4d858198fa45c4a83fc4",
            "55ad2026281d4a4aad7d29e3c204ba4b",
            "13e1bb50d3b74650a46b91b12da8f467",
            "9abfe2382c5c41c9bdf3e8c766fdde27",
            "b7f5144837884439aa79ae9066c9d594",
            "3a446c89fa4343e1a50edba66f1cca19",
            "44dab35374934840a1082587a77563f8",
            "c645236658a34465bf1fe2323c66c33e",
            "42e835125ce34f958291e3d0abc72c91",
            "46927d896d1646cda426e33ea2eb2069",
            "679005bd1ace42b7b5cf5551f7441eda",
            "c7dddd17eff443389077542d70170d47",
            "311e78e9a1fa465c8b40b477f14038de",
            "ba721330e99f4facabba27b7e69e9637",
            "da5b46638f3d450fb7c7085f9cf51012",
            "919d17356dd249bd8328b26f6394bead",
            "5a9b034b36bb4c1da9f5c30e9d7ba340",
            "cd5a723f5ba443b69f37b218bbc7cd36",
            "74dcba7430084d42b7f15a429c1917d8",
            "184021ea850a464f9a61f68c4efc732f",
            "adc8f53d45784fa595b32098a2b3300b",
            "341d4e4e42a44160b14b50d3f5ad16da",
            "71deebae3d844a83877a16d20699cf5b",
            "0bedf18baa554d378f4d2628f642a96b",
            "ad35a8e43a23434b9e2d6dcfa257b161",
            "5f106fa4b06c476da6a62b13bb63298f",
            "70ad99869fc443de9a1123598e198a1c",
            "8b1c496cc419445aa20232f75022b561",
            "64b6ee96232b45b390e5d01ddd8e2452",
            "df7eff329ac846b5ad1dde7c1e536501",
            "55e5fea1146545708f939603fadd8e39",
            "b3be6f4adc61425fb12dae530d1c7c37",
            "ee36db3326b54af4a383803dc631270b",
            "2040ebc6235949f79a76a724ad0acbc4",
            "ddd93a1fb6504e228938d0596f1d7935",
            "306b6a0bee9b4dd8b3e307d18e66e2b6",
            "feb841444fdd4aa6961b4d344edfd531"
          ]
        },
        "id": "unCV8g0-byFK",
        "outputId": "a5c35bc0-dac9-4add-867e-138004f6a253"
      },
      "execution_count": null,
      "outputs": [
        {
          "output_type": "stream",
          "name": "stdout",
          "text": [
            "Downloading http://fashion-mnist.s3-website.eu-central-1.amazonaws.com/train-images-idx3-ubyte.gz\n",
            "Downloading http://fashion-mnist.s3-website.eu-central-1.amazonaws.com/train-images-idx3-ubyte.gz to data/FashionMNIST/raw/train-images-idx3-ubyte.gz\n"
          ]
        },
        {
          "output_type": "display_data",
          "data": {
            "text/plain": [
              "  0%|          | 0/26421880 [00:00<?, ?it/s]"
            ],
            "application/vnd.jupyter.widget-view+json": {
              "version_major": 2,
              "version_minor": 0,
              "model_id": "43e4739fabb447c3a3b685e2e6c50d46"
            }
          },
          "metadata": {}
        },
        {
          "output_type": "stream",
          "name": "stdout",
          "text": [
            "Extracting data/FashionMNIST/raw/train-images-idx3-ubyte.gz to data/FashionMNIST/raw\n",
            "\n",
            "Downloading http://fashion-mnist.s3-website.eu-central-1.amazonaws.com/train-labels-idx1-ubyte.gz\n",
            "Downloading http://fashion-mnist.s3-website.eu-central-1.amazonaws.com/train-labels-idx1-ubyte.gz to data/FashionMNIST/raw/train-labels-idx1-ubyte.gz\n"
          ]
        },
        {
          "output_type": "display_data",
          "data": {
            "text/plain": [
              "  0%|          | 0/29515 [00:00<?, ?it/s]"
            ],
            "application/vnd.jupyter.widget-view+json": {
              "version_major": 2,
              "version_minor": 0,
              "model_id": "b7f5144837884439aa79ae9066c9d594"
            }
          },
          "metadata": {}
        },
        {
          "output_type": "stream",
          "name": "stdout",
          "text": [
            "Extracting data/FashionMNIST/raw/train-labels-idx1-ubyte.gz to data/FashionMNIST/raw\n",
            "\n",
            "Downloading http://fashion-mnist.s3-website.eu-central-1.amazonaws.com/t10k-images-idx3-ubyte.gz\n",
            "Downloading http://fashion-mnist.s3-website.eu-central-1.amazonaws.com/t10k-images-idx3-ubyte.gz to data/FashionMNIST/raw/t10k-images-idx3-ubyte.gz\n"
          ]
        },
        {
          "output_type": "display_data",
          "data": {
            "text/plain": [
              "  0%|          | 0/4422102 [00:00<?, ?it/s]"
            ],
            "application/vnd.jupyter.widget-view+json": {
              "version_major": 2,
              "version_minor": 0,
              "model_id": "919d17356dd249bd8328b26f6394bead"
            }
          },
          "metadata": {}
        },
        {
          "output_type": "stream",
          "name": "stdout",
          "text": [
            "Extracting data/FashionMNIST/raw/t10k-images-idx3-ubyte.gz to data/FashionMNIST/raw\n",
            "\n",
            "Downloading http://fashion-mnist.s3-website.eu-central-1.amazonaws.com/t10k-labels-idx1-ubyte.gz\n",
            "Downloading http://fashion-mnist.s3-website.eu-central-1.amazonaws.com/t10k-labels-idx1-ubyte.gz to data/FashionMNIST/raw/t10k-labels-idx1-ubyte.gz\n"
          ]
        },
        {
          "output_type": "display_data",
          "data": {
            "text/plain": [
              "  0%|          | 0/5148 [00:00<?, ?it/s]"
            ],
            "application/vnd.jupyter.widget-view+json": {
              "version_major": 2,
              "version_minor": 0,
              "model_id": "70ad99869fc443de9a1123598e198a1c"
            }
          },
          "metadata": {}
        },
        {
          "output_type": "stream",
          "name": "stdout",
          "text": [
            "Extracting data/FashionMNIST/raw/t10k-labels-idx1-ubyte.gz to data/FashionMNIST/raw\n",
            "\n"
          ]
        }
      ]
    },
    {
      "cell_type": "code",
      "source": [
        "###Iterating and visualizing the Dataset\n",
        "#We can index Datasets manually like a list: training_data[index]. We use matplotlib to visualize some samples in our training data.\n",
        "labels_map = {\n",
        "    0: \"T-Shirt\",\n",
        "    1: \"Trouser\",\n",
        "    2: \"Pullover\",\n",
        "    3: \"Dress\",\n",
        "    4: \"Coat\",\n",
        "    5: \"Sandal\",\n",
        "    6: \"Shirt\",\n",
        "    7: \"Sneaker\",\n",
        "    8: \"Bag\",\n",
        "    9: \"Ankle Boot\",\n",
        "}\n",
        "figure = plt.figure(figsize=(8, 8))\n",
        "cols, rows = 3, 3\n",
        "for i in range(1, cols * rows + 1):\n",
        "    sample_idx = torch.randint(len(training_data), size=(1,)).item()\n",
        "    img, label = training_data[sample_idx]\n",
        "    figure.add_subplot(rows, cols, i)\n",
        "    plt.title(labels_map[label])\n",
        "    plt.axis(\"off\")\n",
        "    plt.imshow(img.squeeze(), cmap=\"gray\")\n",
        "plt.show()"
      ],
      "metadata": {
        "colab": {
          "base_uri": "https://localhost:8080/",
          "height": 482
        },
        "id": "xT4cXqTwc-9Y",
        "outputId": "691f0ea4-2d94-4d98-bb20-c3027783658c"
      },
      "execution_count": null,
      "outputs": [
        {
          "output_type": "display_data",
          "data": {
            "text/plain": [
              "<Figure size 576x576 with 9 Axes>"
            ],
            "image/png": "[encoded data removed]"
          },
          "metadata": {
            "needs_background": "light"
          }
        }
      ]
    },
    {
      "cell_type": "code",
      "source": [
        "######Creating a custom dataset for your files"
      ],
      "metadata": {
        "id": "5lRu8Mx3lPL2"
      },
      "execution_count": null,
      "outputs": []
    },
    {
      "cell_type": "code",
      "source": [
        "#A custom Dataset class must implement three functions: __init__, __len__, and __getitem__. Take a look at this implementation; the FashionMNIST images are stored in a directory img_dir,\n",
        "#and their labels are stored separately in a CSV file annotations_file.\n",
        "#In the next sections, we’ll break down what’s happening in each of these functions."
      ],
      "metadata": {
        "id": "qZabD9dBlib_"
      },
      "execution_count": null,
      "outputs": []
    },
    {
      "cell_type": "code",
      "source": [
        "import os\n",
        "import pandas as pd\n",
        "from torchvision.io import read_image\n",
        "\n",
        "class CustomImageDataset(Dataset):\n",
        "    def __init__(self, annotations_file, img_dir, transform=None, target_transform=None): #Here we set the attributes; We have four; img_labes, img_dir, transform, target_transform\n",
        "        self.img_labels = pd.read_csv(annotations_file)\n",
        "        self.img_dir = img_dir\n",
        "        self.transform = transform\n",
        "        self.target_transform = target_transform\n",
        "\n",
        "    def __len__(self):\n",
        "        return len(self.img_labels)\n",
        "\n",
        "    def __getitem__(self, idx):\n",
        "        img_path = os.path.join(self.img_dir, self.img_labels.iloc[idx, 0])\n",
        "        image = read_image(img_path)  #It identifies the image's location on disk, and using this command, it converts that to a tensor using \"read_image\"\n",
        "        label = self.img_labels.iloc[idx, 1]\n",
        "        if self.transform:\n",
        "            image = self.transform(image)\n",
        "        if self.target_transform:\n",
        "            label = self.target_transform(label)\n",
        "        return image, label"
      ],
      "metadata": {
        "id": "Gq2sZI1wgQQn"
      },
      "execution_count": null,
      "outputs": []
    },
    {
      "cell_type": "code",
      "source": [
        "'''__init__\n",
        "The __init__ function is run once when instantiating the Dataset object. We initialize the directory containing the images, the annotations file, and both transforms (covered in more detail in the next section).\n",
        "\n",
        "The labels.csv file looks like:\n",
        "\n",
        "tshirt1.jpg, 0\n",
        "tshirt2.jpg, 0\n",
        "......\n",
        "ankleboot999.jpg, 9'''\n",
        "\n",
        "'''__len__\n",
        "The __len__ function returns the number of samples in our dataset.\n",
        "'''\n",
        "\n",
        "\n",
        "'''__getitem__\n",
        "The __getitem__ function loads and returns a sample from the dataset at the given index idx. Based on the index, it identifies the image’s location on disk, \n",
        "converts that to a tensor using read_image, retrieves the corresponding label from the csv data in self.img_labels, calls the transform functions on them (if applicable),\n",
        "and returns the tensor image and corresponding label in a tuple.\n",
        "'''"
      ],
      "metadata": {
        "colab": {
          "base_uri": "https://localhost:8080/",
          "height": 53
        },
        "id": "MDbRS6rZn39U",
        "outputId": "028fb5d2-336a-4931-f3d0-5e9a74771834"
      },
      "execution_count": null,
      "outputs": [
        {
          "output_type": "execute_result",
          "data": {
            "text/plain": [
              "'__getitem__\\nThe __getitem__ function loads and returns a sample from the dataset at the given index idx. Based on the index, it identifies the image’s location on disk, \\nconverts that to a tensor using read_image, retrieves the corresponding label from the csv data in self.img_labels, calls the transform functions on them (if applicable),\\nand returns the tensor image and corresponding label in a tuple.\\n'"
            ],
            "application/vnd.google.colaboratory.intrinsic+json": {
              "type": "string"
            }
          },
          "metadata": {},
          "execution_count": 41
        }
      ]
    },
    {
      "cell_type": "code",
      "source": [
        "########Preparing your data for training with DataLoaders###########\n",
        "\n",
        "#The Dataset retrieves our dataset’s features and labels one sample at a time. While training a model, we typically want to pass samples in “minibatches”,\n",
        "#reshuffle the data at every epoch to reduce model overfitting, and use Python’s multiprocessing to speed up data retrieval.\n",
        "#DataLoader is an iterable that abstracts this complexity for us in an easy API.\n",
        "from torch.utils.data import DataLoader\n",
        "\n",
        "train_dataloader = DataLoader(training_data, batch_size=64, shuffle=True)\n",
        "test_dataloader = DataLoader(test_data, batch_size=64, shuffle=True) #??????????? I DIDN'T UNDERSTAND THIS.\n",
        "\n",
        "\n",
        "\n",
        "\n",
        "\n",
        "########Iterate through the DataLoader###########\n",
        "\n",
        "#We have loaded that dataset into the DataLoader and can iterate through the dataset as needed. \n",
        "#Each iteration below returns a batch of train_features and train_labels (containing batch_size=64 features and labels respectively).\n",
        "#Because we specified shuffle=True, after we iterate over all batches the data is shuffled (for finer-grained control over the data loading order, take a look at Samplers).\n",
        "# Display image and label.\n",
        "train_features, train_labels = next(iter(train_dataloader))\n",
        "print(f\"Feature batch shape: {train_features.size()}\")\n",
        "print(f\"Labels batch shape: {train_labels.size()}\")\n",
        "img = train_features[0].squeeze()\n",
        "label = train_labels[0]\n",
        "plt.imshow(img, cmap=\"gray\")\n",
        "plt.show()\n",
        "print(f\"Label: {label}\")"
      ],
      "metadata": {
        "colab": {
          "base_uri": "https://localhost:8080/",
          "height": 317
        },
        "id": "RERSeBgjn_DV",
        "outputId": "a5f62d4c-e6f1-4686-87cd-1218086ada5a"
      },
      "execution_count": null,
      "outputs": [
        {
          "output_type": "stream",
          "name": "stdout",
          "text": [
            "Feature batch shape: torch.Size([128, 1, 28, 28])\n",
            "Labels batch shape: torch.Size([128])\n"
          ]
        },
        {
          "output_type": "display_data",
          "data": {
            "text/plain": [
              "<Figure size 432x288 with 1 Axes>"
            ],
            "image/png": "[encoded data removed]"
          },
          "metadata": {
            "needs_background": "light"
          }
        },
        {
          "output_type": "stream",
          "name": "stdout",
          "text": [
            "Label: 6\n"
          ]
        }
      ]
    },
    {
      "cell_type": "code",
      "source": [
        "#2nd code for datasets and dataloaders:"
      ],
      "metadata": {
        "id": "SP1THCkivbvo"
      },
      "execution_count": null,
      "outputs": []
    },
    {
      "cell_type": "code",
      "source": [
        "import torch\n",
        "import torchvision\n",
        "from torch.utils.data import Dataset, DataLoader\n",
        "import numpy as np\n",
        "import math\n",
        "\n",
        "# gradient computation etc. not efficient for whole data set\n",
        "# -> divide dataset into small batches\n",
        "\n",
        "'''\n",
        "# training loop\n",
        "for epoch in range(num_epochs):\n",
        "    # loop over all batches\n",
        "    for i in range(total_batches):\n",
        "        batch_x, batch_y = ...\n",
        "'''\n",
        "# epoch = one forward and backward pass of ALL training samples\n",
        "# batch_size = number of training samples used in one forward/backward pass #العدد متاع البيانات إلى باش يصلح بالنسبة ليهم كل مرة\n",
        "# epoch = one forward and backward pass of ALL training samples\n",
        "# batch_size = number of training samples used in one forward/backward pass\n",
        "# --> DataLoader can do the batch computation for us\n",
        "# Implement a custom Dataset:\n",
        "# inherit Dataset\n",
        "# implement __init__ , __getitem__ , and __len__\n",
        "\n",
        "class nxtDataset(Dataset):\n",
        "\n",
        "    def __init__(self):\n",
        "        # Initialize data, download, etc.\n",
        "        # read with numpy or pandas\n",
        "        xy = np.loadtxt('./data/nxt/nxt.csv', delimiter=',', dtype=np.float32, skiprows=1)\n",
        "        self.n_samples = xy.shape[0]\n",
        "\n",
        "        # here the first column is the class label, the rest are the features\n",
        "        self.x_data = torch.from_numpy(xy[:, 1:]) # size [n_samples, n_features]\n",
        "        self.y_data = torch.from_numpy(xy[:, [0]]) # size [n_samples, 1]\n",
        "        #n_samples, x_data, and y_data are the three attributes of our class\n",
        "\n",
        "    # support indexing such that dataset[i] can be used to get i-th sample\n",
        "    def __getitem__(self, index):\n",
        "        return self.x_data[index], self.y_data[index]\n",
        "\n",
        "    # we can call len(dataset) to return the size\n",
        "    def __len__(self):\n",
        "        return self.n_samples\n",
        "\n",
        "#Create dataset\n",
        "dataset = nxtDataset()\n",
        "\n",
        "# get first sample and unpack\n",
        "first_data = dataset[0] #Using the __get__ function\n",
        "features, labels = first_data\n",
        "print(features, labels)\n",
        "\n",
        "# Load whole dataset with DataLoader\n",
        "# shuffle: shuffle data, good for training\n",
        "# num_workers: faster loading with multiple subprocesses\n",
        "# !!! IF YOU GET AN ERROR DURING LOADING, SET num_workers TO 0 !!!\n",
        "\n",
        "train_loader = DataLoader(dataset=dataset,\n",
        "                          batch_size=4,\n",
        "                          shuffle=True,\n",
        "                          num_workers=2) #This might make loading faster, because it's using multiple subprocesses.\n",
        "\n",
        "# convert to an iterator and look at one random sample\n",
        "dataiter = iter(train_loader)\n",
        "data = dataiter.next()\n",
        "features, labels = data #unpacking\n",
        "print(features, labels)\n",
        "\n",
        "#Now we can also iterate over the whole dataloader; Not only to get the \"next\" item; by doing a dummy trzining loop.\n",
        "\n",
        "# Dummy Training loop\n",
        "num_epochs = 2\n",
        "total_samples = len(dataset)\n",
        "n_iterations = math.ceil(total_samples/4) # Math.ceil() function always rounds up and returns the smaller integer greater than or equal to a given number.\n",
        "print(total_samples, n_iterations)\n",
        "for epoch in range(num_epochs):\n",
        "    for i, (inputs, labels) in enumerate(train_loader):\n",
        "    #This is the second loop; The loop over the train loader.\n",
        "        # here: 178 samples, batch_size = 4, n_iters=178/4=44.5 -> 45 iterations\n",
        "        # Run your training process\n",
        "        if (i+1) % 5 == 0:\n",
        "            print(f'Epoch: {epoch+1}/{num_epochs}, Step {i+1}/{n_iterations}| Inputs {inputs.shape} | Labels {labels.shape}')\n",
        " "
      ],
      "metadata": {
        "id": "Ig8DgsjqsbWu"
      },
      "execution_count": null,
      "outputs": []
    },
    {
      "cell_type": "code",
      "source": [
        "#Also pytorch has some already built-in datasets;torchvision.datasets\n",
        "# e.g. MNIST, Fashion-MNIST, CIFAR10, COCO\n",
        "#For instance: torchvision.datasets.MNIST()"
      ],
      "metadata": {
        "id": "TK6UmQRm3Hme"
      },
      "execution_count": null,
      "outputs": []
    },
    {
      "cell_type": "markdown",
      "source": [
        "# **Dataset transforms**"
      ],
      "metadata": {
        "id": "XtzjeDop_uZt"
      }
    },
    {
      "cell_type": "code",
      "source": [
        "import torch\n",
        "import torchvision\n",
        "\n",
        "dataset=torchvision.datasets.MNIST(\n",
        "    root='./data',\n",
        "    transform=torchvision.transforms.ToTensor() #This function will convert images or numpy arrays to tensors, and pytorch already has a lot of transforms implemented; https://pytorch.org/vision/stable/transforms.html\n",
        ")"
      ],
      "metadata": {
        "id": "yw3G3RgiAeq4"
      },
      "execution_count": null,
      "outputs": []
    },
    {
      "cell_type": "code",
      "source": [
        "#We are going to make use of the precedent code, the nxt, by adding transforms.\n",
        "import torch\n",
        "import torchvision\n",
        "from torch.utils.data import Dataset, DataLoader\n",
        "import numpy as np\n",
        "import math\n",
        "\n",
        "# gradient computation etc. not efficient for whole data set\n",
        "# -> divide dataset into small batches\n",
        "\n",
        "'''\n",
        "# training loop\n",
        "for epoch in range(num_epochs):\n",
        "    # loop over all batches\n",
        "    for i in range(total_batches):\n",
        "        batch_x, batch_y = ...\n",
        "'''\n",
        "# epoch = one forward and backward pass of ALL training samples\n",
        "# batch_size = number of training samples used in one forward/backward pass #العدد متاع البيانات إلى باش يصلح بالنسبة ليهم كل مرة\n",
        "# epoch = one forward and backward pass of ALL training samples\n",
        "# batch_size = number of training samples used in one forward/backward pass\n",
        "# --> DataLoader can do the batch computation for us\n",
        "# Implement a custom Dataset:\n",
        "# inherit Dataset\n",
        "# implement __init__ , __getitem__ , and __len__\n",
        "\n",
        "class nxtDataset(Dataset):\n",
        "\n",
        "    def __init__(self,transform=None):   ''''Here we added'''\n",
        "     \n",
        "        xy = np.loadtxt('./data/nxt/nxt.csv', delimiter=',', dtype=np.float32, skiprows=1)\n",
        "        self.n_samples = xy.shape[0]\n",
        "\n",
        "        '''Note that we do not convert to tensor here'''\n",
        "        self.x = xy[:, 1:] '''We are going  to leave this as a numpy array.. and then let's implement a ToTensor class which will then be passed to our dataset'''\n",
        "        self.y=  xy[:, [0]]\n",
        "        self.transform=transform '''Here we added''' #and we also have to make some changes to our __getitem__ function\n",
        "    \n",
        "    '''#Here we would like to apply a transform if it is available'''\n",
        "    def __getitem__(self, index):\n",
        "        sample=self.x_data[index], self.y_data[index]\n",
        "\n",
        "        if self.transform:\n",
        "          #which is same like !=None\n",
        "          sample=self.transform(sample)\n",
        "        return sample\n",
        "    def __len__(self):\n",
        "        return self.n_samples\n",
        "\n",
        "'''Here we added'''\n",
        "#Now, let's create some custom transform classes: \n",
        "class ToTensor():\n",
        "  '''The only thing we need to implement is __call__ method'''\n",
        "  def __class__(self,sample):\n",
        "    #So this is a callable object\n",
        "    #What we do first here is that we unpack our samples\n",
        "    inputs,targets=sample\n",
        "    return torch.from_numpy(inputs), torch.from_numpy(targets)\n",
        "\n",
        "#Let's add now another custom transform\n",
        "class MulTransform():\n",
        "  def __init__(self,factor):\n",
        "    self.factor=factor\n",
        "\n",
        "  def __class__(self,sample):\n",
        "    inputs,target=sample #Unpacking the sample\n",
        "    inputs*=self.factor\n",
        "    return inputs,target\n",
        "    return\n",
        "\n",
        "''''The following is newely added'''\n",
        "#Create dataset\n",
        "dataset = nxtDataset(transform=ToTensor)\n",
        "\n",
        "# get first sample and unpack\n",
        "first_data = dataset[0] #Using the __get__ function\n",
        "features, labels = first_data\n",
        "print(features, labels)\n",
        "\n",
        "\n",
        "\n",
        "\n",
        "\n",
        "composed=torchvision.transforms.Compose([ToTensor(),MulTransform(2)])\n",
        "dataset2=nxtDataset(transform=composed)\n",
        "# get first sample and unpack\n",
        "first_data = dataset[0] #Using the __get__ function\n",
        "features, labels = first_data\n",
        "print(features, labels)\n",
        "'''And finishes here'''\n",
        "\n",
        "\n",
        "\n",
        "# Load whole dataset with DataLoader\n",
        "# shuffle: shuffle data, good for training\n",
        "# num_workers: faster loading with multiple subprocesses\n",
        "# !!! IF YOU GET AN ERROR DURING LOADING, SET num_workers TO 0 !!!\n",
        "\n",
        "train_loader = DataLoader(dataset=dataset,\n",
        "                          batch_size=4,\n",
        "                          shuffle=True,\n",
        "                          num_workers=2) #This might make loading faster, because it's using multiple subprocesses.\n",
        "\n",
        "# convert to an iterator and look at one random sample\n",
        "dataiter = iter(train_loader)\n",
        "data = dataiter.next()\n",
        "features, labels = data #unpacking\n",
        "print(features, labels)\n",
        "\n",
        "#Now we can also iterate over the whole dataloader; Not only to get the \"next\" item; by doing a dummy trzining loop.\n",
        "\n",
        "# Dummy Training loop\n",
        "num_epochs = 2\n",
        "total_samples = len(dataset)\n",
        "n_iterations = math.ceil(total_samples/4) # Math.ceil() function always rounds up and returns the smaller integer greater than or equal to a given number.\n",
        "print(total_samples, n_iterations)\n",
        "for epoch in range(num_epochs):\n",
        "    for i, (inputs, labels) in enumerate(train_loader):\n",
        "    #This is the second loop; The loop over the train loader.\n",
        "        # here: 178 samples, batch_size = 4, n_iters=178/4=44.5 -> 45 iterations\n",
        "        # Run your training process\n",
        "        if (i+1) % 5 == 0:\n",
        "            print(f'Epoch: {epoch+1}/{num_epochs}, Step {i+1}/{n_iterations}| Inputs {inputs.shape} | Labels {labels.shape}')\n",
        " "
      ],
      "metadata": {
        "id": "o85gVo2qHRzw"
      },
      "execution_count": null,
      "outputs": []
    },
    {
      "cell_type": "markdown",
      "source": [
        "# **Softmax & cross-entropy**"
      ],
      "metadata": {
        "id": "QGlap62a8gl2"
      }
    },
    {
      "cell_type": "code",
      "source": [
        "##These are one of the most common functions used in neural networks\n",
        "#   *Softmax: S(Yi)=e⁽Yi⁾/ ‎Σ e⁽Yj⁾ : It applies the exponential function to each element and normalizes it by dividing by the sum of all these exponentials: Basically it squashes the output between 0 and 1.\n",
        "#    so we get probabilities => The sum of the outputs is equal to 1  \n",
        "import torch\n",
        "import torch.nn as nn\n",
        "import numpy as np\n",
        "\n",
        "def softmax(x):\n",
        "  return np.exp(x) / np.sum(np.exp(x),axis=0)\n",
        "\n",
        "x=np.array([2.0,1.0,0.1])\n",
        "outputs=softmax(x)\n",
        "print('softmax numpy',outputs)\n",
        "\n",
        "#We can also calculate it using pytorch\n",
        "x1=torch.tensor([2.0,1.0,0.1])\n",
        "outputs=torch.softmax(x1,dim=0) #We should specify the dimension==0, So it computes it along the first axis\n",
        "print(\"Softmax torch\",outputs)\n"
      ],
      "metadata": {
        "colab": {
          "base_uri": "https://localhost:8080/"
        },
        "id": "ApUOan8H9GYV",
        "outputId": "bd57dfd4-5626-4857-9d13-101197244a7b"
      },
      "execution_count": null,
      "outputs": [
        {
          "output_type": "stream",
          "name": "stdout",
          "text": [
            "softmax numpy [0.65900114 0.24243297 0.09856589]\n",
            "Softmax torch tensor([0.6590, 0.2424, 0.0986])\n"
          ]
        }
      ]
    },
    {
      "cell_type": "code",
      "source": [
        "#A lot of times, the softmax function is combined with the so-called cross-entropy loss.. So this measures the performance of our classification model whose output is a probability between 0 and 1.\n",
        "#And it can be used in multi-class problems, and the loss increases as the predicted probability diverges from the actual label. So the better our prediction, the lower our loss.\n",
        "#But we should pay attention here; Our Y must be One-Hot encodded class labels\n",
        "####Let's see how we can do this in numpy:\n",
        "import torch\n",
        "import torch.nn as nn\n",
        "import numpy as np\n",
        "def cross_entropy(actual,predicted):\n",
        "  loss=-np.sum(actual*np.log(predicted))\n",
        "  return loss # We can also normalize it, but we will not do this here: /float(predicted.shape[0]) : By dividing it by the number of samples\n",
        "\n",
        "#y must be one hot encoded\n",
        "#If class 0: [1 0 0]\n",
        "#If class 1: [0 1 0]\n",
        "#If class 2: [0 0 1]\n",
        "Y=np.array([1,0,0])\n",
        "\n",
        "#Y_pred has probabilities\n",
        "Y_pred_good = np.array([0.7,0.2,0.1])\n",
        "Y_pred_bad = np.array([0.1,0.3,0.6])\n",
        "l1=cross_entropy(Y,Y_pred_good)\n",
        "l2=cross_entropy(Y,Y_pred_bad)\n",
        "\n",
        "print(f'The loss for the good prediction is {l1:.4f}')\n",
        "print(f'The loss for the bad prediction is {l2:.4f}')"
      ],
      "metadata": {
        "colab": {
          "base_uri": "https://localhost:8080/"
        },
        "id": "o8aKIEaorn-K",
        "outputId": "09354eb8-d204-45b2-96cb-413956961575"
      },
      "execution_count": null,
      "outputs": [
        {
          "output_type": "stream",
          "name": "stdout",
          "text": [
            "The loss for the good prediction is 0.3567\n",
            "The loss for the bad prediction is 2.3026\n"
          ]
        }
      ]
    },
    {
      "cell_type": "code",
      "source": [
        "#Now let's see how we can do this using pytorch\n",
        "loss= nn.CrossEntropyLoss()\n",
        "'''Be Careful!\n",
        "nn.CrossEntroyLoss applies\n",
        "nn.LogSoftmax + nn.NLLLoss (negative log likelihood loss)\n",
        "--> No softmax in last layer!\n",
        "Y has class labels, not One-Hot!\n",
        "Y_pred has raw scores(logits), no softmax!\n",
        "\n",
        "Now Let's see this in practice:'''\n",
        "#Let's set our labels:\n",
        "Y=torch.tensor([0]) #Here we only put the correct class label: The class 0 is the correct answer.\n",
        "#We must be careful about the size; This has the size nsamples*nclasses: In our case nsamples=1*nclasses=3\n",
        "Y_pred_good=torch.tensor([[2.0,1.0,0.1]])  #This is an array of arrays.. And remeber; this are the raw values; We didn't apply the softmax, and here, the class 0 has the highest value; So this is a good prediction\n",
        "Y_pred_bad=torch.tensor([[0.1,4.0,2.0]])\n",
        "\n",
        "l1=loss(Y_pred_good,Y)\n",
        "l2=loss(Y_pred_bad,Y)\n",
        "print(\"l1=\",l1)\n",
        "print(\"l1=\",l1.item())\n",
        "print(\"l2\",l2)\n",
        "print(\"l2=\",l2.item())\n",
        "\n",
        "#Now to get the actual predictions:\n",
        "_,prediction1=torch.max(Y_pred_good,1) #Why 1? Along the 1st dimension\n",
        "_,prediction2=torch.max(Y_pred_bad,1) \n",
        "#--> prediction1 and prediction2 get the indices of the maximum; That's why we did _,prediction1\n",
        "print(f'prediction1:{prediction1}')\n",
        "print(f'prediction2:{prediction2}')\n",
        "\n",
        "\"\"\"\n",
        "\n",
        "And to understand more:\n",
        " k=torch.tensor([[4,9,2]])\n",
        " print(torch.max(k,1))\n",
        "\n",
        "#Then we got:\n",
        "torch.return_types.max(\n",
        "values=tensor([9]),\n",
        "indices=tensor([1]))\n",
        "\"\"\"\n"
      ],
      "metadata": {
        "id": "k5kKFaoC3KFR"
      },
      "execution_count": null,
      "outputs": []
    },
    {
      "cell_type": "code",
      "source": [
        "#What's also very good is that the loss in pytorch allows for a multiple samples.. So let's increase our samples here.\n",
        "\n",
        "#Now we have 3 samples with 3 classes for each.\n",
        "Y=torch.tensor([2,0,1])\n",
        "#We must be careful about the size of the prediction; This has the size nsamples*nclasses: In our case nsamples=3*nclasses=3\n",
        "Y_pred_good=torch.tensor([[0.4,1.0,2.0],[2.0,1.0,0.5],[0.1,2,0.1]])\n",
        "Y_pred_bad=torch.tensor([[0.1,2,0.1],[0.4,1.0,2.0],[2.0,1.0,0.5]])\n",
        "#And then we can compute again the cross-entropy loss with multpile samples\n",
        "l1=loss(Y_pred_good,Y)\n",
        "l2=loss(Y_pred_bad,Y)\n",
        "print(\"l2\",l1) #The loss overall\n",
        "print(\"l2=\",l2) #The loss overall\n",
        "\n",
        "#Now to get the actual predictions:\n",
        "_,prediction1=torch.max(Y_pred_good,1) #Why 1? Along the 1st dimension\n",
        "_,prediction2=torch.max(Y_pred_bad,1) \n",
        "#--> prediction1 and prediction2 get the indices of the maximum; That's why we did _,prediction1\n",
        "print(f'prediction1:{prediction1}')\n",
        "print(f'prediction2:{prediction2}')"
      ],
      "metadata": {
        "colab": {
          "base_uri": "https://localhost:8080/"
        },
        "id": "MwF-5iQi4y5c",
        "outputId": "62411632-911d-47e4-a89b-57caffb7fee9"
      },
      "execution_count": null,
      "outputs": [
        {
          "output_type": "stream",
          "name": "stdout",
          "text": [
            "l2 tensor(0.3923)\n",
            "l2= tensor(1.8923)\n",
            "prediction1:tensor([2, 0, 1])\n",
            "prediction2:tensor([1, 2, 0])\n"
          ]
        }
      ]
    },
    {
      "cell_type": "code",
      "source": [
        "#Now we are going to see how a typical neural network looks like; For instance; a multi-class classification\n",
        "\n",
        "#Binary  classification:\n",
        "class NeuralNet(nn.Module):\n",
        "  def __init__(self,input_size,hidden_size, num_classes):\n",
        "    super(NeuralNet,self).__init__()\n",
        "    self.linear1=nn.linear(input_size,hidden_size)\n",
        "    self.relu=nn.ReLU()\n",
        "    self.linear2=nn.linear(hidden_size,num_classes)\n",
        "  \n",
        "  def forward(self, x):\n",
        "    out=self.linear1(x)\n",
        "    out=self.relu(out)\n",
        "    out=self.linear2(out)\n",
        "    #no softmax at the end\n",
        "    return out\n",
        "MyModel=NeuralNet(input_size=28*28,hidden_size=5,num_classes=3)\n",
        "criterion=nn.CrossEntropyLoss()\n",
        "\n",
        "\n",
        "#If it's a case of binary classification:\n",
        "#We can have num_classes=1, and then apply a sigmoid function; It returns a probability; and then for example say if >0.5, then Yes, else NO.\n",
        "#In pyTorch: Use nn.BCELoss() which is Binary Cross Entropy.\n",
        "#ALSO DON'T FORGET: SIGMOID AT THE END!\n"
      ],
      "metadata": {
        "id": "4YdfNIkxEg9G"
      },
      "execution_count": null,
      "outputs": []
    },
    {
      "cell_type": "code",
      "source": [
        "#Now let's have a look at our neural net in a binary classification case:\n",
        "\n",
        "#Binary classification:\n",
        "class NeuralNet(nn.Module):\n",
        "  def __init__(self,input_size,hidden_size):\n",
        "    super(NeuralNet,self).__init__()\n",
        "    self.linear1=nn.linear(input_size,hidden_size)\n",
        "    self.relu=nn.ReLU()\n",
        "    self.linear2=nn.linear(hidden_size,1)\n",
        "  \n",
        "  def forward(self, x):\n",
        "    out=self.linear1(x)\n",
        "    out=self.relu(out)\n",
        "    out=self.linear2(out)\n",
        "    #Sigmoid at the end\n",
        "    y_pred=torch.sigmoid(out)\n",
        "    return y_pred\n",
        "\n",
        "MyModel=NeuralNet(input_size=28*28,hidden_size=5)\n",
        "criterion=nn.BCELoss()\n"
      ],
      "metadata": {
        "id": "dBRynQssnsML"
      },
      "execution_count": null,
      "outputs": []
    },
    {
      "cell_type": "code",
      "source": [
        "#The last structure is also what we used in the logistic regression part. You can check that out..."
      ],
      "metadata": {
        "id": "v-OIOxWAosg5"
      },
      "execution_count": null,
      "outputs": []
    },
    {
      "cell_type": "markdown",
      "source": [
        "# **Activation functions**"
      ],
      "metadata": {
        "id": "7ZwnXi7Go-VK"
      }
    },
    {
      "cell_type": "code",
      "source": [
        "#Activation functions apply a non-linear transformation and decide wether a neron should be activated or not\n",
        "#Why to use activation functions? Without activation functions our network is basically just a stacked linear regression model( regression*regression*regression)\n",
        "#With non-linear transformations, our network can learn better and perform more complex tasks!\n",
        "#After each layer, we typically use an activation function.\n",
        "#Most popular activation functions are: 1)Step function 2)Sigmoid 3)TanH 4)ReLU 5)Leaky ReLU 6) Softmax\n",
        "#1)Step function: Not used in practice\n",
        "#2)Sigmoid: Typically in the last layer of a binary classification problem\n",
        "#3)TanH: Hidden layers\n",
        "#4)ReLU: If you don't know what to use, just use a ReLU for hidden layers\n",
        "#5)Leaky ReLU: Improved version of ReLU. Tries to solve the vanishing gradient problem, because with a normal ReLU, our values in the negative part are zero; This means that also the gradient later in \n",
        "#              the backpropagation is zero, and when the gradient is zero, then this means that these weights will never be updated. So these neurons won't learn anything==The neurons are dead.\n",
        "#              So, whanever you notice that your weights won't update\n",
        "#6)Softmax: Good in the last layer in multi-class classification problems.\n",
        "\n",
        "\n",
        "#And now, let's jump to the code, and see how we can use them in pytorch\n",
        "#So, we have 2 options; Option1: Create nn modules. Option2: Use activation functions directly in forward pass\n",
        "\n",
        "##############Option1 (Create nn modules)\n",
        "#For instance:\n",
        "#Binary classification:\n",
        "class NeuralNet(nn.Module):\n",
        "  def __init__(self,input_size,hidden_size):\n",
        "    super(NeuralNet,self).__init__()\n",
        "    self.linear1=nn.linear(input_size,hidden_size)\n",
        "    self.relu=nn.ReLU() ########################## We create our ReLU module here, and we can get that from the torch.nn module\n",
        "    self.linear2=nn.linear(hidden_size,1)\n",
        "    self.sigmoid=nn.Sigmoid()\n",
        "      \n",
        "  def forward(self, x):\n",
        "    out=self.linear1(x)\n",
        "    out=self.relu(out)\n",
        "    out=self.linear2(out)\n",
        "    #Sigmoid at the end\n",
        "    out=self.sigmoid(out)\n",
        "    return out\n",
        "\n",
        "\n",
        " ############Option2 (Use activation functions directly in forward pass)\n",
        " class NeuralNet(nn.module):\n",
        "   def __init__(self,input_size,hidden_size):\n",
        "     super(NeuralNet,self).__init__()\n",
        "     self.linear1=nn.linear(input_size,hidden_size)\n",
        "     self.linear2=nn.linear(hidden_size,1)\n",
        "  def forward(self,x):\n",
        "    out=torch.relu(self.linear1(x)) ################### We are using the torch.sigmoid function directly; This is just from the torch API.a\n",
        "    out=torch.sigmoid(self.linear2(out)) \n",
        "    return out\n",
        "'''So either torch.nn.Sigmoid, or torch.sigmoid'''\n",
        "\n",
        "#####Remark: Sometimes, there's some activation functions that are not available with torch API directly(option2), but they are available in torch.nn.functional: So import torch.nn.functional as F.\n",
        "#           For example, torch.nn.functional.leaky_relu() is only available this way... Also, as we have been saying, F.relu is just the same as torch.relu\n",
        "\n"
      ],
      "metadata": {
        "id": "3CKptjPbpBIi"
      },
      "execution_count": null,
      "outputs": []
    },
    {
      "cell_type": "markdown",
      "source": [
        "# **Feed-Forward Neural Net**"
      ],
      "metadata": {
        "id": "PT0Phxhs99Q2"
      }
    },
    {
      "cell_type": "code",
      "source": [
        "#MNIST\n",
        "#Dataloader, Transformation\n",
        "#Multilayer neural net, activation function\n",
        "#Loss and optimizer\n",
        "#Training loop (batch training)\n",
        "#Model evaluation\n",
        "#GPU support\n",
        "\n",
        "#Today, we are going to implement our first multi-layer neural network that can do digit classification based on the the famous MNIST dataset.\n",
        "#In this part, we are going to put all the things from the last sections together; So, we use the dataloader to load our dataset, we apply a transform to the dataset. Then we will implement our neural net\n",
        "#with input layer, hidden layer, and output layer. And we will, also, apply activation functions. Then, we set up the loss and optimizer, and implement the training loop that can use batch training.\n",
        "#And finally we evaluate our model and calculate the accuracy, and additionally, we will make sure that our whole code can also run on the GPU if we have GPU support."
      ],
      "metadata": {
        "id": "KPRyffX2-IxU"
      },
      "execution_count": null,
      "outputs": []
    },
    {
      "cell_type": "code",
      "source": [
        "import torch\n",
        "import torch.nn as nn\n",
        "import torchvision #for the dataset\n",
        "import torchvision.transforms as transforms\n",
        "import matplotlib.pyplot as plt #To show you some data later\n",
        "\n",
        "#device configuration\n",
        "if torch.cuda.is_available():\n",
        "  print(\"Cuda is available\")\n",
        "  device=torch.device(\"cuda\")\n",
        "else:\n",
        "  device=torch.device(\"cpu\")\n",
        "\n",
        "#Hyper parameters\n",
        "input_size= 784 #which is 28by28; So we are flattening this array to be 1D tensor.\n",
        "hidden_size = 100\n",
        "num_classes = 10 #Since we have 10 different classes\n",
        "num_epochs = 2\n",
        "batch_size =100\n",
        "learning_rate = 0.001\n",
        "\n",
        "#Dataset: MNIST\n",
        "train_dataset =torchvision.datasets.MNIST(root='./data/', train=True,transform=transforms.ToTensor(),download=True)\n",
        "test_dataset =torchvision.datasets.MNIST(root='./data/', train=False,transform=transforms.ToTensor()) #We don't need it to download anymore.\n",
        "#root==where it has to be stored\n",
        "#So now, let's continue and create the dataloader:\n",
        "train_loader = torch.utils.data.DataLoader(dataset=train_dataset,batch_size=batch_size,shuffle=True)\n",
        "test_loader = torch.utils.data.DataLoader(dataset=test_dataset,batch_size=batch_size,shuffle=False) #Here shuffle is false because it doesn't matter for the evaluation.\n",
        "#And now, let's have a look at one batch of this data:\n",
        "examples=iter(train_loader) #we convert it to an iter object\n",
        "samples, labels=examples.next()        #here we called the \"Next\" method\n",
        "print(f'the size of samples equals: {samples.shape} and the size of labels equals {labels.shape}') #100 because our batch_size is 100, so we have 100 samples in our batch,\n",
        "#and for the number of channels.. For the labels, we have: size of labels equals torch.Size([100]): For each class label, we have one value.\n",
        "\n",
        "#An iterator is an object that contains a countable number of values.\n",
        "#An iterator is an object that can be iterated upon, meaning that you can traverse through all the values.\n",
        "#Technically, in Python, an iterator is an object which implements the iterator protocol, which consist of the methods __iter__() and __next__().\n",
        "\n",
        "#Example: \n",
        "#mytuple = (\"apple\", \"banana\", \"cherry\")\n",
        "#myit = iter(mytuple)\n",
        "\n",
        "#print(next(myit))\n",
        "#print(next(myit))\n",
        "#print(next(myit))\n",
        "#>>apple\n",
        "#>>banana\n",
        "#>>cherry\n",
        "\n",
        "#Let's plot something:\n",
        "for i in range(6):\n",
        "  plt.subplot(2,3,i+1)\n",
        "  plt.imshow(samples[i][0],cmap='gray') #why [0]? because we want to access the first channel$\n",
        "plt.show()\n"
      ],
      "metadata": {
        "colab": {
          "base_uri": "https://localhost:8080/",
          "height": 302
        },
        "id": "zFc6nOrkFHkU",
        "outputId": "95fcd1da-7551-42ef-f6c8-1a3742bcfde9"
      },
      "execution_count": null,
      "outputs": [
        {
          "output_type": "stream",
          "name": "stdout",
          "text": [
            "Cuda is available\n",
            "the size of samples equals: torch.Size([100, 1, 28, 28]) and the size of labels equals torch.Size([100])\n"
          ]
        },
        {
          "output_type": "display_data",
          "data": {
            "text/plain": [
              "<Figure size 432x288 with 6 Axes>"
            ],
            "image/png": "[encoded data removed]"
          },
          "metadata": {
            "needs_background": "light"
          }
        }
      ]
    },
    {
      "cell_type": "code",
      "source": [
        "#And now we want to classify these digits. For this, we want to setup a fully connected neural network with one hidden layer.\n",
        "class NeuralNet(nn.Module):\n",
        "  def __init__(self,input_size,hidden_size,num_classes):\n",
        "    super(NeuralNet,self).__init__()\n",
        "    self.l1=nn.Linear(input_size,hidden_size)\n",
        "    self.relu=nn.ReLU()\n",
        "    self.l2=nn.Linear(hidden_size,num_classes)\n",
        "  \n",
        "  def forward(self,x):\n",
        "    out=self.l1(x)\n",
        "    out=self.relu(out)\n",
        "    out=self.l2(out)\n",
        "    #Be careful!! Not to apply a softmax activation function here as usual in multiclass classification problems, because in a second we will see that we are going to use \n",
        "    #crossentropy loss, and this will apply the softmax for us.\n",
        "    return out\n",
        "    #So this is our whole model.\n",
        "    \n",
        "model=NeuralNet(input_size,hidden_size,num_classes)\n",
        "\n",
        "#Loss and optimizer\n",
        "criterion=nn.CrossEntropyLoss() #And as we have said, this will apply the softmax for us\n",
        "optimizer=torch.optim.Adam(model.parameters(),lr=learning_rate)\n",
        "\n",
        "\n",
        "#Training loop\n",
        "#First let's define the number of total steps, and this is the length of the training loader.\n",
        "n_total_steps=len(train_loader) #OF COURSE MAN(We don't devide by batch size, because every item in data_loader represents a one singel batch; which is in our case equal to 100)\n",
        "\n",
        "for epoch in range(num_epochs):\n",
        "  #Now we loop over all the batches\n",
        "  for i, (images,labels) in enumerate(train_loader):\n",
        "    #The enumerate function will give us the actual index, and the data; which is a tuple of the images and the labels\n",
        "\n",
        "    #First, we have to reshape our images, because if we have a look at the shape, then we see that this is [100,1,28,28]\n",
        "    #And now we set our input size as  #784, so our images tensor needs the size [100,784]\n",
        "\n",
        "    images=images.reshape(-1,28*28).to(device) \n",
        "    labels=labels.to(device)\n",
        "\n",
        "    #Forward pass\n",
        "    outputs=model(images)\n",
        "  \n",
        "    loss= criterion(outputs,labels) #This will get the predicted outputs and the actual labels\n",
        "\n",
        "    #Backward pass\n",
        "    optimizer.zero_grad() #To empty the values in the gradient attribute\n",
        "    loss.backward() #This will do the back propagation\n",
        "    optimizer.step() #This will do an update step and update the parameters for us\n",
        "\n",
        "\n",
        "    if (i+1) % 100 ==0:\n",
        "      print(f'epoch {epoch+1} / {num_epochs}, step {i+1} / {n_total_steps}, loss={loss.item():.4f}')\n",
        "\n",
        "##Test and evaluation\n",
        "#For this we don't want to compute the gradients for all the steps we do. So we want to wrap this in a with torch.no_grad()\n",
        "with torch.no_grad():\n",
        "  n_correct=0 #The number of correct predictions\n",
        "  n_samples=0\n",
        "  #And then we loop over all the batches in the test samples\n",
        "  for images,labels in test_loader:\n",
        "    images=images.reshape(-1,28*28).to(device)\n",
        "    labels=labels.to(device)\n",
        "    outputs= model(images) ##This is our trained model now; The model.parameters() in the optimizer are its..\n",
        "    #Then, let's get the actual predictions\n",
        "    #Now to get the actual predictions:\n",
        "    _,predictions=torch.max(outputs,1) #Why 1? Along the 1st dimension .. The torch.max function will return the value and the index.. So we are interested in the actual index\n",
        "    #So this is the class label\n",
        "    n_samples+=labels.shape[0] #So this will give us the number of samples in the current batch.. so should be 100.\n",
        "    n_correct+=(predictions== labels).sum().item() #For each correct prediction, we will add 1\n",
        "  #And then when we are done with the loop, we calculate the total accuracy by saying:\n",
        "  acc=100.0*(n_correct/n_samples)\n",
        "  print(f'accuracy={acc}')"
      ],
      "metadata": {
        "colab": {
          "base_uri": "https://localhost:8080/"
        },
        "id": "_rG9sMhxOEup",
        "outputId": "e3ae0f07-5035-4c78-9729-1a3a9a556841"
      },
      "execution_count": null,
      "outputs": [
        {
          "output_type": "stream",
          "name": "stdout",
          "text": [
            "epoch 1 / 2, step 100 / 600, loss=0.4855\n",
            "epoch 1 / 2, step 200 / 600, loss=0.2752\n",
            "epoch 1 / 2, step 300 / 600, loss=0.2584\n",
            "epoch 1 / 2, step 400 / 600, loss=0.3462\n",
            "epoch 1 / 2, step 500 / 600, loss=0.2945\n",
            "epoch 1 / 2, step 600 / 600, loss=0.2588\n",
            "epoch 2 / 2, step 100 / 600, loss=0.2329\n",
            "epoch 2 / 2, step 200 / 600, loss=0.1848\n",
            "epoch 2 / 2, step 300 / 600, loss=0.0882\n",
            "epoch 2 / 2, step 400 / 600, loss=0.1684\n",
            "epoch 2 / 2, step 500 / 600, loss=0.1501\n",
            "epoch 2 / 2, step 600 / 600, loss=0.1718\n",
            "accuracy=95.36\n"
          ]
        }
      ]
    },
    {
      "cell_type": "markdown",
      "source": [
        "# **CNN**"
      ],
      "metadata": {
        "id": "JHsQhXNL2wvN"
      }
    },
    {
      "cell_type": "code",
      "source": [
        "#In this part we are going to implement a convolutional neural network and do image classification based on the CIFAR-10 dataset; it consists of 60000 32x32 colour images in 10 classes, and it's directly \n",
        "#available in pytorch.\n",
        "#So; conv nets are similar to ordinary neural nets; They are made up of neurons that have learnable weights and biases. And the main difference now  is that conv nets mainly work on image data, and apply\n",
        "#the so-called convolutional filters; So a typical conv net architecture looks like \"/home/nour/Desktop/_NextAV/_2022/_AI course/CNN.png\": CONV-RELU-COV-RELU -POOL- CONV-RELU-CONV-RELU -POOL- CONV-RELU-CONV-RELU -POOL- FC\n",
        "#We have different convolutional layers, and optional activation functions followed by so-called pooling layers, and these layers are used to automatically learn some features from the image..and then at the end,\n",
        "#we have one or more fully connected layers for the actual classification task. So, this is a typical architecture of a CNN, and these convolutional filters they work by applying a filter kernel to our image, \n",
        "#And the size of the resulting image will be less than the initial image unless we do padding.\n",
        "#Remark: Max pooling ins used to reduce the computational cost by reducing the size of the image; This reduces the number of parameters that our model has to learn. And it also helps to avoid overfitting,\n",
        "#by providing an abstarcted form of the input"
      ],
      "metadata": {
        "id": "awn7Q03O2ykv"
      },
      "execution_count": null,
      "outputs": []
    },
    {
      "cell_type": "code",
      "source": [
        "import torch\n",
        "import torch.nn as nn\n",
        "import torch.nn.functional as F \n",
        "import torchvision\n",
        "import torchvision.transforms as transforms\n",
        "import matplotlib.pyplot as plt\n",
        "import numpy as np\n",
        "\n",
        "#Device configuration\n",
        "device=torch.device(\"cuda\" if torch.cuda.is_available() else \"cpu\")\n",
        "\n",
        "#Hyper-parameters\n",
        "num_epochs=4\n",
        "batch_size=4\n",
        "learning_rate=0.001\n",
        "\n",
        "#Dataset has PILImage images of range [0,1]\n",
        "#We transfom them to Tensors of normalized range [-1,1]\n",
        "transform=transforms.Compose(\n",
        "    [transforms.ToTensor(),\n",
        "     transforms.Normalize((0.5,0.5,0.5),(0.5,0.5,0.5))]\n",
        "     )\n",
        "train_dataset=torchvision.datasets.CIFAR10(root='./data',train=True, download=True,transform=transform)\n",
        "test_dataset=torchvision.datasets.CIFAR10(root='./data',train=False, download=True,transform=transform)\n",
        "train_loader=torch.utils.data.DataLoader(train_dataset, batch_size=batch_size, shuffle=True)\n",
        "test_loader=torch.utils.data.DataLoader(test_dataset, batch_size=batch_size, shuffle=False)\n",
        "\n",
        "classes= ('plane', 'car', 'bird', 'cat', 'deer', 'dog', 'frog', 'horse', 'ship', 'truck')\n",
        "\n",
        "#Implement conv net\n",
        "class convNet(nn.Module):\n",
        "  def __init__(self):\n",
        "    super(convNet,self).__init__()\n",
        "    self.conv1=nn.Conv2d(3,6,5) #Here we have to specify the sizes; the input_channel_sizes=3 because our images have three color channels.. and the output_channel_size is 6, and the kernel size is five(5x5)\n",
        "    self.pool=nn.MaxPool2d(2,2) #With kernel_size=2, and a stride of 2(After each operation we shift 2 pixels to the right) #Pooling will be used twice.\n",
        "    self.conv2=nn.Conv2d(6,16,5)\n",
        "    #So now we have our convolutional layers, and now let' set up the fully connected layer\n",
        "    self.fc1 = nn.Linear(16*5*5,120) #######Why is that like this? We can change 120 and 84, but (16x5x5) and 10 should be fixed. But why (16x5x5)? well we have as input layer [4,3,32,32].. After the first conv,\n",
        "    #it's [4,6,28,28], after pool it's [4,6,14,14],after the second convolution layer; it's [4,16,12,10].. then we apply another pooling; so the final size is [4,16,5,5]: 16 layer/ 5x5 images.\n",
        "    #So now, after these convolutional layers, when we put them into our classification layers, we want to flatten the size, so we want to flatten our 3D tensor to a 1D tensor.\n",
        "    self.fc2=nn.Linear(120,84)\n",
        "    self.fc3=nn.Linear(84,10)\n",
        "\n",
        "\n",
        "\n",
        "\n",
        "\n",
        "  def forward(self,x):\n",
        "    #So now we have the correct sizes; so we have all the layers defined, and now we have to apply them in the forward pass.4\n",
        "    x=self.pool(F.relu(self.conv1(x))) #Of course the activation function does not change the size\n",
        "    #Then we do the same thing with the second convolutional layer.\n",
        "    x=self.pool(F.relu(self.conv2(x)))\n",
        "    #And now, we have to pass it to the first fully connected layer, and for this, we have to flatten it.\n",
        "    x=x.view(-1,16*5*5) #The first size we can simply say -1; So pytorch can automatically define the correct size for us; So (-1) is the number of batches; The number of samples we have in our batch here: So 4 in this case\n",
        "    #Now we have our tensor flattened\n",
        "    x=F.relu(self.fc1(x))\n",
        "    x=F.relu(self.fc2(x))\n",
        "    x=self.fc3(x)\n",
        "    #And no activation function at the end; and no softmax either; since it's already included in our loss\n",
        "    return x\n",
        "\n",
        "\n",
        "model=convNet().to(device)\n",
        "\n",
        "criterion = nn.CrossEntropyLoss()\n",
        "optimizer = torch.optim.SGD(model.parameters(),lr=learning_rate)\n",
        "\n",
        "n_total_steps=len(train_loader)\n",
        "for epoch in range(num_epochs):\n",
        "  for i, (images,labels) in enumerate(train_loader):\n",
        "    #origin shape: [4,3,32,32]=4,3,1024\n",
        "    #input_layer: 3 input channels, 6 output channels, 5 kernel size\n",
        "    images=images.to(device)\n",
        "    labels=labels.to(device)\n",
        "\n",
        "    #Forward pass\n",
        "    outputs=model(images)\n",
        "    loss=criterion(outputs,labels)\n",
        "\n",
        "\n",
        "    #Backward and optimize\n",
        "    optimizer.zero_grad()\n",
        "    loss.backward()\n",
        "    optimizer.step()\n",
        "\n",
        "    if(i+1) % 2000==0:\n",
        "      print(f'Epoch [{epoch+1}/{num_epochs}],Step [{i+1}/{n_total_steps}], Loss: {loss.item():.4f}')\n",
        "\n",
        "print('Finished Training') \n",
        "\n",
        "with torch.no_grad():\n",
        "  n_correct = 0\n",
        "  n_samples = 0\n",
        "  n_class_correct = [0 for i in range(10)]\n",
        "  n_class_samples = [0 for i in range(10)]\n",
        "  for images, labels in test_loader:\n",
        "    images = images.to(device)\n",
        "    labels = labels.to(device)\n",
        "    outputs = model(images)\n",
        "    #max returns (value,index)\n",
        "    _,predicted = torch.max(outputs,1)\n",
        "    n_samples+=labels.size(0)\n",
        "    n_correct+=(predicted==labels).sum().item()\n",
        "\n",
        "    for i in range(batch_size):\n",
        "      label = labels[i]\n",
        "      pred = predicted[i]\n",
        "      if (label==pred):\n",
        "        n_class_correct[label]+=1\n",
        "      n_class_samples[label]+=1\n",
        "  acc=100.0* n_correct /n_samples\n",
        "  print(f'Accracy of the network: {acc}%')\n",
        "\n",
        "  for i in range(10):\n",
        "    acc = 100.0 * n_class_correct[i] / n_class_samples[i]\n",
        "    print(f'Accuracy of {classes[i]}:{acc}%')\n",
        "#The accuracy is not at that good, since this is just a test: for instance we trained just for 4 epochsb"
      ],
      "metadata": {
        "colab": {
          "base_uri": "https://localhost:8080/"
        },
        "id": "fgYMcLpm4ebF",
        "outputId": "ac16efa2-a624-4eaf-8691-ee246f3e45de"
      },
      "execution_count": null,
      "outputs": [
        {
          "output_type": "stream",
          "name": "stdout",
          "text": [
            "Files already downloaded and verified\n",
            "Files already downloaded and verified\n",
            "Epoch [1/4],Step [2000/12500], Loss: 2.2801\n",
            "Epoch [1/4],Step [4000/12500], Loss: 2.3110\n",
            "Epoch [1/4],Step [6000/12500], Loss: 2.2909\n",
            "Epoch [1/4],Step [8000/12500], Loss: 2.3115\n",
            "Epoch [1/4],Step [10000/12500], Loss: 2.2892\n",
            "Epoch [1/4],Step [12000/12500], Loss: 2.2961\n",
            "Epoch [2/4],Step [2000/12500], Loss: 2.2926\n",
            "Epoch [2/4],Step [4000/12500], Loss: 2.3207\n",
            "Epoch [2/4],Step [6000/12500], Loss: 2.3379\n",
            "Epoch [2/4],Step [8000/12500], Loss: 1.9387\n",
            "Epoch [2/4],Step [10000/12500], Loss: 2.1477\n",
            "Epoch [2/4],Step [12000/12500], Loss: 1.9570\n",
            "Epoch [3/4],Step [2000/12500], Loss: 1.9758\n",
            "Epoch [3/4],Step [4000/12500], Loss: 1.0404\n",
            "Epoch [3/4],Step [6000/12500], Loss: 1.9084\n",
            "Epoch [3/4],Step [8000/12500], Loss: 1.5731\n",
            "Epoch [3/4],Step [10000/12500], Loss: 1.6099\n",
            "Epoch [3/4],Step [12000/12500], Loss: 1.2970\n",
            "Epoch [4/4],Step [2000/12500], Loss: 1.9955\n",
            "Epoch [4/4],Step [4000/12500], Loss: 1.3933\n",
            "Epoch [4/4],Step [6000/12500], Loss: 1.0973\n",
            "Epoch [4/4],Step [8000/12500], Loss: 1.4496\n",
            "Epoch [4/4],Step [10000/12500], Loss: 1.4042\n",
            "Epoch [4/4],Step [12000/12500], Loss: 1.0976\n",
            "Finished Training\n",
            "Accracy of the network: 44.67%\n",
            "Accuracy of plane:58.1%\n",
            "Accuracy of car:46.6%\n",
            "Accuracy of bird:22.7%\n",
            "Accuracy of cat:48.1%\n",
            "Accuracy of deer:32.8%\n",
            "Accuracy of dog:43.2%\n",
            "Accuracy of frog:37.2%\n",
            "Accuracy of horse:49.5%\n",
            "Accuracy of ship:53.9%\n",
            "Accuracy of truck:54.6%\n"
          ]
        }
      ]
    },
    {
      "cell_type": "markdown",
      "source": [
        "# **Transfer learning**"
      ],
      "metadata": {
        "id": "SlINR4AlVyFZ"
      }
    },
    {
      "cell_type": "code",
      "source": [],
      "metadata": {
        "id": "hQi2XrvKV2I9"
      },
      "execution_count": null,
      "outputs": []
    }
  ]
}